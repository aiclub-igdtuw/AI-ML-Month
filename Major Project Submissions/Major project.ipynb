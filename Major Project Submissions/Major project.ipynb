{
 "cells": [
  {
   "cell_type": "code",
   "execution_count": 55,
   "id": "ffc94891",
   "metadata": {},
   "outputs": [],
   "source": [
    "import pandas as pd\n",
    "import numpy as np\n",
    "import matplotlib.pyplot as plt\n",
    "from sklearn.model_selection import train_test_split\n",
    "from sklearn.metrics import confusion_matrix\n",
    "from sklearn import datasets\n",
    "from sklearn.pipeline import make_pipeline\n",
    "from sklearn.preprocessing import StandardScaler\n",
    "from sklearn.svm import LinearSVC, SVC\n",
    "from sklearn.metrics import accuracy_score\n",
    "from sklearn.neural_network import MLPClassifier\n",
    "from sklearn.linear_model import LogisticRegression\n",
    "from sklearn.tree import DecisionTreeClassifier\n",
    "from sklearn.ensemble import RandomForestClassifier, GradientBoostingClassifier\n",
    "from sklearn.naive_bayes import GaussianNB\n",
    "from sklearn.neighbors import KNeighborsClassifier\n",
    "from sklearn.metrics import precision_score, recall_score\n",
    "from sklearn.metrics import f1_score\n",
    "import math"
   ]
  },
  {
   "cell_type": "code",
   "execution_count": 2,
   "id": "232c9185",
   "metadata": {},
   "outputs": [
    {
     "data": {
      "text/html": [
       "<div>\n",
       "<style scoped>\n",
       "    .dataframe tbody tr th:only-of-type {\n",
       "        vertical-align: middle;\n",
       "    }\n",
       "\n",
       "    .dataframe tbody tr th {\n",
       "        vertical-align: top;\n",
       "    }\n",
       "\n",
       "    .dataframe thead th {\n",
       "        text-align: right;\n",
       "    }\n",
       "</style>\n",
       "<table border=\"1\" class=\"dataframe\">\n",
       "  <thead>\n",
       "    <tr style=\"text-align: right;\">\n",
       "      <th></th>\n",
       "      <th>Age</th>\n",
       "      <th>Attrition</th>\n",
       "      <th>BusinessTravel</th>\n",
       "      <th>DailyRate</th>\n",
       "      <th>Department</th>\n",
       "      <th>DistanceFromHome</th>\n",
       "      <th>Education</th>\n",
       "      <th>EducationField</th>\n",
       "      <th>EmployeeCount</th>\n",
       "      <th>EmployeeNumber</th>\n",
       "      <th>...</th>\n",
       "      <th>RelationshipSatisfaction</th>\n",
       "      <th>StandardHours</th>\n",
       "      <th>StockOptionLevel</th>\n",
       "      <th>TotalWorkingYears</th>\n",
       "      <th>TrainingTimesLastYear</th>\n",
       "      <th>WorkLifeBalance</th>\n",
       "      <th>YearsAtCompany</th>\n",
       "      <th>YearsInCurrentRole</th>\n",
       "      <th>YearsSinceLastPromotion</th>\n",
       "      <th>YearsWithCurrManager</th>\n",
       "    </tr>\n",
       "  </thead>\n",
       "  <tbody>\n",
       "    <tr>\n",
       "      <th>0</th>\n",
       "      <td>41</td>\n",
       "      <td>Yes</td>\n",
       "      <td>Travel_Rarely</td>\n",
       "      <td>1102</td>\n",
       "      <td>Sales</td>\n",
       "      <td>1</td>\n",
       "      <td>2</td>\n",
       "      <td>Life Sciences</td>\n",
       "      <td>1</td>\n",
       "      <td>1</td>\n",
       "      <td>...</td>\n",
       "      <td>1</td>\n",
       "      <td>80</td>\n",
       "      <td>0</td>\n",
       "      <td>8</td>\n",
       "      <td>0</td>\n",
       "      <td>1</td>\n",
       "      <td>6</td>\n",
       "      <td>4</td>\n",
       "      <td>0</td>\n",
       "      <td>5</td>\n",
       "    </tr>\n",
       "    <tr>\n",
       "      <th>1</th>\n",
       "      <td>49</td>\n",
       "      <td>No</td>\n",
       "      <td>Travel_Frequently</td>\n",
       "      <td>279</td>\n",
       "      <td>Research &amp; Development</td>\n",
       "      <td>8</td>\n",
       "      <td>1</td>\n",
       "      <td>Life Sciences</td>\n",
       "      <td>1</td>\n",
       "      <td>2</td>\n",
       "      <td>...</td>\n",
       "      <td>4</td>\n",
       "      <td>80</td>\n",
       "      <td>1</td>\n",
       "      <td>10</td>\n",
       "      <td>3</td>\n",
       "      <td>3</td>\n",
       "      <td>10</td>\n",
       "      <td>7</td>\n",
       "      <td>1</td>\n",
       "      <td>7</td>\n",
       "    </tr>\n",
       "    <tr>\n",
       "      <th>2</th>\n",
       "      <td>37</td>\n",
       "      <td>Yes</td>\n",
       "      <td>Travel_Rarely</td>\n",
       "      <td>1373</td>\n",
       "      <td>Research &amp; Development</td>\n",
       "      <td>2</td>\n",
       "      <td>2</td>\n",
       "      <td>Other</td>\n",
       "      <td>1</td>\n",
       "      <td>4</td>\n",
       "      <td>...</td>\n",
       "      <td>2</td>\n",
       "      <td>80</td>\n",
       "      <td>0</td>\n",
       "      <td>7</td>\n",
       "      <td>3</td>\n",
       "      <td>3</td>\n",
       "      <td>0</td>\n",
       "      <td>0</td>\n",
       "      <td>0</td>\n",
       "      <td>0</td>\n",
       "    </tr>\n",
       "    <tr>\n",
       "      <th>3</th>\n",
       "      <td>33</td>\n",
       "      <td>No</td>\n",
       "      <td>Travel_Frequently</td>\n",
       "      <td>1392</td>\n",
       "      <td>Research &amp; Development</td>\n",
       "      <td>3</td>\n",
       "      <td>4</td>\n",
       "      <td>Life Sciences</td>\n",
       "      <td>1</td>\n",
       "      <td>5</td>\n",
       "      <td>...</td>\n",
       "      <td>3</td>\n",
       "      <td>80</td>\n",
       "      <td>0</td>\n",
       "      <td>8</td>\n",
       "      <td>3</td>\n",
       "      <td>3</td>\n",
       "      <td>8</td>\n",
       "      <td>7</td>\n",
       "      <td>3</td>\n",
       "      <td>0</td>\n",
       "    </tr>\n",
       "    <tr>\n",
       "      <th>4</th>\n",
       "      <td>27</td>\n",
       "      <td>No</td>\n",
       "      <td>Travel_Rarely</td>\n",
       "      <td>591</td>\n",
       "      <td>Research &amp; Development</td>\n",
       "      <td>2</td>\n",
       "      <td>1</td>\n",
       "      <td>Medical</td>\n",
       "      <td>1</td>\n",
       "      <td>7</td>\n",
       "      <td>...</td>\n",
       "      <td>4</td>\n",
       "      <td>80</td>\n",
       "      <td>1</td>\n",
       "      <td>6</td>\n",
       "      <td>3</td>\n",
       "      <td>3</td>\n",
       "      <td>2</td>\n",
       "      <td>2</td>\n",
       "      <td>2</td>\n",
       "      <td>2</td>\n",
       "    </tr>\n",
       "  </tbody>\n",
       "</table>\n",
       "<p>5 rows × 35 columns</p>\n",
       "</div>"
      ],
      "text/plain": [
       "   Age Attrition     BusinessTravel  DailyRate              Department  \\\n",
       "0   41       Yes      Travel_Rarely       1102                   Sales   \n",
       "1   49        No  Travel_Frequently        279  Research & Development   \n",
       "2   37       Yes      Travel_Rarely       1373  Research & Development   \n",
       "3   33        No  Travel_Frequently       1392  Research & Development   \n",
       "4   27        No      Travel_Rarely        591  Research & Development   \n",
       "\n",
       "   DistanceFromHome  Education EducationField  EmployeeCount  EmployeeNumber  \\\n",
       "0                 1          2  Life Sciences              1               1   \n",
       "1                 8          1  Life Sciences              1               2   \n",
       "2                 2          2          Other              1               4   \n",
       "3                 3          4  Life Sciences              1               5   \n",
       "4                 2          1        Medical              1               7   \n",
       "\n",
       "   ...  RelationshipSatisfaction StandardHours  StockOptionLevel  \\\n",
       "0  ...                         1            80                 0   \n",
       "1  ...                         4            80                 1   \n",
       "2  ...                         2            80                 0   \n",
       "3  ...                         3            80                 0   \n",
       "4  ...                         4            80                 1   \n",
       "\n",
       "   TotalWorkingYears  TrainingTimesLastYear WorkLifeBalance  YearsAtCompany  \\\n",
       "0                  8                      0               1               6   \n",
       "1                 10                      3               3              10   \n",
       "2                  7                      3               3               0   \n",
       "3                  8                      3               3               8   \n",
       "4                  6                      3               3               2   \n",
       "\n",
       "  YearsInCurrentRole  YearsSinceLastPromotion  YearsWithCurrManager  \n",
       "0                  4                        0                     5  \n",
       "1                  7                        1                     7  \n",
       "2                  0                        0                     0  \n",
       "3                  7                        3                     0  \n",
       "4                  2                        2                     2  \n",
       "\n",
       "[5 rows x 35 columns]"
      ]
     },
     "execution_count": 2,
     "metadata": {},
     "output_type": "execute_result"
    }
   ],
   "source": [
    "data = pd.read_csv(\"EmployeeAttrition.csv\")\n",
    "data.head()"
   ]
  },
  {
   "cell_type": "code",
   "execution_count": null,
   "id": "0f419585",
   "metadata": {},
   "outputs": [],
   "source": [
    "#Analysing/Exploring dataset"
   ]
  },
  {
   "cell_type": "code",
   "execution_count": 3,
   "id": "2180f3ec",
   "metadata": {},
   "outputs": [
    {
     "data": {
      "text/html": [
       "<div>\n",
       "<style scoped>\n",
       "    .dataframe tbody tr th:only-of-type {\n",
       "        vertical-align: middle;\n",
       "    }\n",
       "\n",
       "    .dataframe tbody tr th {\n",
       "        vertical-align: top;\n",
       "    }\n",
       "\n",
       "    .dataframe thead th {\n",
       "        text-align: right;\n",
       "    }\n",
       "</style>\n",
       "<table border=\"1\" class=\"dataframe\">\n",
       "  <thead>\n",
       "    <tr style=\"text-align: right;\">\n",
       "      <th></th>\n",
       "      <th>Age</th>\n",
       "      <th>Attrition</th>\n",
       "      <th>BusinessTravel</th>\n",
       "      <th>DailyRate</th>\n",
       "      <th>Department</th>\n",
       "      <th>DistanceFromHome</th>\n",
       "      <th>Education</th>\n",
       "      <th>EducationField</th>\n",
       "      <th>EmployeeCount</th>\n",
       "      <th>EmployeeNumber</th>\n",
       "      <th>...</th>\n",
       "      <th>RelationshipSatisfaction</th>\n",
       "      <th>StandardHours</th>\n",
       "      <th>StockOptionLevel</th>\n",
       "      <th>TotalWorkingYears</th>\n",
       "      <th>TrainingTimesLastYear</th>\n",
       "      <th>WorkLifeBalance</th>\n",
       "      <th>YearsAtCompany</th>\n",
       "      <th>YearsInCurrentRole</th>\n",
       "      <th>YearsSinceLastPromotion</th>\n",
       "      <th>YearsWithCurrManager</th>\n",
       "    </tr>\n",
       "  </thead>\n",
       "  <tbody>\n",
       "    <tr>\n",
       "      <th>1465</th>\n",
       "      <td>36</td>\n",
       "      <td>No</td>\n",
       "      <td>Travel_Frequently</td>\n",
       "      <td>884</td>\n",
       "      <td>Research &amp; Development</td>\n",
       "      <td>23</td>\n",
       "      <td>2</td>\n",
       "      <td>Medical</td>\n",
       "      <td>1</td>\n",
       "      <td>2061</td>\n",
       "      <td>...</td>\n",
       "      <td>3</td>\n",
       "      <td>80</td>\n",
       "      <td>1</td>\n",
       "      <td>17</td>\n",
       "      <td>3</td>\n",
       "      <td>3</td>\n",
       "      <td>5</td>\n",
       "      <td>2</td>\n",
       "      <td>0</td>\n",
       "      <td>3</td>\n",
       "    </tr>\n",
       "    <tr>\n",
       "      <th>1466</th>\n",
       "      <td>39</td>\n",
       "      <td>No</td>\n",
       "      <td>Travel_Rarely</td>\n",
       "      <td>613</td>\n",
       "      <td>Research &amp; Development</td>\n",
       "      <td>6</td>\n",
       "      <td>1</td>\n",
       "      <td>Medical</td>\n",
       "      <td>1</td>\n",
       "      <td>2062</td>\n",
       "      <td>...</td>\n",
       "      <td>1</td>\n",
       "      <td>80</td>\n",
       "      <td>1</td>\n",
       "      <td>9</td>\n",
       "      <td>5</td>\n",
       "      <td>3</td>\n",
       "      <td>7</td>\n",
       "      <td>7</td>\n",
       "      <td>1</td>\n",
       "      <td>7</td>\n",
       "    </tr>\n",
       "    <tr>\n",
       "      <th>1467</th>\n",
       "      <td>27</td>\n",
       "      <td>No</td>\n",
       "      <td>Travel_Rarely</td>\n",
       "      <td>155</td>\n",
       "      <td>Research &amp; Development</td>\n",
       "      <td>4</td>\n",
       "      <td>3</td>\n",
       "      <td>Life Sciences</td>\n",
       "      <td>1</td>\n",
       "      <td>2064</td>\n",
       "      <td>...</td>\n",
       "      <td>2</td>\n",
       "      <td>80</td>\n",
       "      <td>1</td>\n",
       "      <td>6</td>\n",
       "      <td>0</td>\n",
       "      <td>3</td>\n",
       "      <td>6</td>\n",
       "      <td>2</td>\n",
       "      <td>0</td>\n",
       "      <td>3</td>\n",
       "    </tr>\n",
       "    <tr>\n",
       "      <th>1468</th>\n",
       "      <td>49</td>\n",
       "      <td>No</td>\n",
       "      <td>Travel_Frequently</td>\n",
       "      <td>1023</td>\n",
       "      <td>Sales</td>\n",
       "      <td>2</td>\n",
       "      <td>3</td>\n",
       "      <td>Medical</td>\n",
       "      <td>1</td>\n",
       "      <td>2065</td>\n",
       "      <td>...</td>\n",
       "      <td>4</td>\n",
       "      <td>80</td>\n",
       "      <td>0</td>\n",
       "      <td>17</td>\n",
       "      <td>3</td>\n",
       "      <td>2</td>\n",
       "      <td>9</td>\n",
       "      <td>6</td>\n",
       "      <td>0</td>\n",
       "      <td>8</td>\n",
       "    </tr>\n",
       "    <tr>\n",
       "      <th>1469</th>\n",
       "      <td>34</td>\n",
       "      <td>No</td>\n",
       "      <td>Travel_Rarely</td>\n",
       "      <td>628</td>\n",
       "      <td>Research &amp; Development</td>\n",
       "      <td>8</td>\n",
       "      <td>3</td>\n",
       "      <td>Medical</td>\n",
       "      <td>1</td>\n",
       "      <td>2068</td>\n",
       "      <td>...</td>\n",
       "      <td>1</td>\n",
       "      <td>80</td>\n",
       "      <td>0</td>\n",
       "      <td>6</td>\n",
       "      <td>3</td>\n",
       "      <td>4</td>\n",
       "      <td>4</td>\n",
       "      <td>3</td>\n",
       "      <td>1</td>\n",
       "      <td>2</td>\n",
       "    </tr>\n",
       "  </tbody>\n",
       "</table>\n",
       "<p>5 rows × 35 columns</p>\n",
       "</div>"
      ],
      "text/plain": [
       "      Age Attrition     BusinessTravel  DailyRate              Department  \\\n",
       "1465   36        No  Travel_Frequently        884  Research & Development   \n",
       "1466   39        No      Travel_Rarely        613  Research & Development   \n",
       "1467   27        No      Travel_Rarely        155  Research & Development   \n",
       "1468   49        No  Travel_Frequently       1023                   Sales   \n",
       "1469   34        No      Travel_Rarely        628  Research & Development   \n",
       "\n",
       "      DistanceFromHome  Education EducationField  EmployeeCount  \\\n",
       "1465                23          2        Medical              1   \n",
       "1466                 6          1        Medical              1   \n",
       "1467                 4          3  Life Sciences              1   \n",
       "1468                 2          3        Medical              1   \n",
       "1469                 8          3        Medical              1   \n",
       "\n",
       "      EmployeeNumber  ...  RelationshipSatisfaction StandardHours  \\\n",
       "1465            2061  ...                         3            80   \n",
       "1466            2062  ...                         1            80   \n",
       "1467            2064  ...                         2            80   \n",
       "1468            2065  ...                         4            80   \n",
       "1469            2068  ...                         1            80   \n",
       "\n",
       "      StockOptionLevel  TotalWorkingYears  TrainingTimesLastYear  \\\n",
       "1465                 1                 17                      3   \n",
       "1466                 1                  9                      5   \n",
       "1467                 1                  6                      0   \n",
       "1468                 0                 17                      3   \n",
       "1469                 0                  6                      3   \n",
       "\n",
       "     WorkLifeBalance  YearsAtCompany YearsInCurrentRole  \\\n",
       "1465               3               5                  2   \n",
       "1466               3               7                  7   \n",
       "1467               3               6                  2   \n",
       "1468               2               9                  6   \n",
       "1469               4               4                  3   \n",
       "\n",
       "      YearsSinceLastPromotion  YearsWithCurrManager  \n",
       "1465                        0                     3  \n",
       "1466                        1                     7  \n",
       "1467                        0                     3  \n",
       "1468                        0                     8  \n",
       "1469                        1                     2  \n",
       "\n",
       "[5 rows x 35 columns]"
      ]
     },
     "execution_count": 3,
     "metadata": {},
     "output_type": "execute_result"
    }
   ],
   "source": [
    "data.tail()"
   ]
  },
  {
   "cell_type": "code",
   "execution_count": 4,
   "id": "a47aea72",
   "metadata": {},
   "outputs": [
    {
     "data": {
      "text/plain": [
       "(1470, 35)"
      ]
     },
     "execution_count": 4,
     "metadata": {},
     "output_type": "execute_result"
    }
   ],
   "source": [
    "data.shape"
   ]
  },
  {
   "cell_type": "code",
   "execution_count": 5,
   "id": "3e382536",
   "metadata": {},
   "outputs": [
    {
     "data": {
      "text/plain": [
       "pandas.core.frame.DataFrame"
      ]
     },
     "execution_count": 5,
     "metadata": {},
     "output_type": "execute_result"
    }
   ],
   "source": [
    "type(data)"
   ]
  },
  {
   "cell_type": "code",
   "execution_count": 6,
   "id": "bd4df800",
   "metadata": {},
   "outputs": [
    {
     "data": {
      "text/plain": [
       "Index(['Age', 'Attrition', 'BusinessTravel', 'DailyRate', 'Department',\n",
       "       'DistanceFromHome', 'Education', 'EducationField', 'EmployeeCount',\n",
       "       'EmployeeNumber', 'EnvironmentSatisfaction', 'Gender', 'HourlyRate',\n",
       "       'JobInvolvement', 'JobLevel', 'JobRole', 'JobSatisfaction',\n",
       "       'MaritalStatus', 'MonthlyIncome', 'MonthlyRate', 'NumCompaniesWorked',\n",
       "       'Over18', 'OverTime', 'PercentSalaryHike', 'PerformanceRating',\n",
       "       'RelationshipSatisfaction', 'StandardHours', 'StockOptionLevel',\n",
       "       'TotalWorkingYears', 'TrainingTimesLastYear', 'WorkLifeBalance',\n",
       "       'YearsAtCompany', 'YearsInCurrentRole', 'YearsSinceLastPromotion',\n",
       "       'YearsWithCurrManager'],\n",
       "      dtype='object')"
      ]
     },
     "execution_count": 6,
     "metadata": {},
     "output_type": "execute_result"
    }
   ],
   "source": [
    "data.columns"
   ]
  },
  {
   "cell_type": "code",
   "execution_count": 7,
   "id": "0ba4404c",
   "metadata": {},
   "outputs": [
    {
     "data": {
      "text/plain": [
       "Age                         0\n",
       "Attrition                   0\n",
       "BusinessTravel              0\n",
       "DailyRate                   0\n",
       "Department                  0\n",
       "DistanceFromHome            0\n",
       "Education                   0\n",
       "EducationField              0\n",
       "EmployeeCount               0\n",
       "EmployeeNumber              0\n",
       "EnvironmentSatisfaction     0\n",
       "Gender                      0\n",
       "HourlyRate                  0\n",
       "JobInvolvement              0\n",
       "JobLevel                    0\n",
       "JobRole                     0\n",
       "JobSatisfaction             0\n",
       "MaritalStatus               0\n",
       "MonthlyIncome               0\n",
       "MonthlyRate                 0\n",
       "NumCompaniesWorked          0\n",
       "Over18                      0\n",
       "OverTime                    0\n",
       "PercentSalaryHike           0\n",
       "PerformanceRating           0\n",
       "RelationshipSatisfaction    0\n",
       "StandardHours               0\n",
       "StockOptionLevel            0\n",
       "TotalWorkingYears           0\n",
       "TrainingTimesLastYear       0\n",
       "WorkLifeBalance             0\n",
       "YearsAtCompany              0\n",
       "YearsInCurrentRole          0\n",
       "YearsSinceLastPromotion     0\n",
       "YearsWithCurrManager        0\n",
       "dtype: int64"
      ]
     },
     "execution_count": 7,
     "metadata": {},
     "output_type": "execute_result"
    }
   ],
   "source": [
    "data.isnull().sum()"
   ]
  },
  {
   "cell_type": "code",
   "execution_count": 8,
   "id": "c22c7fe7",
   "metadata": {},
   "outputs": [
    {
     "data": {
      "text/plain": [
       "Male      882\n",
       "Female    588\n",
       "Name: Gender, dtype: int64"
      ]
     },
     "execution_count": 8,
     "metadata": {},
     "output_type": "execute_result"
    }
   ],
   "source": [
    "gender=data[\"Gender\"].value_counts()\n",
    "gender"
   ]
  },
  {
   "cell_type": "code",
   "execution_count": 9,
   "id": "0da23561",
   "metadata": {},
   "outputs": [
    {
     "data": {
      "text/plain": [
       "(array([0, 1]), [Text(0, 0, 'Female'), Text(1, 0, 'Male')])"
      ]
     },
     "execution_count": 9,
     "metadata": {},
     "output_type": "execute_result"
    },
    {
     "data": {
      "image/png": "[encoded data removed]",
      "text/plain": [
       "<Figure size 288x360 with 1 Axes>"
      ]
     },
     "metadata": {
      "needs_background": "light"
     },
     "output_type": "display_data"
    },
    {
     "data": {
      "image/png": "[encoded data removed]",
      "text/plain": [
       "<Figure size 360x432 with 1 Axes>"
      ]
     },
     "metadata": {
      "needs_background": "light"
     },
     "output_type": "display_data"
    }
   ],
   "source": [
    "data['Gender'].value_counts().plot(kind='bar',color=['purple','skyblue'],title=\"Graph For Different genders\",figsize=(4,5))\n",
    "pd.crosstab(data['Gender'],data['Attrition']).plot(kind=\"bar\",color=['purple','skyblue'],figsize=(5,6))\n",
    "plt.title(\"Staying/left the company vs Gender\")\n",
    "plt.xlabel(\"Stay/Left\")\n",
    "plt.ylabel(\"No of people who left the company based on gender\")\n",
    "plt.legend([\"Left\",\"Stay\"])\n",
    "plt.xticks(rotation=0)"
   ]
  },
  {
   "cell_type": "code",
   "execution_count": 11,
   "id": "db9b66e2",
   "metadata": {},
   "outputs": [
    {
     "data": {
      "text/plain": [
       "Research & Development    961\n",
       "Sales                     446\n",
       "Human Resources            63\n",
       "Name: Department, dtype: int64"
      ]
     },
     "execution_count": 11,
     "metadata": {},
     "output_type": "execute_result"
    }
   ],
   "source": [
    "dep=data[\"Department\"].value_counts()\n",
    "dep"
   ]
  },
  {
   "cell_type": "code",
   "execution_count": 10,
   "id": "01f04007",
   "metadata": {},
   "outputs": [
    {
     "data": {
      "text/plain": [
       "(array([0, 1, 2]),\n",
       " [Text(0, 0, 'Human Resources'),\n",
       "  Text(1, 0, 'Research & Development'),\n",
       "  Text(2, 0, 'Sales')])"
      ]
     },
     "execution_count": 10,
     "metadata": {},
     "output_type": "execute_result"
    },
    {
     "data": {
      "image/png": "[encoded data removed]",
      "text/plain": [
       "<Figure size 360x432 with 1 Axes>"
      ]
     },
     "metadata": {
      "needs_background": "light"
     },
     "output_type": "display_data"
    },
    {
     "data": {
      "image/png": "[encoded data removed]",
      "text/plain": [
       "<Figure size 360x432 with 1 Axes>"
      ]
     },
     "metadata": {
      "needs_background": "light"
     },
     "output_type": "display_data"
    }
   ],
   "source": [
    "data['Department'].value_counts().plot(kind='bar',color=['purple','skyblue'],title=\"Departments in the company\",figsize=(5,6))\n",
    "pd.crosstab(data['Department'],data['Attrition']).plot(kind=\"bar\",figsize=(5,6),color=['purple','skyblue'])\n",
    "plt.title(\"Staying/left the company vs Department\")\n",
    "plt.xlabel(\"Stay/Left\")\n",
    "plt.ylabel(\"No of people who left the company based on department\")\n",
    "plt.legend([\"Left\",\"Stay\"])\n",
    "plt.xticks(rotation=360)"
   ]
  },
  {
   "cell_type": "code",
   "execution_count": 12,
   "id": "c882c442",
   "metadata": {},
   "outputs": [
    {
     "data": {
      "text/plain": [
       "<AxesSubplot:title={'center':'Age group of the company'}>"
      ]
     },
     "execution_count": 12,
     "metadata": {},
     "output_type": "execute_result"
    },
    {
     "data": {
      "image/png": "[encoded data removed]",
      "text/plain": [
       "<Figure size 864x432 with 1 Axes>"
      ]
     },
     "metadata": {
      "needs_background": "light"
     },
     "output_type": "display_data"
    }
   ],
   "source": [
    "data['Age'].value_counts().plot(kind='bar',color=['purple','skyblue'],title=\"Age group of the company\",figsize=(12,6))"
   ]
  },
  {
   "cell_type": "code",
   "execution_count": 13,
   "id": "9f0bd561",
   "metadata": {},
   "outputs": [
    {
     "data": {
      "text/plain": [
       "(array([ 0,  1,  2,  3,  4,  5,  6,  7,  8,  9, 10, 11, 12, 13, 14, 15, 16,\n",
       "        17, 18, 19, 20, 21, 22, 23, 24, 25, 26, 27, 28, 29, 30, 31, 32, 33,\n",
       "        34, 35, 36, 37, 38, 39, 40, 41, 42]),\n",
       " [Text(0, 0, '18'),\n",
       "  Text(1, 0, '19'),\n",
       "  Text(2, 0, '20'),\n",
       "  Text(3, 0, '21'),\n",
       "  Text(4, 0, '22'),\n",
       "  Text(5, 0, '23'),\n",
       "  Text(6, 0, '24'),\n",
       "  Text(7, 0, '25'),\n",
       "  Text(8, 0, '26'),\n",
       "  Text(9, 0, '27'),\n",
       "  Text(10, 0, '28'),\n",
       "  Text(11, 0, '29'),\n",
       "  Text(12, 0, '30'),\n",
       "  Text(13, 0, '31'),\n",
       "  Text(14, 0, '32'),\n",
       "  Text(15, 0, '33'),\n",
       "  Text(16, 0, '34'),\n",
       "  Text(17, 0, '35'),\n",
       "  Text(18, 0, '36'),\n",
       "  Text(19, 0, '37'),\n",
       "  Text(20, 0, '38'),\n",
       "  Text(21, 0, '39'),\n",
       "  Text(22, 0, '40'),\n",
       "  Text(23, 0, '41'),\n",
       "  Text(24, 0, '42'),\n",
       "  Text(25, 0, '43'),\n",
       "  Text(26, 0, '44'),\n",
       "  Text(27, 0, '45'),\n",
       "  Text(28, 0, '46'),\n",
       "  Text(29, 0, '47'),\n",
       "  Text(30, 0, '48'),\n",
       "  Text(31, 0, '49'),\n",
       "  Text(32, 0, '50'),\n",
       "  Text(33, 0, '51'),\n",
       "  Text(34, 0, '52'),\n",
       "  Text(35, 0, '53'),\n",
       "  Text(36, 0, '54'),\n",
       "  Text(37, 0, '55'),\n",
       "  Text(38, 0, '56'),\n",
       "  Text(39, 0, '57'),\n",
       "  Text(40, 0, '58'),\n",
       "  Text(41, 0, '59'),\n",
       "  Text(42, 0, '60')])"
      ]
     },
     "execution_count": 13,
     "metadata": {},
     "output_type": "execute_result"
    },
    {
     "data": {
      "image/png": "[encoded data removed]",
      "text/plain": [
       "<Figure size 1080x432 with 1 Axes>"
      ]
     },
     "metadata": {
      "needs_background": "light"
     },
     "output_type": "display_data"
    }
   ],
   "source": [
    "pd.crosstab(data['Age'],data['Attrition']).plot(kind=\"bar\",figsize=(15,6))\n",
    "plt.title(\"Staying/left the company vs Age\")\n",
    "plt.xlabel(\"Stay/Left\")\n",
    "plt.ylabel(\"No of people who left the company based on age\")\n",
    "plt.legend([\"Left\",\"Stay\"])\n",
    "plt.xticks(rotation=0)"
   ]
  },
  {
   "cell_type": "code",
   "execution_count": 14,
   "id": "64a4c032",
   "metadata": {},
   "outputs": [],
   "source": [
    "def onehot_encode(df, column):\n",
    "    df = df.copy()\n",
    "    dummies = pd.get_dummies(df[column], prefix=column)\n",
    "    df = pd.concat([df, dummies], axis=1)\n",
    "    df = df.drop(column, axis=1)\n",
    "    return df"
   ]
  },
  {
   "cell_type": "code",
   "execution_count": 20,
   "id": "d63fca5d",
   "metadata": {},
   "outputs": [],
   "source": [
    "def preprocess_inputs(df):\n",
    "    df = df.copy()\n",
    "    \n",
    "    # Drop single-value columns and id columns\n",
    "    df = df.drop(['EmployeeCount', 'EmployeeNumber', 'Over18', 'StandardHours'], axis=1)\n",
    "    \n",
    "    # Binary-encode binary columns\n",
    "    df['Gender'] = df['Gender'].replace({'Female': 0, 'Male': 1})\n",
    "    df['OverTime'] = df['OverTime'].replace({'No': 0, 'Yes': 1})\n",
    "    df['Attrition'] = df['Attrition'].replace({'No': 0, 'Yes': 1})\n",
    "    \n",
    "    # Ordinal-encode the BusinessTravel column\n",
    "    df['BusinessTravel'] = df['BusinessTravel'].replace({'Non-Travel': 0, 'Travel_Rarely': 1, 'Travel_Frequently': 2})\n",
    "    \n",
    "    # One-hot encoding\n",
    "    for column in ['Department', 'EducationField', 'JobRole', 'MaritalStatus']:\n",
    "        df = onehot_encode(df, column=column)\n",
    "    \n",
    "    # Split df into X and y\n",
    "    y = df['Attrition']\n",
    "    X = df.drop('Attrition', axis=1)\n",
    "    \n",
    "    # Train-test split\n",
    "    X_train, X_test, y_train, y_test = train_test_split(X, y, train_size=0.7, shuffle=True, random_state=1)\n",
    "    \n",
    "    # Scale X\n",
    "    scaler = StandardScaler()\n",
    "    scaler.fit(X_train)\n",
    "    X_train = pd.DataFrame(scaler.transform(X_train), index=X_train.index, columns=X_train.columns)\n",
    "    X_test = pd.DataFrame(scaler.transform(X_test), index=X_test.index, columns=X_test.columns)\n",
    "    \n",
    "    return X_train, X_test, y_train, y_test"
   ]
  },
  {
   "cell_type": "code",
   "execution_count": 21,
   "id": "f0fd71e8",
   "metadata": {},
   "outputs": [
    {
     "data": {
      "text/html": [
       "<div>\n",
       "<style scoped>\n",
       "    .dataframe tbody tr th:only-of-type {\n",
       "        vertical-align: middle;\n",
       "    }\n",
       "\n",
       "    .dataframe tbody tr th {\n",
       "        vertical-align: top;\n",
       "    }\n",
       "\n",
       "    .dataframe thead th {\n",
       "        text-align: right;\n",
       "    }\n",
       "</style>\n",
       "<table border=\"1\" class=\"dataframe\">\n",
       "  <thead>\n",
       "    <tr style=\"text-align: right;\">\n",
       "      <th></th>\n",
       "      <th>Age</th>\n",
       "      <th>BusinessTravel</th>\n",
       "      <th>DailyRate</th>\n",
       "      <th>DistanceFromHome</th>\n",
       "      <th>Education</th>\n",
       "      <th>EnvironmentSatisfaction</th>\n",
       "      <th>Gender</th>\n",
       "      <th>HourlyRate</th>\n",
       "      <th>JobInvolvement</th>\n",
       "      <th>JobLevel</th>\n",
       "      <th>...</th>\n",
       "      <th>JobRole_Laboratory Technician</th>\n",
       "      <th>JobRole_Manager</th>\n",
       "      <th>JobRole_Manufacturing Director</th>\n",
       "      <th>JobRole_Research Director</th>\n",
       "      <th>JobRole_Research Scientist</th>\n",
       "      <th>JobRole_Sales Executive</th>\n",
       "      <th>JobRole_Sales Representative</th>\n",
       "      <th>MaritalStatus_Divorced</th>\n",
       "      <th>MaritalStatus_Married</th>\n",
       "      <th>MaritalStatus_Single</th>\n",
       "    </tr>\n",
       "  </thead>\n",
       "  <tbody>\n",
       "    <tr>\n",
       "      <th>99</th>\n",
       "      <td>0.762337</td>\n",
       "      <td>-2.005534</td>\n",
       "      <td>-0.816540</td>\n",
       "      <td>1.742140</td>\n",
       "      <td>0.092884</td>\n",
       "      <td>-0.669480</td>\n",
       "      <td>0.843888</td>\n",
       "      <td>0.055811</td>\n",
       "      <td>0.384204</td>\n",
       "      <td>-0.063108</td>\n",
       "      <td>...</td>\n",
       "      <td>2.128910</td>\n",
       "      <td>-0.255377</td>\n",
       "      <td>-0.335309</td>\n",
       "      <td>-0.255377</td>\n",
       "      <td>-0.495745</td>\n",
       "      <td>-0.533521</td>\n",
       "      <td>-0.237630</td>\n",
       "      <td>-0.530514</td>\n",
       "      <td>1.088445</td>\n",
       "      <td>-0.690165</td>\n",
       "    </tr>\n",
       "    <tr>\n",
       "      <th>785</th>\n",
       "      <td>0.326292</td>\n",
       "      <td>-0.141311</td>\n",
       "      <td>1.652087</td>\n",
       "      <td>1.366162</td>\n",
       "      <td>1.078220</td>\n",
       "      <td>-1.586784</td>\n",
       "      <td>0.843888</td>\n",
       "      <td>-0.239963</td>\n",
       "      <td>0.384204</td>\n",
       "      <td>0.838814</td>\n",
       "      <td>...</td>\n",
       "      <td>-0.469724</td>\n",
       "      <td>-0.255377</td>\n",
       "      <td>-0.335309</td>\n",
       "      <td>-0.255377</td>\n",
       "      <td>-0.495745</td>\n",
       "      <td>-0.533521</td>\n",
       "      <td>-0.237630</td>\n",
       "      <td>-0.530514</td>\n",
       "      <td>1.088445</td>\n",
       "      <td>-0.690165</td>\n",
       "    </tr>\n",
       "    <tr>\n",
       "      <th>918</th>\n",
       "      <td>1.525416</td>\n",
       "      <td>1.722911</td>\n",
       "      <td>-1.436773</td>\n",
       "      <td>-0.012423</td>\n",
       "      <td>0.092884</td>\n",
       "      <td>1.165128</td>\n",
       "      <td>0.843888</td>\n",
       "      <td>0.844541</td>\n",
       "      <td>0.384204</td>\n",
       "      <td>2.642657</td>\n",
       "      <td>...</td>\n",
       "      <td>-0.469724</td>\n",
       "      <td>3.915780</td>\n",
       "      <td>-0.335309</td>\n",
       "      <td>-0.255377</td>\n",
       "      <td>-0.495745</td>\n",
       "      <td>-0.533521</td>\n",
       "      <td>-0.237630</td>\n",
       "      <td>1.884966</td>\n",
       "      <td>-0.918742</td>\n",
       "      <td>-0.690165</td>\n",
       "    </tr>\n",
       "    <tr>\n",
       "      <th>1335</th>\n",
       "      <td>0.217281</td>\n",
       "      <td>-0.141311</td>\n",
       "      <td>0.035051</td>\n",
       "      <td>1.240836</td>\n",
       "      <td>1.078220</td>\n",
       "      <td>1.165128</td>\n",
       "      <td>0.843888</td>\n",
       "      <td>-1.225876</td>\n",
       "      <td>0.384204</td>\n",
       "      <td>-0.063108</td>\n",
       "      <td>...</td>\n",
       "      <td>-0.469724</td>\n",
       "      <td>-0.255377</td>\n",
       "      <td>-0.335309</td>\n",
       "      <td>-0.255377</td>\n",
       "      <td>2.017168</td>\n",
       "      <td>-0.533521</td>\n",
       "      <td>-0.237630</td>\n",
       "      <td>1.884966</td>\n",
       "      <td>-0.918742</td>\n",
       "      <td>-0.690165</td>\n",
       "    </tr>\n",
       "    <tr>\n",
       "      <th>1182</th>\n",
       "      <td>-0.109753</td>\n",
       "      <td>-2.005534</td>\n",
       "      <td>0.180264</td>\n",
       "      <td>-1.015031</td>\n",
       "      <td>1.078220</td>\n",
       "      <td>1.165128</td>\n",
       "      <td>-1.184992</td>\n",
       "      <td>-1.620241</td>\n",
       "      <td>-0.998124</td>\n",
       "      <td>-0.063108</td>\n",
       "      <td>...</td>\n",
       "      <td>-0.469724</td>\n",
       "      <td>-0.255377</td>\n",
       "      <td>2.982320</td>\n",
       "      <td>-0.255377</td>\n",
       "      <td>-0.495745</td>\n",
       "      <td>-0.533521</td>\n",
       "      <td>-0.237630</td>\n",
       "      <td>-0.530514</td>\n",
       "      <td>1.088445</td>\n",
       "      <td>-0.690165</td>\n",
       "    </tr>\n",
       "    <tr>\n",
       "      <th>...</th>\n",
       "      <td>...</td>\n",
       "      <td>...</td>\n",
       "      <td>...</td>\n",
       "      <td>...</td>\n",
       "      <td>...</td>\n",
       "      <td>...</td>\n",
       "      <td>...</td>\n",
       "      <td>...</td>\n",
       "      <td>...</td>\n",
       "      <td>...</td>\n",
       "      <td>...</td>\n",
       "      <td>...</td>\n",
       "      <td>...</td>\n",
       "      <td>...</td>\n",
       "      <td>...</td>\n",
       "      <td>...</td>\n",
       "      <td>...</td>\n",
       "      <td>...</td>\n",
       "      <td>...</td>\n",
       "      <td>...</td>\n",
       "      <td>...</td>\n",
       "    </tr>\n",
       "    <tr>\n",
       "      <th>715</th>\n",
       "      <td>-0.436787</td>\n",
       "      <td>1.722911</td>\n",
       "      <td>0.015361</td>\n",
       "      <td>-1.015031</td>\n",
       "      <td>1.078220</td>\n",
       "      <td>0.247824</td>\n",
       "      <td>-1.184992</td>\n",
       "      <td>0.893837</td>\n",
       "      <td>1.766532</td>\n",
       "      <td>-0.063108</td>\n",
       "      <td>...</td>\n",
       "      <td>-0.469724</td>\n",
       "      <td>-0.255377</td>\n",
       "      <td>-0.335309</td>\n",
       "      <td>-0.255377</td>\n",
       "      <td>-0.495745</td>\n",
       "      <td>-0.533521</td>\n",
       "      <td>-0.237630</td>\n",
       "      <td>-0.530514</td>\n",
       "      <td>1.088445</td>\n",
       "      <td>-0.690165</td>\n",
       "    </tr>\n",
       "    <tr>\n",
       "      <th>905</th>\n",
       "      <td>-0.872832</td>\n",
       "      <td>-0.141311</td>\n",
       "      <td>-0.311985</td>\n",
       "      <td>-1.015031</td>\n",
       "      <td>0.092884</td>\n",
       "      <td>1.165128</td>\n",
       "      <td>-1.184992</td>\n",
       "      <td>1.041724</td>\n",
       "      <td>-0.998124</td>\n",
       "      <td>1.740736</td>\n",
       "      <td>...</td>\n",
       "      <td>-0.469724</td>\n",
       "      <td>-0.255377</td>\n",
       "      <td>-0.335309</td>\n",
       "      <td>3.915780</td>\n",
       "      <td>-0.495745</td>\n",
       "      <td>-0.533521</td>\n",
       "      <td>-0.237630</td>\n",
       "      <td>1.884966</td>\n",
       "      <td>-0.918742</td>\n",
       "      <td>-0.690165</td>\n",
       "    </tr>\n",
       "    <tr>\n",
       "      <th>1096</th>\n",
       "      <td>0.326292</td>\n",
       "      <td>-0.141311</td>\n",
       "      <td>0.190109</td>\n",
       "      <td>-0.388401</td>\n",
       "      <td>-0.892452</td>\n",
       "      <td>0.247824</td>\n",
       "      <td>0.843888</td>\n",
       "      <td>-1.373763</td>\n",
       "      <td>0.384204</td>\n",
       "      <td>1.740736</td>\n",
       "      <td>...</td>\n",
       "      <td>-0.469724</td>\n",
       "      <td>3.915780</td>\n",
       "      <td>-0.335309</td>\n",
       "      <td>-0.255377</td>\n",
       "      <td>-0.495745</td>\n",
       "      <td>-0.533521</td>\n",
       "      <td>-0.237630</td>\n",
       "      <td>-0.530514</td>\n",
       "      <td>-0.918742</td>\n",
       "      <td>1.448930</td>\n",
       "    </tr>\n",
       "    <tr>\n",
       "      <th>235</th>\n",
       "      <td>0.653326</td>\n",
       "      <td>-0.141311</td>\n",
       "      <td>0.524838</td>\n",
       "      <td>0.864859</td>\n",
       "      <td>0.092884</td>\n",
       "      <td>1.165128</td>\n",
       "      <td>-1.184992</td>\n",
       "      <td>0.696654</td>\n",
       "      <td>0.384204</td>\n",
       "      <td>1.740736</td>\n",
       "      <td>...</td>\n",
       "      <td>-0.469724</td>\n",
       "      <td>3.915780</td>\n",
       "      <td>-0.335309</td>\n",
       "      <td>-0.255377</td>\n",
       "      <td>-0.495745</td>\n",
       "      <td>-0.533521</td>\n",
       "      <td>-0.237630</td>\n",
       "      <td>-0.530514</td>\n",
       "      <td>1.088445</td>\n",
       "      <td>-0.690165</td>\n",
       "    </tr>\n",
       "    <tr>\n",
       "      <th>1061</th>\n",
       "      <td>-1.417888</td>\n",
       "      <td>-2.005534</td>\n",
       "      <td>0.022744</td>\n",
       "      <td>0.488881</td>\n",
       "      <td>-0.892452</td>\n",
       "      <td>1.165128</td>\n",
       "      <td>-1.184992</td>\n",
       "      <td>0.598063</td>\n",
       "      <td>0.384204</td>\n",
       "      <td>-0.965030</td>\n",
       "      <td>...</td>\n",
       "      <td>-0.469724</td>\n",
       "      <td>-0.255377</td>\n",
       "      <td>-0.335309</td>\n",
       "      <td>-0.255377</td>\n",
       "      <td>-0.495745</td>\n",
       "      <td>-0.533521</td>\n",
       "      <td>4.208217</td>\n",
       "      <td>-0.530514</td>\n",
       "      <td>1.088445</td>\n",
       "      <td>-0.690165</td>\n",
       "    </tr>\n",
       "  </tbody>\n",
       "</table>\n",
       "<p>1029 rows × 47 columns</p>\n",
       "</div>"
      ],
      "text/plain": [
       "           Age  BusinessTravel  DailyRate  DistanceFromHome  Education  \\\n",
       "99    0.762337       -2.005534  -0.816540          1.742140   0.092884   \n",
       "785   0.326292       -0.141311   1.652087          1.366162   1.078220   \n",
       "918   1.525416        1.722911  -1.436773         -0.012423   0.092884   \n",
       "1335  0.217281       -0.141311   0.035051          1.240836   1.078220   \n",
       "1182 -0.109753       -2.005534   0.180264         -1.015031   1.078220   \n",
       "...        ...             ...        ...               ...        ...   \n",
       "715  -0.436787        1.722911   0.015361         -1.015031   1.078220   \n",
       "905  -0.872832       -0.141311  -0.311985         -1.015031   0.092884   \n",
       "1096  0.326292       -0.141311   0.190109         -0.388401  -0.892452   \n",
       "235   0.653326       -0.141311   0.524838          0.864859   0.092884   \n",
       "1061 -1.417888       -2.005534   0.022744          0.488881  -0.892452   \n",
       "\n",
       "      EnvironmentSatisfaction    Gender  HourlyRate  JobInvolvement  JobLevel  \\\n",
       "99                  -0.669480  0.843888    0.055811        0.384204 -0.063108   \n",
       "785                 -1.586784  0.843888   -0.239963        0.384204  0.838814   \n",
       "918                  1.165128  0.843888    0.844541        0.384204  2.642657   \n",
       "1335                 1.165128  0.843888   -1.225876        0.384204 -0.063108   \n",
       "1182                 1.165128 -1.184992   -1.620241       -0.998124 -0.063108   \n",
       "...                       ...       ...         ...             ...       ...   \n",
       "715                  0.247824 -1.184992    0.893837        1.766532 -0.063108   \n",
       "905                  1.165128 -1.184992    1.041724       -0.998124  1.740736   \n",
       "1096                 0.247824  0.843888   -1.373763        0.384204  1.740736   \n",
       "235                  1.165128 -1.184992    0.696654        0.384204  1.740736   \n",
       "1061                 1.165128 -1.184992    0.598063        0.384204 -0.965030   \n",
       "\n",
       "      ...  JobRole_Laboratory Technician  JobRole_Manager  \\\n",
       "99    ...                       2.128910        -0.255377   \n",
       "785   ...                      -0.469724        -0.255377   \n",
       "918   ...                      -0.469724         3.915780   \n",
       "1335  ...                      -0.469724        -0.255377   \n",
       "1182  ...                      -0.469724        -0.255377   \n",
       "...   ...                            ...              ...   \n",
       "715   ...                      -0.469724        -0.255377   \n",
       "905   ...                      -0.469724        -0.255377   \n",
       "1096  ...                      -0.469724         3.915780   \n",
       "235   ...                      -0.469724         3.915780   \n",
       "1061  ...                      -0.469724        -0.255377   \n",
       "\n",
       "      JobRole_Manufacturing Director  JobRole_Research Director  \\\n",
       "99                         -0.335309                  -0.255377   \n",
       "785                        -0.335309                  -0.255377   \n",
       "918                        -0.335309                  -0.255377   \n",
       "1335                       -0.335309                  -0.255377   \n",
       "1182                        2.982320                  -0.255377   \n",
       "...                              ...                        ...   \n",
       "715                        -0.335309                  -0.255377   \n",
       "905                        -0.335309                   3.915780   \n",
       "1096                       -0.335309                  -0.255377   \n",
       "235                        -0.335309                  -0.255377   \n",
       "1061                       -0.335309                  -0.255377   \n",
       "\n",
       "      JobRole_Research Scientist  JobRole_Sales Executive  \\\n",
       "99                     -0.495745                -0.533521   \n",
       "785                    -0.495745                -0.533521   \n",
       "918                    -0.495745                -0.533521   \n",
       "1335                    2.017168                -0.533521   \n",
       "1182                   -0.495745                -0.533521   \n",
       "...                          ...                      ...   \n",
       "715                    -0.495745                -0.533521   \n",
       "905                    -0.495745                -0.533521   \n",
       "1096                   -0.495745                -0.533521   \n",
       "235                    -0.495745                -0.533521   \n",
       "1061                   -0.495745                -0.533521   \n",
       "\n",
       "      JobRole_Sales Representative  MaritalStatus_Divorced  \\\n",
       "99                       -0.237630               -0.530514   \n",
       "785                      -0.237630               -0.530514   \n",
       "918                      -0.237630                1.884966   \n",
       "1335                     -0.237630                1.884966   \n",
       "1182                     -0.237630               -0.530514   \n",
       "...                            ...                     ...   \n",
       "715                      -0.237630               -0.530514   \n",
       "905                      -0.237630                1.884966   \n",
       "1096                     -0.237630               -0.530514   \n",
       "235                      -0.237630               -0.530514   \n",
       "1061                      4.208217               -0.530514   \n",
       "\n",
       "      MaritalStatus_Married  MaritalStatus_Single  \n",
       "99                 1.088445             -0.690165  \n",
       "785                1.088445             -0.690165  \n",
       "918               -0.918742             -0.690165  \n",
       "1335              -0.918742             -0.690165  \n",
       "1182               1.088445             -0.690165  \n",
       "...                     ...                   ...  \n",
       "715                1.088445             -0.690165  \n",
       "905               -0.918742             -0.690165  \n",
       "1096              -0.918742              1.448930  \n",
       "235                1.088445             -0.690165  \n",
       "1061               1.088445             -0.690165  \n",
       "\n",
       "[1029 rows x 47 columns]"
      ]
     },
     "execution_count": 21,
     "metadata": {},
     "output_type": "execute_result"
    }
   ],
   "source": [
    "#Training and testing data\n",
    "X_train, X_test, y_train, y_test = preprocess_inputs(data)\n",
    "X_train"
   ]
  },
  {
   "cell_type": "code",
   "execution_count": 22,
   "id": "dfd1083f",
   "metadata": {},
   "outputs": [
    {
     "data": {
      "text/plain": [
       "99      0\n",
       "785     0\n",
       "918     0\n",
       "1335    0\n",
       "1182    0\n",
       "       ..\n",
       "715     0\n",
       "905     0\n",
       "1096    0\n",
       "235     0\n",
       "1061    0\n",
       "Name: Attrition, Length: 1029, dtype: int64"
      ]
     },
     "execution_count": 22,
     "metadata": {},
     "output_type": "execute_result"
    }
   ],
   "source": [
    "y_train"
   ]
  },
  {
   "cell_type": "code",
   "execution_count": 25,
   "id": "6ff446f1",
   "metadata": {},
   "outputs": [
    {
     "name": "stdout",
     "output_type": "stream",
     "text": [
      "                   Logistic Regression trained.\n",
      "                   K-Nearest Neighbors trained.\n",
      "                         Decision Tree trained.\n",
      "Support Vector Machine (Linear Kernel) trained.\n",
      "   Support Vector Machine (RBF Kernel) trained.\n"
     ]
    },
    {
     "name": "stderr",
     "output_type": "stream",
     "text": [
      "C:\\Users\\Inno\\anaconda3\\lib\\site-packages\\sklearn\\svm\\_base.py:985: ConvergenceWarning: Liblinear failed to converge, increase the number of iterations.\n",
      "  warnings.warn(\"Liblinear failed to converge, increase \"\n",
      "C:\\Users\\Inno\\anaconda3\\lib\\site-packages\\sklearn\\neural_network\\_multilayer_perceptron.py:614: ConvergenceWarning: Stochastic Optimizer: Maximum iterations (200) reached and the optimization hasn't converged yet.\n",
      "  warnings.warn(\n"
     ]
    },
    {
     "name": "stdout",
     "output_type": "stream",
     "text": [
      "                        Neural Network trained.\n",
      "                         Random Forest trained.\n",
      "                     Gradient Boosting trained.\n"
     ]
    }
   ],
   "source": [
    "models = {\n",
    "    \"                   Logistic Regression\": LogisticRegression(),\n",
    "    \"                   K-Nearest Neighbors\": KNeighborsClassifier(),\n",
    "    \"                         Decision Tree\": DecisionTreeClassifier(),\n",
    "    \"Support Vector Machine (Linear Kernel)\": LinearSVC(),\n",
    "    \"   Support Vector Machine (RBF Kernel)\": SVC(),\n",
    "    \"                        Neural Network\": MLPClassifier(),\n",
    "    \"                         Random Forest\": RandomForestClassifier(),\n",
    "    \"                     Gradient Boosting\": GradientBoostingClassifier()\n",
    "}\n",
    "\n",
    "for name, model in models.items():\n",
    "    model.fit(X_train, y_train)\n",
    "    print(name + \" trained.\")"
   ]
  },
  {
   "cell_type": "code",
   "execution_count": 26,
   "id": "b7290d23",
   "metadata": {},
   "outputs": [
    {
     "name": "stdout",
     "output_type": "stream",
     "text": [
      "                   Logistic Regression: 86.62%\n",
      "                   K-Nearest Neighbors: 82.09%\n",
      "                         Decision Tree: 78.00%\n",
      "Support Vector Machine (Linear Kernel): 85.49%\n",
      "   Support Vector Machine (RBF Kernel): 84.81%\n",
      "                        Neural Network: 84.35%\n",
      "                         Random Forest: 83.90%\n",
      "                     Gradient Boosting: 85.49%\n"
     ]
    }
   ],
   "source": [
    "#Choosing model\n",
    "for name, model in models.items():\n",
    "    print(name + \": {:.2f}%\".format(model.score(X_test, y_test) * 100))"
   ]
  },
  {
   "cell_type": "code",
   "execution_count": 27,
   "id": "410c0f55",
   "metadata": {},
   "outputs": [
    {
     "name": "stdout",
     "output_type": "stream",
     "text": [
      "LogisticRegression()\n",
      "[[352  12]\n",
      " [ 47  30]]\n",
      "              precision    recall  f1-score   support\n",
      "\n",
      "           0       0.88      0.97      0.92       364\n",
      "           1       0.71      0.39      0.50        77\n",
      "\n",
      "    accuracy                           0.87       441\n",
      "   macro avg       0.80      0.68      0.71       441\n",
      "weighted avg       0.85      0.87      0.85       441\n",
      "\n",
      "Accuracy: 0.866\n"
     ]
    },
    {
     "data": {
      "image/png": "[encoded data removed]",
      "text/plain": [
       "<Figure size 360x360 with 1 Axes>"
      ]
     },
     "metadata": {
      "needs_background": "light"
     },
     "output_type": "display_data"
    }
   ],
   "source": [
    "#Confusion matrix of Logistic Regression model\n",
    "logmodel = LogisticRegression()\n",
    "print(logmodel.fit(X_train, y_train) )\n",
    "\n",
    "y_pred1 = logmodel.predict(X_test)\n",
    "\n",
    "from sklearn.metrics import confusion_matrix\n",
    "confusion_matrix = confusion_matrix(y_test, y_pred1)\n",
    "print(confusion_matrix)\n",
    "\n",
    "from sklearn.metrics import classification_report\n",
    "print(classification_report(y_test,y_pred1))\n",
    "\n",
    "from sklearn.metrics import accuracy_score\n",
    "print('Accuracy: %.3f' % accuracy_score(y_test, y_pred1))\n",
    "\n",
    "# Print the confusion matrix using Matplotlib\n",
    "import matplotlib.pyplot as plt\n",
    "fig, ax = plt.subplots(figsize=(5, 5))\n",
    "ax.matshow(confusion_matrix, cmap=plt.cm.Oranges, alpha=0.3)\n",
    "for i in range(confusion_matrix.shape[0]):\n",
    "    for j in range(confusion_matrix.shape[1]):\n",
    "        ax.text(x=j, y=i,s=confusion_matrix[i, j], va='center', ha='center', size='xx-large')\n",
    " \n",
    "plt.xlabel('Predictions', fontsize=18)\n",
    "plt.ylabel('Actuals', fontsize=18)\n",
    "plt.title('Confusion Matrix', fontsize=18)\n",
    "plt.show()"
   ]
  },
  {
   "cell_type": "code",
   "execution_count": 28,
   "id": "95a764f3",
   "metadata": {},
   "outputs": [
    {
     "name": "stdout",
     "output_type": "stream",
     "text": [
      "[[352  12]\n",
      " [ 48  29]]\n",
      "              precision    recall  f1-score   support\n",
      "\n",
      "           0       0.88      0.97      0.92       364\n",
      "           1       0.71      0.38      0.49        77\n",
      "\n",
      "    accuracy                           0.86       441\n",
      "   macro avg       0.79      0.67      0.71       441\n",
      "weighted avg       0.85      0.86      0.85       441\n",
      "\n",
      "Accuracy: 0.864\n"
     ]
    },
    {
     "data": {
      "image/png": "[encoded data removed]",
      "text/plain": [
       "<Figure size 360x360 with 1 Axes>"
      ]
     },
     "metadata": {
      "needs_background": "light"
     },
     "output_type": "display_data"
    }
   ],
   "source": [
    "#Confusion matrix of Support Vector Machine(Linear Kernel) model\n",
    "from sklearn.svm import SVC\n",
    "Classifier = SVC (kernel='linear', random_state=0)\n",
    "Classifier.fit (X_train, y_train)\n",
    "\n",
    "y_pred2 = Classifier.predict(X_test)\n",
    "\n",
    "from sklearn.metrics import confusion_matrix\n",
    "confusion_matrix = confusion_matrix(y_test, y_pred2)\n",
    "print(confusion_matrix)\n",
    "\n",
    "from sklearn.metrics import classification_report\n",
    "print(classification_report(y_test,y_pred2))\n",
    "\n",
    "from sklearn.metrics import accuracy_score\n",
    "print('Accuracy: %.3f' % accuracy_score(y_test, y_pred2))\n",
    "\n",
    "# Print the confusion matrix using Matplotlib\n",
    "import matplotlib.pyplot as plt\n",
    "fig, ax = plt.subplots(figsize=(5, 5))\n",
    "ax.matshow(confusion_matrix, cmap=plt.cm.Oranges, alpha=0.3)\n",
    "for i in range(confusion_matrix.shape[0]):\n",
    "    for j in range(confusion_matrix.shape[1]):\n",
    "        ax.text(x=j, y=i,s=confusion_matrix[i, j], va='center', ha='center', size='xx-large')\n",
    " \n",
    "plt.xlabel('Predictions', fontsize=18)\n",
    "plt.ylabel('Actuals', fontsize=18)\n",
    "plt.title('Confusion Matrix', fontsize=18)\n",
    "plt.show()"
   ]
  },
  {
   "cell_type": "code",
   "execution_count": 29,
   "id": "bf091ab6",
   "metadata": {},
   "outputs": [
    {
     "name": "stdout",
     "output_type": "stream",
     "text": [
      "[[362   2]\n",
      " [ 65  12]]\n",
      "              precision    recall  f1-score   support\n",
      "\n",
      "           0       0.85      0.99      0.92       364\n",
      "           1       0.86      0.16      0.26        77\n",
      "\n",
      "    accuracy                           0.85       441\n",
      "   macro avg       0.85      0.58      0.59       441\n",
      "weighted avg       0.85      0.85      0.80       441\n",
      "\n",
      "Accuracy: 0.848\n"
     ]
    },
    {
     "data": {
      "image/png": "[encoded data removed]",
      "text/plain": [
       "<Figure size 360x360 with 1 Axes>"
      ]
     },
     "metadata": {
      "needs_background": "light"
     },
     "output_type": "display_data"
    }
   ],
   "source": [
    "#Confusion matrix of Support Vector Machine(RBF Kernel) model\n",
    "from sklearn.svm import SVC\n",
    "Classifier = SVC (kernel='rbf', random_state=0)\n",
    "Classifier.fit (X_train, y_train)\n",
    "\n",
    "y_pred3 = Classifier.predict(X_test)\n",
    "\n",
    "from sklearn.metrics import confusion_matrix\n",
    "confusion_matrix = confusion_matrix(y_test, y_pred3)\n",
    "print(confusion_matrix)\n",
    "\n",
    "from sklearn.metrics import classification_report\n",
    "print(classification_report(y_test,y_pred3))\n",
    "\n",
    "from sklearn.metrics import accuracy_score\n",
    "print('Accuracy: %.3f' % accuracy_score(y_test, y_pred3))\n",
    "\n",
    "# Print the confusion matrix using Matplotlib\n",
    "import matplotlib.pyplot as plt\n",
    "fig, ax = plt.subplots(figsize=(5, 5))\n",
    "ax.matshow(confusion_matrix, cmap=plt.cm.Oranges, alpha=0.3)\n",
    "for i in range(confusion_matrix.shape[0]):\n",
    "    for j in range(confusion_matrix.shape[1]):\n",
    "        ax.text(x=j, y=i,s=confusion_matrix[i, j], va='center', ha='center', size='xx-large')\n",
    " \n",
    "plt.xlabel('Predictions', fontsize=18)\n",
    "plt.ylabel('Actuals', fontsize=18)\n",
    "plt.title('Confusion Matrix', fontsize=18)\n",
    "plt.show()"
   ]
  },
  {
   "cell_type": "code",
   "execution_count": 32,
   "id": "f6093b66",
   "metadata": {},
   "outputs": [],
   "source": [
    "def compute_tp_tn_fn_fp(y_test, y_pred):\n",
    "    tp=sum((y_test == 1) & (y_pred == 1))\n",
    "    tn=sum((y_test == 0) & (y_pred == 0))\n",
    "    fn=sum((y_test == 1) & (y_pred == 0))\n",
    "    fp =sum((y_test == 0) & (y_pred == 1))\n",
    "    return tp, tn, fp, fn"
   ]
  },
  {
   "cell_type": "code",
   "execution_count": 65,
   "id": "31fb38e9",
   "metadata": {},
   "outputs": [
    {
     "name": "stdout",
     "output_type": "stream",
     "text": [
      "TP for Logistic Regression : 30\n",
      "TN for Logistic Regression : 352\n",
      "FP for Logistic Regression : 12\n",
      "FN for Logistic Regression : 47\n"
     ]
    }
   ],
   "source": [
    "#Calculating TP(Total Positive Value),TN(Total Negative Value),FP(False Positive Value),FN(False Negative Value)\n",
    "#for Logistic Regression model\n",
    "\n",
    "tp_lr, tn_lr, fp_lr, fn_lr = compute_tp_tn_fn_fp(y_test, y_pred1)\n",
    "print('TP for Logistic Regression :', tp_lr)\n",
    "print('TN for Logistic Regression :', tn_lr)\n",
    "print('FP for Logistic Regression :', fp_lr)\n",
    "print('FN for Logistic Regression :', fn_lr)"
   ]
  },
  {
   "cell_type": "code",
   "execution_count": 34,
   "id": "1bbf132f",
   "metadata": {},
   "outputs": [
    {
     "name": "stdout",
     "output_type": "stream",
     "text": [
      "TP for Support Vector Machine(Linear Kernel) model : 29\n",
      "TN for Support Vector Machine(Linear Kernel) model : 352\n",
      "FP for Support Vector Machine(Linear Kernel) model : 12\n",
      "FN for Support Vector Machine(Linear Kernel) model : 48\n"
     ]
    }
   ],
   "source": [
    "#Calculating TP(Total Positive Value),TN(Total Negative Value),FP(False Positive Value),FN(False Negative Value)\n",
    "#for Support Vector Machine(Linear Kernel) model\n",
    "\n",
    "tp_svml, tn_svml, fp_svml, fn_svml = compute_tp_tn_fn_fp(y_test, y_pred2)\n",
    "print('TP for Support Vector Machine(Linear Kernel) model :', tp_svml)\n",
    "print('TN for Support Vector Machine(Linear Kernel) model :', tn_svml)\n",
    "print('FP for Support Vector Machine(Linear Kernel) model :', fp_svml)\n",
    "print('FN for Support Vector Machine(Linear Kernel) model :', fn_svml)"
   ]
  },
  {
   "cell_type": "code",
   "execution_count": 35,
   "id": "08399b6e",
   "metadata": {},
   "outputs": [
    {
     "name": "stdout",
     "output_type": "stream",
     "text": [
      "TP for Support Vector Machine(RBF Kernel) model : 12\n",
      "TN for Support Vector Machine(RBF Kernel) model : 362\n",
      "FP for Support Vector Machine(RBF Kernel) model : 2\n",
      "FN for Support Vector Machine(RBF Kernel) model : 65\n"
     ]
    }
   ],
   "source": [
    "#Calculating TP(Total Positive Value),TN(Total Negative Value),FP(False Positive Value),FN(False Negative Value)\n",
    "#for Support Vector Machine(RBF Kernel) model\n",
    "\n",
    "tp_svmr, tn_svmr, fp_svmr, fn_svmr = compute_tp_tn_fn_fp(y_test, y_pred3)\n",
    "print('TP for Support Vector Machine(RBF Kernel) model :', tp_svmr)\n",
    "print('TN for Support Vector Machine(RBF Kernel) model :', tn_svmr)\n",
    "print('FP for Support Vector Machine(RBF Kernel) model :', fp_svmr)\n",
    "print('FN for Support Vector Machine(RBF Kernel) model :', fn_svmr)"
   ]
  },
  {
   "cell_type": "code",
   "execution_count": 36,
   "id": "ae93f5b0",
   "metadata": {},
   "outputs": [
    {
     "name": "stdout",
     "output_type": "stream",
     "text": [
      "Accuracy for Logistic Regression : 86.62131519274377\n",
      "Accuracy for Support Vector Machine(Linear Kernel) model : 86.39455782312925\n",
      "Accuracy for Support Vector Machine(RBF Kernel) model : 84.80725623582767\n"
     ]
    }
   ],
   "source": [
    "#Calculating Accuracy\n",
    "\n",
    "print('Accuracy for Logistic Regression :', 100*accuracy_score(y_test, y_pred1))\n",
    "print('Accuracy for Support Vector Machine(Linear Kernel) model :', 100*accuracy_score(y_test, y_pred2))\n",
    "print('Accuracy for Support Vector Machine(RBF Kernel) model :', 100*accuracy_score(y_test, y_pred3))   "
   ]
  },
  {
   "cell_type": "code",
   "execution_count": 49,
   "id": "7d8678e8",
   "metadata": {},
   "outputs": [],
   "source": [
    "a_lr=math.floor(accuracy_score(y_test, y_pred1)*100)\n",
    "a_svml=math.floor(accuracy_score(y_test, y_pred2)*100)\n",
    "a_svmr=math.floor(accuracy_score(y_test, y_pred3)*100)"
   ]
  },
  {
   "cell_type": "code",
   "execution_count": 37,
   "id": "f36ed05b",
   "metadata": {},
   "outputs": [
    {
     "name": "stdout",
     "output_type": "stream",
     "text": [
      "Precision for Logistic Regression : 71.42857142857143\n",
      "Precision for Support Vector Machine(Linear Kernel) model : 70.73170731707317\n",
      "Precision for Support Vector Machine(RBF Kernel) model : 85.71428571428571\n"
     ]
    }
   ],
   "source": [
    "#Calculating Precision\n",
    "\n",
    "print('Precision for Logistic Regression :', 100* precision_score(y_test, y_pred1))\n",
    "print('Precision for Support Vector Machine(Linear Kernel) model :', 100* precision_score(y_test, y_pred2))\n",
    "print('Precision for Support Vector Machine(RBF Kernel) model :', 100*precision_score(y_test, y_pred3))   "
   ]
  },
  {
   "cell_type": "code",
   "execution_count": 38,
   "id": "492c78ea",
   "metadata": {},
   "outputs": [
    {
     "name": "stdout",
     "output_type": "stream",
     "text": [
      "Recall for Logistic Regression : 38.961038961038966\n",
      "Recall for Support Vector Machine(Linear Kernel) model : 37.66233766233766\n",
      "Recall for Support Vector Machine(RBF Kernel) model : 15.584415584415584\n"
     ]
    }
   ],
   "source": [
    "#Calculating Recall\n",
    "\n",
    "print('Recall for Logistic Regression :', 100* recall_score(y_test, y_pred1))\n",
    "print('Recall for Support Vector Machine(Linear Kernel) model :', 100* recall_score(y_test, y_pred2))\n",
    "print('Recall for Support Vector Machine(RBF Kernel) model :', 100* recall_score(y_test, y_pred3))"
   ]
  },
  {
   "cell_type": "code",
   "execution_count": 39,
   "id": "4c1a33a7",
   "metadata": {},
   "outputs": [
    {
     "name": "stdout",
     "output_type": "stream",
     "text": [
      "F1 score for Logistic Regression : 0.5042016806722689\n",
      "F1 score for Support Vector Machine(Linear Kernel) model : 0.4915254237288135\n",
      "F1 score for Support Vector Machine(RBF Kernel) model : 0.26373626373626374\n"
     ]
    }
   ],
   "source": [
    "#Calculating F1_score\n",
    "\n",
    "print('F1 score for Logistic Regression :', f1_score(y_test, y_pred1))\n",
    "print('F1 score for Support Vector Machine(Linear Kernel) model :', f1_score(y_test, y_pred2))\n",
    "print('F1 score for Support Vector Machine(RBF Kernel) model :', f1_score(y_test, y_pred3))"
   ]
  },
  {
   "cell_type": "code",
   "execution_count": 48,
   "id": "24988b03",
   "metadata": {},
   "outputs": [],
   "source": [
    "f1_lr=math.floor(f1_score(y_test, y_pred1)*100)\n",
    "f1_svml=math.floor(f1_score(y_test, y_pred2)*100)\n",
    "f1_svmr=math.floor(f1_score(y_test, y_pred3)*100)"
   ]
  },
  {
   "cell_type": "code",
   "execution_count": 50,
   "id": "1d5abd22",
   "metadata": {},
   "outputs": [
    {
     "data": {
      "text/plain": [
       "Text(0.5, 1.0, 'Models Vs Accuracy')"
      ]
     },
     "execution_count": 50,
     "metadata": {},
     "output_type": "execute_result"
    },
    {
     "data": {
      "image/png": "[encoded data removed]",
      "text/plain": [
       "<Figure size 432x288 with 1 Axes>"
      ]
     },
     "metadata": {
      "needs_background": "light"
     },
     "output_type": "display_data"
    }
   ],
   "source": [
    "#Graph between model and accuracy\n",
    "\n",
    "x=['Logistic Regression', 'SVM Linear Kernel model','SVM RBF Kernel model']\n",
    "y=[a_lr, a_svml, a_svmr]\n",
    "plt.plot(x, y)\n",
    "plt.xlabel('Models')\n",
    "plt.ylabel('Accuracy')\n",
    "plt.title('Models Vs Accuracy')"
   ]
  },
  {
   "cell_type": "code",
   "execution_count": 47,
   "id": "18c1bf84",
   "metadata": {},
   "outputs": [
    {
     "data": {
      "text/plain": [
       "Text(0.5, 1.0, 'Models Vs F1_Score')"
      ]
     },
     "execution_count": 47,
     "metadata": {},
     "output_type": "execute_result"
    },
    {
     "data": {
      "image/png": "[encoded data removed]",
      "text/plain": [
       "<Figure size 432x288 with 1 Axes>"
      ]
     },
     "metadata": {
      "needs_background": "light"
     },
     "output_type": "display_data"
    }
   ],
   "source": [
    "#Graph between model and F1_scores\n",
    "\n",
    "x=['Logistic Regression', 'SVM Linear Kernel model','SVM RBF Kernel model']\n",
    "y=[f1_lr, f1_svml, f1_svmr]\n",
    "plt.plot(x, y)\n",
    "plt.xlabel('Models')\n",
    "plt.ylabel('F1_scores')\n",
    "plt.title('Models Vs F1_Score')"
   ]
  },
  {
   "cell_type": "code",
   "execution_count": 63,
   "id": "83628b9f",
   "metadata": {},
   "outputs": [
    {
     "data": {
      "text/plain": [
       "{'Age': -0.3260826939081251,\n",
       " 'Attrition': 0.4611595989277241,\n",
       " 'BusinessTravel': -0.16221752037720052,\n",
       " 'DailyRate': 0.43704625417327464,\n",
       " 'Department': 0.09031489074274253,\n",
       " 'DistanceFromHome': -0.46444194783905574,\n",
       " 'Education': 0.1693996226081028,\n",
       " 'EducationField': 0.08312280236173179,\n",
       " 'EmployeeCount': -0.31992301434626247,\n",
       " 'EmployeeNumber': 0.1268657664844335,\n",
       " 'EnvironmentSatisfaction': -0.283339598349285,\n",
       " 'Gender': -0.059268098375331216,\n",
       " 'HourlyRate': 0.07458330191319462,\n",
       " 'JobInvolvement': 0.3389410390224457,\n",
       " 'JobLevel': 0.8319700671775443,\n",
       " 'JobRole': -0.08723729937980407,\n",
       " 'JobSatisfaction': -0.05379654574453324,\n",
       " 'MaritalStatus': -0.1733332977645172,\n",
       " 'MonthlyIncome': -0.18723631073972546,\n",
       " 'MonthlyRate': -0.3250606149642336,\n",
       " 'NumCompaniesWorked': -0.22862795791419363,\n",
       " 'Over18': -0.3397720708785684,\n",
       " 'OverTime': 0.4701244109341639,\n",
       " 'PercentSalaryHike': -0.4432969594766933,\n",
       " 'PerformanceRating': 0.536328227110093,\n",
       " 'RelationshipSatisfaction': -0.5423546391120876,\n",
       " 'StandardHours': -0.3576498209242578,\n",
       " 'StockOptionLevel': 0.06182657968233347,\n",
       " 'TotalWorkingYears': 0.09253293837114485,\n",
       " 'TrainingTimesLastYear': 0.15966620084268723,\n",
       " 'WorkLifeBalance': -0.10423383110560046,\n",
       " 'YearsAtCompany': 0.12370454943996634,\n",
       " 'YearsInCurrentRole': -0.11911005038701562,\n",
       " 'YearsSinceLastPromotion': -0.1194460166400527,\n",
       " 'YearsWithCurrManager': 0.26542095622421474}"
      ]
     },
     "execution_count": 63,
     "metadata": {},
     "output_type": "execute_result"
    }
   ],
   "source": [
    "#Example to show the accuracy of predictions of employee attrition\n",
    "\n",
    "characteristic_dict=dict(zip(data.columns,list(logmodel.coef_[0])))\n",
    "characteristic_dict"
   ]
  },
  {
   "cell_type": "code",
   "execution_count": 64,
   "id": "bcd924dc",
   "metadata": {},
   "outputs": [
    {
     "data": {
      "text/plain": [
       "<AxesSubplot:title={'center':'characteristic Importance'}>"
      ]
     },
     "execution_count": 64,
     "metadata": {},
     "output_type": "execute_result"
    },
    {
     "data": {
      "image/png": "[encoded data removed]",
      "text/plain": [
       "<Figure size 432x288 with 1 Axes>"
      ]
     },
     "metadata": {
      "needs_background": "light"
     },
     "output_type": "display_data"
    }
   ],
   "source": [
    "df=pd.DataFrame(characteristic_dict,index=[0])\n",
    "df.T.plot(kind=\"bar\",legend=False,title=\"characteristic Importance\")"
   ]
  },
  {
   "cell_type": "code",
   "execution_count": null,
   "id": "c0c1f23a",
   "metadata": {},
   "outputs": [],
   "source": [
    "From above graph, We can clearly infer that job level, overtime and PerformanceRating are the main reasons for employee \n",
    "attrition. So company should try to improve these areas so as to reduce attrition."
   ]
  }
 ],
 "metadata": {
  "kernelspec": {
   "display_name": "Python 3 (ipykernel)",
   "language": "python",
   "name": "python3"
  },
  "language_info": {
   "codemirror_mode": {
    "name": "ipython",
    "version": 3
   },
   "file_extension": ".py",
   "mimetype": "text/x-python",
   "name": "python",
   "nbconvert_exporter": "python",
   "pygments_lexer": "ipython3",
   "version": "3.9.7"
  }
 },
 "nbformat": 4,
 "nbformat_minor": 5
}
