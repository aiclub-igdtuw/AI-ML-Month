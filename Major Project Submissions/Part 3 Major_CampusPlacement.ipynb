{
 "cells": [
  {
   "cell_type": "markdown",
   "id": "9af0a45e",
   "metadata": {},
   "source": [
    "# linear regression model with L2 regularization "
   ]
  },
  {
   "cell_type": "code",
   "execution_count": 36,
   "id": "f5e22f83",
   "metadata": {},
   "outputs": [],
   "source": [
    "import numpy as np\n",
    "import pandas as pd\n",
    "\n",
    "from sklearn.preprocessing import StandardScaler\n",
    "\n",
    "\n",
    "from sklearn.linear_model import Ridge\n",
    "from sklearn.metrics import plot_confusion_matrix\n",
    "data = pd.read_csv(\"E:\\Major project\\Placement_Data_Full_Class.csv\")"
   ]
  },
  {
   "cell_type": "code",
   "execution_count": 37,
   "id": "90424c20",
   "metadata": {},
   "outputs": [
    {
     "name": "stdout",
     "output_type": "stream",
     "text": [
      "<class 'pandas.core.frame.DataFrame'>\n",
      "RangeIndex: 215 entries, 0 to 214\n",
      "Data columns (total 15 columns):\n",
      " #   Column          Non-Null Count  Dtype  \n",
      "---  ------          --------------  -----  \n",
      " 0   sl_no           215 non-null    int64  \n",
      " 1   gender          215 non-null    object \n",
      " 2   ssc_p           215 non-null    float64\n",
      " 3   ssc_b           215 non-null    object \n",
      " 4   hsc_p           215 non-null    float64\n",
      " 5   hsc_b           215 non-null    object \n",
      " 6   hsc_s           215 non-null    object \n",
      " 7   degree_p        215 non-null    float64\n",
      " 8   degree_t        215 non-null    object \n",
      " 9   workex          215 non-null    object \n",
      " 10  etest_p         215 non-null    float64\n",
      " 11  specialisation  215 non-null    object \n",
      " 12  mba_p           215 non-null    float64\n",
      " 13  status          215 non-null    object \n",
      " 14  salary          148 non-null    float64\n",
      "dtypes: float64(6), int64(1), object(8)\n",
      "memory usage: 25.3+ KB\n"
     ]
    }
   ],
   "source": [
    "data.info()"
   ]
  },
  {
   "cell_type": "code",
   "execution_count": 38,
   "id": "dfdace6b",
   "metadata": {},
   "outputs": [],
   "source": [
    "#Preprocessing\n",
    "def binary_encode(df, column_dict):\n",
    "    df = df.copy()\n",
    "    for column, positive_value in column_dict.items():\n",
    "        df[column] = df[column].apply(lambda x: 1 if x == positive_value else 0)\n",
    "    return df\n",
    "\n",
    "def onehot_encode(df, column_dict):\n",
    "    df = df.copy()\n",
    "    for column, prefix in column_dict.items():\n",
    "        dummies = pd.get_dummies(df[column], prefix=prefix)\n",
    "        df = pd.concat([df, dummies], axis=1)\n",
    "        df = df.drop(column, axis=1)\n",
    "    return df"
   ]
  },
  {
   "cell_type": "code",
   "execution_count": 39,
   "id": "37812a07",
   "metadata": {},
   "outputs": [],
   "source": [
    "def preprocess_inputs(df):\n",
    "    df = df.copy()\n",
    "    \n",
    "    # Encode categorical features\n",
    "    binary_feature_dict = {\n",
    "        'gender': 'M',\n",
    "        'ssc_b': 'Central',\n",
    "        'hsc_b': 'Central',\n",
    "        'workex': 'Yes',\n",
    "        'specialisation': 'Mkt&Fin',\n",
    "        'status': 'Placed'\n",
    "    }\n",
    "    \n",
    "    nominal_feature_dict = {\n",
    "        'hsc_s': 'hsc',\n",
    "        'degree_t': 'deg'\n",
    "    }\n",
    "    df = binary_encode(df, binary_feature_dict)\n",
    "    df = onehot_encode(df, nominal_feature_dict)\n",
    "    \n",
    "    # Split missing salary data from df and save it for later\n",
    "    missing_salaries = df[df.isna().sum(axis=1) > 0]\n",
    "    missing_salaries = missing_salaries.drop('salary', axis=1)\n",
    "    \n",
    "    missing_salary_ids = missing_salaries['sl_no'].reset_index(drop=True).copy()\n",
    "    \n",
    "    df = df.drop(missing_salaries.index, axis=0).reset_index(drop=True)\n",
    "    \n",
    "    \n",
    "    # Drop sl_no column\n",
    "    df = df.drop('sl_no', axis=1)\n",
    "    missing_salaries = missing_salaries.drop('sl_no', axis=1)\n",
    "    \n",
    "    # Split df into X and y\n",
    "    y = df['salary'].copy()\n",
    "    X = df.drop('salary', axis=1).copy()\n",
    "    \n",
    "    # Train-test split\n",
    "    X_train, X_test, y_train, y_test = train_test_split(X, y, train_size=0.8, random_state=123)\n",
    "    \n",
    "    # Scale X with a standard scaler\n",
    "    scaler = StandardScaler()\n",
    "    scaler.fit(X_train)\n",
    "    \n",
    "    X_train = scaler.transform(X_train)\n",
    "    X_test = scaler.transform(X_test)\n",
    "    missing_salaries = scaler.transform(missing_salaries)\n",
    "    return X_train, X_test, y_train, y_test, missing_salaries, missing_salary_ids\n",
    "    "
   ]
  },
  {
   "cell_type": "code",
   "execution_count": 40,
   "id": "1050cfa5",
   "metadata": {},
   "outputs": [],
   "source": [
    "X_train, X_test, y_train, y_test, missing_salaries, missing_salary_ids = preprocess_inputs(data)"
   ]
  },
  {
   "cell_type": "markdown",
   "id": "ddf79a86",
   "metadata": {},
   "source": [
    "# Training/Results\n"
   ]
  },
  {
   "cell_type": "code",
   "execution_count": 41,
   "id": "f2b5daf6",
   "metadata": {},
   "outputs": [
    {
     "name": "stdout",
     "output_type": "stream",
     "text": [
      "Model R^2: 0.03140\n"
     ]
    }
   ],
   "source": [
    "model = Ridge(alpha=100.0)\n",
    "model.fit(X_train, y_train)\n",
    "\n",
    "model_r2 = model.score(X_test, y_test)\n",
    "\n",
    "print(\"Model R^2: {:.5f}\".format(model_r2))"
   ]
  },
  {
   "cell_type": "code",
   "execution_count": 42,
   "id": "e5337a55",
   "metadata": {},
   "outputs": [
    {
     "name": "stdout",
     "output_type": "stream",
     "text": [
      "Potential salaries for missing target values:\n"
     ]
    },
    {
     "data": {
      "text/html": [
       "<div>\n",
       "<style scoped>\n",
       "    .dataframe tbody tr th:only-of-type {\n",
       "        vertical-align: middle;\n",
       "    }\n",
       "\n",
       "    .dataframe tbody tr th {\n",
       "        vertical-align: top;\n",
       "    }\n",
       "\n",
       "    .dataframe thead th {\n",
       "        text-align: right;\n",
       "    }\n",
       "</style>\n",
       "<table border=\"1\" class=\"dataframe\">\n",
       "  <thead>\n",
       "    <tr style=\"text-align: right;\">\n",
       "      <th></th>\n",
       "      <th>sl_no</th>\n",
       "      <th>salary</th>\n",
       "    </tr>\n",
       "  </thead>\n",
       "  <tbody>\n",
       "    <tr>\n",
       "      <th>0</th>\n",
       "      <td>4</td>\n",
       "      <td>300029.076252</td>\n",
       "    </tr>\n",
       "    <tr>\n",
       "      <th>1</th>\n",
       "      <td>6</td>\n",
       "      <td>295397.270069</td>\n",
       "    </tr>\n",
       "    <tr>\n",
       "      <th>2</th>\n",
       "      <td>7</td>\n",
       "      <td>262684.013410</td>\n",
       "    </tr>\n",
       "    <tr>\n",
       "      <th>3</th>\n",
       "      <td>10</td>\n",
       "      <td>273913.473268</td>\n",
       "    </tr>\n",
       "    <tr>\n",
       "      <th>4</th>\n",
       "      <td>13</td>\n",
       "      <td>256581.522217</td>\n",
       "    </tr>\n",
       "    <tr>\n",
       "      <th>...</th>\n",
       "      <td>...</td>\n",
       "      <td>...</td>\n",
       "    </tr>\n",
       "    <tr>\n",
       "      <th>62</th>\n",
       "      <td>199</td>\n",
       "      <td>314834.883618</td>\n",
       "    </tr>\n",
       "    <tr>\n",
       "      <th>63</th>\n",
       "      <td>202</td>\n",
       "      <td>274553.852116</td>\n",
       "    </tr>\n",
       "    <tr>\n",
       "      <th>64</th>\n",
       "      <td>207</td>\n",
       "      <td>294912.906217</td>\n",
       "    </tr>\n",
       "    <tr>\n",
       "      <th>65</th>\n",
       "      <td>209</td>\n",
       "      <td>269195.020570</td>\n",
       "    </tr>\n",
       "    <tr>\n",
       "      <th>66</th>\n",
       "      <td>215</td>\n",
       "      <td>283724.673100</td>\n",
       "    </tr>\n",
       "  </tbody>\n",
       "</table>\n",
       "<p>67 rows × 2 columns</p>\n",
       "</div>"
      ],
      "text/plain": [
       "    sl_no         salary\n",
       "0       4  300029.076252\n",
       "1       6  295397.270069\n",
       "2       7  262684.013410\n",
       "3      10  273913.473268\n",
       "4      13  256581.522217\n",
       "..    ...            ...\n",
       "62    199  314834.883618\n",
       "63    202  274553.852116\n",
       "64    207  294912.906217\n",
       "65    209  269195.020570\n",
       "66    215  283724.673100\n",
       "\n",
       "[67 rows x 2 columns]"
      ]
     },
     "execution_count": 42,
     "metadata": {},
     "output_type": "execute_result"
    }
   ],
   "source": [
    "missing_salary_predictions = pd.Series(model.predict(missing_salaries), name='salary')\n",
    "\n",
    "print(\"Potential salaries for missing target values:\")\n",
    "pd.concat([missing_salary_ids, missing_salary_predictions], axis=1)"
   ]
  },
  {
   "cell_type": "code",
   "execution_count": null,
   "id": "03cdff64",
   "metadata": {},
   "outputs": [],
   "source": []
  },
  {
   "cell_type": "code",
   "execution_count": null,
   "id": "48edca4d",
   "metadata": {},
   "outputs": [],
   "source": []
  },
  {
   "cell_type": "code",
   "execution_count": null,
   "id": "9e4d2892",
   "metadata": {},
   "outputs": [],
   "source": []
  }
 ],
 "metadata": {
  "kernelspec": {
   "display_name": "Python 3 (ipykernel)",
   "language": "python",
   "name": "python3"
  },
  "language_info": {
   "codemirror_mode": {
    "name": "ipython",
    "version": 3
   },
   "file_extension": ".py",
   "mimetype": "text/x-python",
   "name": "python",
   "nbconvert_exporter": "python",
   "pygments_lexer": "ipython3",
   "version": "3.10.2"
  }
 },
 "nbformat": 4,
 "nbformat_minor": 5
}
