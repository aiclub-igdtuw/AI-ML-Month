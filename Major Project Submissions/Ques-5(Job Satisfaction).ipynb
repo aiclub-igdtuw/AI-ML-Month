{
 "cells": [
  {
   "cell_type": "code",
   "execution_count": 9,
   "id": "ba7fc71e",
   "metadata": {},
   "outputs": [
    {
     "data": {
      "text/plain": [
       "0    4\n",
       "Name: JobSatisfaction, dtype: int64"
      ]
     },
     "execution_count": 9,
     "metadata": {},
     "output_type": "execute_result"
    }
   ],
   "source": [
    "import numpy as np\n",
    "import matplotlib.pyplot as plt\n",
    "import seaborn as sns\n",
    "%matplotlib inline\n",
    "\n",
    "import os\n",
    "os.getcwd()\n",
    "\n",
    "#importing the data file into the notebook\n",
    "import pandas as pd\n",
    "df = pd.read_csv(\"HR-Employee-Attrition.csv\")\n",
    "df\n",
    "\n",
    "df = df[['Department', 'JobSatisfaction']]\n",
    "df\n",
    "\n",
    "#Determining the level of JobSatisfaction by most of the people\n",
    "df['JobSatisfaction'].mode()"
   ]
  },
  {
   "cell_type": "code",
   "execution_count": 10,
   "id": "030adb45",
   "metadata": {},
   "outputs": [
    {
     "data": {
      "text/plain": [
       "2    20\n",
       "4    17\n",
       "3    15\n",
       "1    11\n",
       "Name: JobSatisfaction, dtype: int64"
      ]
     },
     "execution_count": 10,
     "metadata": {},
     "output_type": "execute_result"
    }
   ],
   "source": [
    "#importing the data file into the notebook\n",
    "import pandas as pd\n",
    "df = pd.read_csv(\"HR-Employee-Attrition.csv\")\n",
    "df\n",
    "\n",
    "df = df[['Department', 'JobSatisfaction']]\n",
    "df\n",
    "\n",
    "#Implementing the desired one and commenting the other two will give us the number of people in a department who are most satisfied \n",
    "\n",
    "#df = df[(df['Department'] == 'Sales')]\n",
    "#df\n",
    "\n",
    "#df = df['JobSatisfaction'].value_counts()\n",
    "#df\n",
    "\n",
    "df = df[(df['Department'] == 'Human Resources')]\n",
    "df\n",
    "\n",
    "df = df['JobSatisfaction'].value_counts()\n",
    "df\n",
    "\n",
    "#df = df[(df['Department'] == 'Research & Development')]\n",
    "#df\n",
    "\n",
    "#df = df['JobSatisfaction'].value_counts()\n",
    "#df"
   ]
  },
  {
   "cell_type": "code",
   "execution_count": null,
   "id": "ff1c643a",
   "metadata": {},
   "outputs": [],
   "source": [
    "After implementing the above code, it is evident that--\n",
    "The people of Research & Development department are the most satisfied."
   ]
  }
 ],
 "metadata": {
  "kernelspec": {
   "display_name": "Python 3 (ipykernel)",
   "language": "python",
   "name": "python3"
  },
  "language_info": {
   "codemirror_mode": {
    "name": "ipython",
    "version": 3
   },
   "file_extension": ".py",
   "mimetype": "text/x-python",
   "name": "python",
   "nbconvert_exporter": "python",
   "pygments_lexer": "ipython3",
   "version": "3.9.12"
  }
 },
 "nbformat": 4,
 "nbformat_minor": 5
}
