{
  "cells": [
    {
      "cell_type": "markdown",
      "metadata": {
        "id": "view-in-github",
        "colab_type": "text"
      },
      "source": [
        "<a href=\"https://colab.research.google.com/github/sharmaanj200/AI-ML-Month/blob/main/Superstore_dataset.ipynb\" target=\"_parent\"><img src=\"https://colab.research.google.com/assets/colab-badge.svg\" alt=\"Open In Colab\"/></a>"
      ]
    },
    {
      "cell_type": "code",
      "source": [
        "from google.colab import drive\n",
        "drive.mount('/content/drive')"
      ],
      "metadata": {
        "colab": {
          "base_uri": "https://localhost:8080/"
        },
        "id": "r8g7tiO0xbhw",
        "outputId": "4cd5e327-90fc-41b6-ff3a-626d31147280"
      },
      "execution_count": null,
      "outputs": [
        {
          "output_type": "stream",
          "name": "stdout",
          "text": [
            "Drive already mounted at /content/drive; to attempt to forcibly remount, call drive.mount(\"/content/drive\", force_remount=True).\n"
          ]
        }
      ]
    },
    {
      "cell_type": "code",
      "execution_count": null,
      "metadata": {
        "id": "LVCYC7yHIlnD"
      },
      "outputs": [],
      "source": [
        "import pandas as pd\n",
        "import numpy as np\n",
        "import matplotlib.pyplot as plt\n",
        "import seaborn as sns"
      ]
    },
    {
      "cell_type": "markdown",
      "source": [
        "**Understanding data**"
      ],
      "metadata": {
        "id": "QKuxKQeHREs-"
      }
    },
    {
      "cell_type": "code",
      "execution_count": null,
      "metadata": {
        "id": "X-ieIKCjRl-3",
        "colab": {
          "base_uri": "https://localhost:8080/",
          "height": 577
        },
        "outputId": "46f90612-0ff7-4b64-9f89-306abea38440"
      },
      "outputs": [
        {
          "output_type": "execute_result",
          "data": {
            "text/plain": [
              "   Row ID         Order ID  Order Date   Ship Date       Ship Mode  \\\n",
              "0   42433     AG-2011-2040  01-01-2011  06-01-2011  Standard Class   \n",
              "1   22253    IN-2011-47883  01-01-2011  08-01-2011  Standard Class   \n",
              "2   48883     HU-2011-1220  01-01-2011  05-01-2011    Second Class   \n",
              "3   11731  IT-2011-3647632  01-01-2011  05-01-2011    Second Class   \n",
              "4   22255    IN-2011-47883  01-01-2011  08-01-2011  Standard Class   \n",
              "\n",
              "  Customer ID    Customer Name      Segment         City            State  \\\n",
              "0    TB-11280  Toby Braunhardt     Consumer  Constantine      Constantine   \n",
              "1    JH-15985      Joseph Holt     Consumer  Wagga Wagga  New South Wales   \n",
              "2      AT-735    Annie Thurman     Consumer     Budapest         Budapest   \n",
              "3    EM-14140     Eugene Moren  Home Office    Stockholm        Stockholm   \n",
              "4    JH-15985      Joseph Holt     Consumer  Wagga Wagga  New South Wales   \n",
              "\n",
              "   ...        Product ID         Category Sub-Category  \\\n",
              "0  ...  OFF-TEN-10000025  Office Supplies      Storage   \n",
              "1  ...   OFF-SU-10000618  Office Supplies     Supplies   \n",
              "2  ...  OFF-TEN-10001585  Office Supplies      Storage   \n",
              "3  ...   OFF-PA-10001492  Office Supplies        Paper   \n",
              "4  ...   FUR-FU-10003447        Furniture  Furnishings   \n",
              "\n",
              "                  Product Name    Sales Quantity Discount   Profit  \\\n",
              "0          Tenex Lockers, Blue  408.300        2      0.0  106.140   \n",
              "1     Acme Trimmer, High Speed  120.366        3      0.1   36.036   \n",
              "2      Tenex Box, Single Width   66.120        4      0.0   29.640   \n",
              "3  Enermax Note Cards, Premium   44.865        3      0.5  -26.055   \n",
              "4   Eldon Light Bulb, Duo Pack  113.670        5      0.1   37.770   \n",
              "\n",
              "   Shipping Cost  Order Priority  \n",
              "0          35.46          Medium  \n",
              "1           9.72          Medium  \n",
              "2           8.17            High  \n",
              "3           4.82            High  \n",
              "4           4.70          Medium  \n",
              "\n",
              "[5 rows x 24 columns]"
            ],
            "text/html": [
              "\n",
              "  <div id=\"df-611bd5d2-8b60-4156-9bc6-0e9c544ed74f\">\n",
              "    <div class=\"colab-df-container\">\n",
              "      <div>\n",
              "<style scoped>\n",
              "    .dataframe tbody tr th:only-of-type {\n",
              "        vertical-align: middle;\n",
              "    }\n",
              "\n",
              "    .dataframe tbody tr th {\n",
              "        vertical-align: top;\n",
              "    }\n",
              "\n",
              "    .dataframe thead th {\n",
              "        text-align: right;\n",
              "    }\n",
              "</style>\n",
              "<table border=\"1\" class=\"dataframe\">\n",
              "  <thead>\n",
              "    <tr style=\"text-align: right;\">\n",
              "      <th></th>\n",
              "      <th>Row ID</th>\n",
              "      <th>Order ID</th>\n",
              "      <th>Order Date</th>\n",
              "      <th>Ship Date</th>\n",
              "      <th>Ship Mode</th>\n",
              "      <th>Customer ID</th>\n",
              "      <th>Customer Name</th>\n",
              "      <th>Segment</th>\n",
              "      <th>City</th>\n",
              "      <th>State</th>\n",
              "      <th>...</th>\n",
              "      <th>Product ID</th>\n",
              "      <th>Category</th>\n",
              "      <th>Sub-Category</th>\n",
              "      <th>Product Name</th>\n",
              "      <th>Sales</th>\n",
              "      <th>Quantity</th>\n",
              "      <th>Discount</th>\n",
              "      <th>Profit</th>\n",
              "      <th>Shipping Cost</th>\n",
              "      <th>Order Priority</th>\n",
              "    </tr>\n",
              "  </thead>\n",
              "  <tbody>\n",
              "    <tr>\n",
              "      <th>0</th>\n",
              "      <td>42433</td>\n",
              "      <td>AG-2011-2040</td>\n",
              "      <td>01-01-2011</td>\n",
              "      <td>06-01-2011</td>\n",
              "      <td>Standard Class</td>\n",
              "      <td>TB-11280</td>\n",
              "      <td>Toby Braunhardt</td>\n",
              "      <td>Consumer</td>\n",
              "      <td>Constantine</td>\n",
              "      <td>Constantine</td>\n",
              "      <td>...</td>\n",
              "      <td>OFF-TEN-10000025</td>\n",
              "      <td>Office Supplies</td>\n",
              "      <td>Storage</td>\n",
              "      <td>Tenex Lockers, Blue</td>\n",
              "      <td>408.300</td>\n",
              "      <td>2</td>\n",
              "      <td>0.0</td>\n",
              "      <td>106.140</td>\n",
              "      <td>35.46</td>\n",
              "      <td>Medium</td>\n",
              "    </tr>\n",
              "    <tr>\n",
              "      <th>1</th>\n",
              "      <td>22253</td>\n",
              "      <td>IN-2011-47883</td>\n",
              "      <td>01-01-2011</td>\n",
              "      <td>08-01-2011</td>\n",
              "      <td>Standard Class</td>\n",
              "      <td>JH-15985</td>\n",
              "      <td>Joseph Holt</td>\n",
              "      <td>Consumer</td>\n",
              "      <td>Wagga Wagga</td>\n",
              "      <td>New South Wales</td>\n",
              "      <td>...</td>\n",
              "      <td>OFF-SU-10000618</td>\n",
              "      <td>Office Supplies</td>\n",
              "      <td>Supplies</td>\n",
              "      <td>Acme Trimmer, High Speed</td>\n",
              "      <td>120.366</td>\n",
              "      <td>3</td>\n",
              "      <td>0.1</td>\n",
              "      <td>36.036</td>\n",
              "      <td>9.72</td>\n",
              "      <td>Medium</td>\n",
              "    </tr>\n",
              "    <tr>\n",
              "      <th>2</th>\n",
              "      <td>48883</td>\n",
              "      <td>HU-2011-1220</td>\n",
              "      <td>01-01-2011</td>\n",
              "      <td>05-01-2011</td>\n",
              "      <td>Second Class</td>\n",
              "      <td>AT-735</td>\n",
              "      <td>Annie Thurman</td>\n",
              "      <td>Consumer</td>\n",
              "      <td>Budapest</td>\n",
              "      <td>Budapest</td>\n",
              "      <td>...</td>\n",
              "      <td>OFF-TEN-10001585</td>\n",
              "      <td>Office Supplies</td>\n",
              "      <td>Storage</td>\n",
              "      <td>Tenex Box, Single Width</td>\n",
              "      <td>66.120</td>\n",
              "      <td>4</td>\n",
              "      <td>0.0</td>\n",
              "      <td>29.640</td>\n",
              "      <td>8.17</td>\n",
              "      <td>High</td>\n",
              "    </tr>\n",
              "    <tr>\n",
              "      <th>3</th>\n",
              "      <td>11731</td>\n",
              "      <td>IT-2011-3647632</td>\n",
              "      <td>01-01-2011</td>\n",
              "      <td>05-01-2011</td>\n",
              "      <td>Second Class</td>\n",
              "      <td>EM-14140</td>\n",
              "      <td>Eugene Moren</td>\n",
              "      <td>Home Office</td>\n",
              "      <td>Stockholm</td>\n",
              "      <td>Stockholm</td>\n",
              "      <td>...</td>\n",
              "      <td>OFF-PA-10001492</td>\n",
              "      <td>Office Supplies</td>\n",
              "      <td>Paper</td>\n",
              "      <td>Enermax Note Cards, Premium</td>\n",
              "      <td>44.865</td>\n",
              "      <td>3</td>\n",
              "      <td>0.5</td>\n",
              "      <td>-26.055</td>\n",
              "      <td>4.82</td>\n",
              "      <td>High</td>\n",
              "    </tr>\n",
              "    <tr>\n",
              "      <th>4</th>\n",
              "      <td>22255</td>\n",
              "      <td>IN-2011-47883</td>\n",
              "      <td>01-01-2011</td>\n",
              "      <td>08-01-2011</td>\n",
              "      <td>Standard Class</td>\n",
              "      <td>JH-15985</td>\n",
              "      <td>Joseph Holt</td>\n",
              "      <td>Consumer</td>\n",
              "      <td>Wagga Wagga</td>\n",
              "      <td>New South Wales</td>\n",
              "      <td>...</td>\n",
              "      <td>FUR-FU-10003447</td>\n",
              "      <td>Furniture</td>\n",
              "      <td>Furnishings</td>\n",
              "      <td>Eldon Light Bulb, Duo Pack</td>\n",
              "      <td>113.670</td>\n",
              "      <td>5</td>\n",
              "      <td>0.1</td>\n",
              "      <td>37.770</td>\n",
              "      <td>4.70</td>\n",
              "      <td>Medium</td>\n",
              "    </tr>\n",
              "  </tbody>\n",
              "</table>\n",
              "<p>5 rows × 24 columns</p>\n",
              "</div>\n",
              "      <button class=\"colab-df-convert\" onclick=\"convertToInteractive('df-611bd5d2-8b60-4156-9bc6-0e9c544ed74f')\"\n",
              "              title=\"Convert this dataframe to an interactive table.\"\n",
              "              style=\"display:none;\">\n",
              "        \n",
              "  <svg xmlns=\"http://www.w3.org/2000/svg\" height=\"24px\"viewBox=\"0 0 24 24\"\n",
              "       width=\"24px\">\n",
              "    <path d=\"M0 0h24v24H0V0z\" fill=\"none\"/>\n",
              "    <path d=\"M18.56 5.44l.94 2.06.94-2.06 2.06-.94-2.06-.94-.94-2.06-.94 2.06-2.06.94zm-11 1L8.5 8.5l.94-2.06 2.06-.94-2.06-.94L8.5 2.5l-.94 2.06-2.06.94zm10 10l.94 2.06.94-2.06 2.06-.94-2.06-.94-.94-2.06-.94 2.06-2.06.94z\"/><path d=\"M17.41 7.96l-1.37-1.37c-.4-.4-.92-.59-1.43-.59-.52 0-1.04.2-1.43.59L10.3 9.45l-7.72 7.72c-.78.78-.78 2.05 0 2.83L4 21.41c.39.39.9.59 1.41.59.51 0 1.02-.2 1.41-.59l7.78-7.78 2.81-2.81c.8-.78.8-2.07 0-2.86zM5.41 20L4 18.59l7.72-7.72 1.47 1.35L5.41 20z\"/>\n",
              "  </svg>\n",
              "      </button>\n",
              "      \n",
              "  <style>\n",
              "    .colab-df-container {\n",
              "      display:flex;\n",
              "      flex-wrap:wrap;\n",
              "      gap: 12px;\n",
              "    }\n",
              "\n",
              "    .colab-df-convert {\n",
              "      background-color: #E8F0FE;\n",
              "      border: none;\n",
              "      border-radius: 50%;\n",
              "      cursor: pointer;\n",
              "      display: none;\n",
              "      fill: #1967D2;\n",
              "      height: 32px;\n",
              "      padding: 0 0 0 0;\n",
              "      width: 32px;\n",
              "    }\n",
              "\n",
              "    .colab-df-convert:hover {\n",
              "      background-color: #E2EBFA;\n",
              "      box-shadow: 0px 1px 2px rgba(60, 64, 67, 0.3), 0px 1px 3px 1px rgba(60, 64, 67, 0.15);\n",
              "      fill: #174EA6;\n",
              "    }\n",
              "\n",
              "    [theme=dark] .colab-df-convert {\n",
              "      background-color: #3B4455;\n",
              "      fill: #D2E3FC;\n",
              "    }\n",
              "\n",
              "    [theme=dark] .colab-df-convert:hover {\n",
              "      background-color: #434B5C;\n",
              "      box-shadow: 0px 1px 3px 1px rgba(0, 0, 0, 0.15);\n",
              "      filter: drop-shadow(0px 1px 2px rgba(0, 0, 0, 0.3));\n",
              "      fill: #FFFFFF;\n",
              "    }\n",
              "  </style>\n",
              "\n",
              "      <script>\n",
              "        const buttonEl =\n",
              "          document.querySelector('#df-611bd5d2-8b60-4156-9bc6-0e9c544ed74f button.colab-df-convert');\n",
              "        buttonEl.style.display =\n",
              "          google.colab.kernel.accessAllowed ? 'block' : 'none';\n",
              "\n",
              "        async function convertToInteractive(key) {\n",
              "          const element = document.querySelector('#df-611bd5d2-8b60-4156-9bc6-0e9c544ed74f');\n",
              "          const dataTable =\n",
              "            await google.colab.kernel.invokeFunction('convertToInteractive',\n",
              "                                                     [key], {});\n",
              "          if (!dataTable) return;\n",
              "\n",
              "          const docLinkHtml = 'Like what you see? Visit the ' +\n",
              "            '<a target=\"_blank\" href=https://colab.research.google.com/notebooks/data_table.ipynb>data table notebook</a>'\n",
              "            + ' to learn more about interactive tables.';\n",
              "          element.innerHTML = '';\n",
              "          dataTable['output_type'] = 'display_data';\n",
              "          await google.colab.output.renderOutput(dataTable, element);\n",
              "          const docLink = document.createElement('div');\n",
              "          docLink.innerHTML = docLinkHtml;\n",
              "          element.appendChild(docLink);\n",
              "        }\n",
              "      </script>\n",
              "    </div>\n",
              "  </div>\n",
              "  "
            ]
          },
          "metadata": {},
          "execution_count": 9
        }
      ],
      "source": [
        "data = pd.read_csv('/content/drive/MyDrive/Superstore.csv',encoding='latin-1')\n",
        "data.head()"
      ]
    },
    {
      "cell_type": "code",
      "source": [
        "data.tail()"
      ],
      "metadata": {
        "colab": {
          "base_uri": "https://localhost:8080/",
          "height": 525
        },
        "id": "lbgu6BEfQNn1",
        "outputId": "6a114c55-9101-49db-ba40-5b68d1b10eac"
      },
      "execution_count": null,
      "outputs": [
        {
          "output_type": "execute_result",
          "data": {
            "text/plain": [
              "       Row ID        Order ID  Order Date   Ship Date       Ship Mode  \\\n",
              "51285   32593  CA-2014-115427  31-12-2014  04-01-2015  Standard Class   \n",
              "51286   47594    MO-2014-2560  31-12-2014  05-01-2015  Standard Class   \n",
              "51287    8857  MX-2014-110527  31-12-2014  02-01-2015    Second Class   \n",
              "51288    6852  MX-2014-114783  31-12-2014  06-01-2015  Standard Class   \n",
              "51289   36388  CA-2014-156720  31-12-2014  04-01-2015  Standard Class   \n",
              "\n",
              "      Customer ID     Customer Name    Segment       City             State  \\\n",
              "51285    EB-13975        Erica Bern  Corporate  Fairfield        California   \n",
              "51286     LP-7095         Liz Preis   Consumer     Agadir  Souss-Massa-Draâ   \n",
              "51287    CM-12190  Charlotte Melton   Consumer    Managua           Managua   \n",
              "51288    TD-20995     Tamara Dahlen   Consumer     Juárez         Chihuahua   \n",
              "51289    JM-15580     Jill Matthias   Consumer   Loveland          Colorado   \n",
              "\n",
              "       ...        Product ID         Category Sub-Category  \\\n",
              "51285  ...   OFF-BI-10002103  Office Supplies      Binders   \n",
              "51286  ...  OFF-WIL-10001069  Office Supplies      Binders   \n",
              "51287  ...   OFF-LA-10004182  Office Supplies       Labels   \n",
              "51288  ...   OFF-LA-10000413  Office Supplies       Labels   \n",
              "51289  ...   OFF-FA-10003472  Office Supplies    Fasteners   \n",
              "\n",
              "                                          Product Name   Sales Quantity  \\\n",
              "51285  Cardinal Slant-D Ring Binder, Heavy Gauge Vinyl  13.904        2   \n",
              "51286          Wilson Jones Hole Reinforcements, Clear   3.990        1   \n",
              "51287           Hon Color Coded Labels, 5000 Label Set  26.400        3   \n",
              "51288           Hon Legal Exhibit Labels, Alphabetical   7.120        1   \n",
              "51289                              Bagged Rubber Bands   3.024        3   \n",
              "\n",
              "      Discount   Profit  Shipping Cost  Order Priority  \n",
              "51285      0.2   4.5188           0.89          Medium  \n",
              "51286      0.0   0.4200           0.49          Medium  \n",
              "51287      0.0  12.3600           0.35          Medium  \n",
              "51288      0.0   0.5600           0.20          Medium  \n",
              "51289      0.2  -0.6048           0.17          Medium  \n",
              "\n",
              "[5 rows x 24 columns]"
            ],
            "text/html": [
              "\n",
              "  <div id=\"df-be2d3c5f-c07f-400f-879c-655b637a3d61\">\n",
              "    <div class=\"colab-df-container\">\n",
              "      <div>\n",
              "<style scoped>\n",
              "    .dataframe tbody tr th:only-of-type {\n",
              "        vertical-align: middle;\n",
              "    }\n",
              "\n",
              "    .dataframe tbody tr th {\n",
              "        vertical-align: top;\n",
              "    }\n",
              "\n",
              "    .dataframe thead th {\n",
              "        text-align: right;\n",
              "    }\n",
              "</style>\n",
              "<table border=\"1\" class=\"dataframe\">\n",
              "  <thead>\n",
              "    <tr style=\"text-align: right;\">\n",
              "      <th></th>\n",
              "      <th>Row ID</th>\n",
              "      <th>Order ID</th>\n",
              "      <th>Order Date</th>\n",
              "      <th>Ship Date</th>\n",
              "      <th>Ship Mode</th>\n",
              "      <th>Customer ID</th>\n",
              "      <th>Customer Name</th>\n",
              "      <th>Segment</th>\n",
              "      <th>City</th>\n",
              "      <th>State</th>\n",
              "      <th>...</th>\n",
              "      <th>Product ID</th>\n",
              "      <th>Category</th>\n",
              "      <th>Sub-Category</th>\n",
              "      <th>Product Name</th>\n",
              "      <th>Sales</th>\n",
              "      <th>Quantity</th>\n",
              "      <th>Discount</th>\n",
              "      <th>Profit</th>\n",
              "      <th>Shipping Cost</th>\n",
              "      <th>Order Priority</th>\n",
              "    </tr>\n",
              "  </thead>\n",
              "  <tbody>\n",
              "    <tr>\n",
              "      <th>51285</th>\n",
              "      <td>32593</td>\n",
              "      <td>CA-2014-115427</td>\n",
              "      <td>31-12-2014</td>\n",
              "      <td>04-01-2015</td>\n",
              "      <td>Standard Class</td>\n",
              "      <td>EB-13975</td>\n",
              "      <td>Erica Bern</td>\n",
              "      <td>Corporate</td>\n",
              "      <td>Fairfield</td>\n",
              "      <td>California</td>\n",
              "      <td>...</td>\n",
              "      <td>OFF-BI-10002103</td>\n",
              "      <td>Office Supplies</td>\n",
              "      <td>Binders</td>\n",
              "      <td>Cardinal Slant-D Ring Binder, Heavy Gauge Vinyl</td>\n",
              "      <td>13.904</td>\n",
              "      <td>2</td>\n",
              "      <td>0.2</td>\n",
              "      <td>4.5188</td>\n",
              "      <td>0.89</td>\n",
              "      <td>Medium</td>\n",
              "    </tr>\n",
              "    <tr>\n",
              "      <th>51286</th>\n",
              "      <td>47594</td>\n",
              "      <td>MO-2014-2560</td>\n",
              "      <td>31-12-2014</td>\n",
              "      <td>05-01-2015</td>\n",
              "      <td>Standard Class</td>\n",
              "      <td>LP-7095</td>\n",
              "      <td>Liz Preis</td>\n",
              "      <td>Consumer</td>\n",
              "      <td>Agadir</td>\n",
              "      <td>Souss-Massa-Draâ</td>\n",
              "      <td>...</td>\n",
              "      <td>OFF-WIL-10001069</td>\n",
              "      <td>Office Supplies</td>\n",
              "      <td>Binders</td>\n",
              "      <td>Wilson Jones Hole Reinforcements, Clear</td>\n",
              "      <td>3.990</td>\n",
              "      <td>1</td>\n",
              "      <td>0.0</td>\n",
              "      <td>0.4200</td>\n",
              "      <td>0.49</td>\n",
              "      <td>Medium</td>\n",
              "    </tr>\n",
              "    <tr>\n",
              "      <th>51287</th>\n",
              "      <td>8857</td>\n",
              "      <td>MX-2014-110527</td>\n",
              "      <td>31-12-2014</td>\n",
              "      <td>02-01-2015</td>\n",
              "      <td>Second Class</td>\n",
              "      <td>CM-12190</td>\n",
              "      <td>Charlotte Melton</td>\n",
              "      <td>Consumer</td>\n",
              "      <td>Managua</td>\n",
              "      <td>Managua</td>\n",
              "      <td>...</td>\n",
              "      <td>OFF-LA-10004182</td>\n",
              "      <td>Office Supplies</td>\n",
              "      <td>Labels</td>\n",
              "      <td>Hon Color Coded Labels, 5000 Label Set</td>\n",
              "      <td>26.400</td>\n",
              "      <td>3</td>\n",
              "      <td>0.0</td>\n",
              "      <td>12.3600</td>\n",
              "      <td>0.35</td>\n",
              "      <td>Medium</td>\n",
              "    </tr>\n",
              "    <tr>\n",
              "      <th>51288</th>\n",
              "      <td>6852</td>\n",
              "      <td>MX-2014-114783</td>\n",
              "      <td>31-12-2014</td>\n",
              "      <td>06-01-2015</td>\n",
              "      <td>Standard Class</td>\n",
              "      <td>TD-20995</td>\n",
              "      <td>Tamara Dahlen</td>\n",
              "      <td>Consumer</td>\n",
              "      <td>Juárez</td>\n",
              "      <td>Chihuahua</td>\n",
              "      <td>...</td>\n",
              "      <td>OFF-LA-10000413</td>\n",
              "      <td>Office Supplies</td>\n",
              "      <td>Labels</td>\n",
              "      <td>Hon Legal Exhibit Labels, Alphabetical</td>\n",
              "      <td>7.120</td>\n",
              "      <td>1</td>\n",
              "      <td>0.0</td>\n",
              "      <td>0.5600</td>\n",
              "      <td>0.20</td>\n",
              "      <td>Medium</td>\n",
              "    </tr>\n",
              "    <tr>\n",
              "      <th>51289</th>\n",
              "      <td>36388</td>\n",
              "      <td>CA-2014-156720</td>\n",
              "      <td>31-12-2014</td>\n",
              "      <td>04-01-2015</td>\n",
              "      <td>Standard Class</td>\n",
              "      <td>JM-15580</td>\n",
              "      <td>Jill Matthias</td>\n",
              "      <td>Consumer</td>\n",
              "      <td>Loveland</td>\n",
              "      <td>Colorado</td>\n",
              "      <td>...</td>\n",
              "      <td>OFF-FA-10003472</td>\n",
              "      <td>Office Supplies</td>\n",
              "      <td>Fasteners</td>\n",
              "      <td>Bagged Rubber Bands</td>\n",
              "      <td>3.024</td>\n",
              "      <td>3</td>\n",
              "      <td>0.2</td>\n",
              "      <td>-0.6048</td>\n",
              "      <td>0.17</td>\n",
              "      <td>Medium</td>\n",
              "    </tr>\n",
              "  </tbody>\n",
              "</table>\n",
              "<p>5 rows × 24 columns</p>\n",
              "</div>\n",
              "      <button class=\"colab-df-convert\" onclick=\"convertToInteractive('df-be2d3c5f-c07f-400f-879c-655b637a3d61')\"\n",
              "              title=\"Convert this dataframe to an interactive table.\"\n",
              "              style=\"display:none;\">\n",
              "        \n",
              "  <svg xmlns=\"http://www.w3.org/2000/svg\" height=\"24px\"viewBox=\"0 0 24 24\"\n",
              "       width=\"24px\">\n",
              "    <path d=\"M0 0h24v24H0V0z\" fill=\"none\"/>\n",
              "    <path d=\"M18.56 5.44l.94 2.06.94-2.06 2.06-.94-2.06-.94-.94-2.06-.94 2.06-2.06.94zm-11 1L8.5 8.5l.94-2.06 2.06-.94-2.06-.94L8.5 2.5l-.94 2.06-2.06.94zm10 10l.94 2.06.94-2.06 2.06-.94-2.06-.94-.94-2.06-.94 2.06-2.06.94z\"/><path d=\"M17.41 7.96l-1.37-1.37c-.4-.4-.92-.59-1.43-.59-.52 0-1.04.2-1.43.59L10.3 9.45l-7.72 7.72c-.78.78-.78 2.05 0 2.83L4 21.41c.39.39.9.59 1.41.59.51 0 1.02-.2 1.41-.59l7.78-7.78 2.81-2.81c.8-.78.8-2.07 0-2.86zM5.41 20L4 18.59l7.72-7.72 1.47 1.35L5.41 20z\"/>\n",
              "  </svg>\n",
              "      </button>\n",
              "      \n",
              "  <style>\n",
              "    .colab-df-container {\n",
              "      display:flex;\n",
              "      flex-wrap:wrap;\n",
              "      gap: 12px;\n",
              "    }\n",
              "\n",
              "    .colab-df-convert {\n",
              "      background-color: #E8F0FE;\n",
              "      border: none;\n",
              "      border-radius: 50%;\n",
              "      cursor: pointer;\n",
              "      display: none;\n",
              "      fill: #1967D2;\n",
              "      height: 32px;\n",
              "      padding: 0 0 0 0;\n",
              "      width: 32px;\n",
              "    }\n",
              "\n",
              "    .colab-df-convert:hover {\n",
              "      background-color: #E2EBFA;\n",
              "      box-shadow: 0px 1px 2px rgba(60, 64, 67, 0.3), 0px 1px 3px 1px rgba(60, 64, 67, 0.15);\n",
              "      fill: #174EA6;\n",
              "    }\n",
              "\n",
              "    [theme=dark] .colab-df-convert {\n",
              "      background-color: #3B4455;\n",
              "      fill: #D2E3FC;\n",
              "    }\n",
              "\n",
              "    [theme=dark] .colab-df-convert:hover {\n",
              "      background-color: #434B5C;\n",
              "      box-shadow: 0px 1px 3px 1px rgba(0, 0, 0, 0.15);\n",
              "      filter: drop-shadow(0px 1px 2px rgba(0, 0, 0, 0.3));\n",
              "      fill: #FFFFFF;\n",
              "    }\n",
              "  </style>\n",
              "\n",
              "      <script>\n",
              "        const buttonEl =\n",
              "          document.querySelector('#df-be2d3c5f-c07f-400f-879c-655b637a3d61 button.colab-df-convert');\n",
              "        buttonEl.style.display =\n",
              "          google.colab.kernel.accessAllowed ? 'block' : 'none';\n",
              "\n",
              "        async function convertToInteractive(key) {\n",
              "          const element = document.querySelector('#df-be2d3c5f-c07f-400f-879c-655b637a3d61');\n",
              "          const dataTable =\n",
              "            await google.colab.kernel.invokeFunction('convertToInteractive',\n",
              "                                                     [key], {});\n",
              "          if (!dataTable) return;\n",
              "\n",
              "          const docLinkHtml = 'Like what you see? Visit the ' +\n",
              "            '<a target=\"_blank\" href=https://colab.research.google.com/notebooks/data_table.ipynb>data table notebook</a>'\n",
              "            + ' to learn more about interactive tables.';\n",
              "          element.innerHTML = '';\n",
              "          dataTable['output_type'] = 'display_data';\n",
              "          await google.colab.output.renderOutput(dataTable, element);\n",
              "          const docLink = document.createElement('div');\n",
              "          docLink.innerHTML = docLinkHtml;\n",
              "          element.appendChild(docLink);\n",
              "        }\n",
              "      </script>\n",
              "    </div>\n",
              "  </div>\n",
              "  "
            ]
          },
          "metadata": {},
          "execution_count": 10
        }
      ]
    },
    {
      "cell_type": "code",
      "source": [
        "data.describe()"
      ],
      "metadata": {
        "colab": {
          "base_uri": "https://localhost:8080/",
          "height": 300
        },
        "id": "7CisL2zhQWUV",
        "outputId": "dd9cd307-4e5b-4b29-fc90-fed94ef20517"
      },
      "execution_count": null,
      "outputs": [
        {
          "output_type": "execute_result",
          "data": {
            "text/plain": [
              "            Row ID   Postal Code         Sales      Quantity      Discount  \\\n",
              "count  51290.00000   9994.000000  51290.000000  51290.000000  51290.000000   \n",
              "mean   25645.50000  55190.379428    246.490581      3.476545      0.142908   \n",
              "std    14806.29199  32063.693350    487.565361      2.278766      0.212280   \n",
              "min        1.00000   1040.000000      0.444000      1.000000      0.000000   \n",
              "25%    12823.25000  23223.000000     30.758625      2.000000      0.000000   \n",
              "50%    25645.50000  56430.500000     85.053000      3.000000      0.000000   \n",
              "75%    38467.75000  90008.000000    251.053200      5.000000      0.200000   \n",
              "max    51290.00000  99301.000000  22638.480000     14.000000      0.850000   \n",
              "\n",
              "             Profit  Shipping Cost  \n",
              "count  51290.000000   51290.000000  \n",
              "mean      28.610982      26.375915  \n",
              "std      174.340972      57.296804  \n",
              "min    -6599.978000       0.000000  \n",
              "25%        0.000000       2.610000  \n",
              "50%        9.240000       7.790000  \n",
              "75%       36.810000      24.450000  \n",
              "max     8399.976000     933.570000  "
            ],
            "text/html": [
              "\n",
              "  <div id=\"df-cd8e4432-309a-465b-999d-9cc0a4906043\">\n",
              "    <div class=\"colab-df-container\">\n",
              "      <div>\n",
              "<style scoped>\n",
              "    .dataframe tbody tr th:only-of-type {\n",
              "        vertical-align: middle;\n",
              "    }\n",
              "\n",
              "    .dataframe tbody tr th {\n",
              "        vertical-align: top;\n",
              "    }\n",
              "\n",
              "    .dataframe thead th {\n",
              "        text-align: right;\n",
              "    }\n",
              "</style>\n",
              "<table border=\"1\" class=\"dataframe\">\n",
              "  <thead>\n",
              "    <tr style=\"text-align: right;\">\n",
              "      <th></th>\n",
              "      <th>Row ID</th>\n",
              "      <th>Postal Code</th>\n",
              "      <th>Sales</th>\n",
              "      <th>Quantity</th>\n",
              "      <th>Discount</th>\n",
              "      <th>Profit</th>\n",
              "      <th>Shipping Cost</th>\n",
              "    </tr>\n",
              "  </thead>\n",
              "  <tbody>\n",
              "    <tr>\n",
              "      <th>count</th>\n",
              "      <td>51290.00000</td>\n",
              "      <td>9994.000000</td>\n",
              "      <td>51290.000000</td>\n",
              "      <td>51290.000000</td>\n",
              "      <td>51290.000000</td>\n",
              "      <td>51290.000000</td>\n",
              "      <td>51290.000000</td>\n",
              "    </tr>\n",
              "    <tr>\n",
              "      <th>mean</th>\n",
              "      <td>25645.50000</td>\n",
              "      <td>55190.379428</td>\n",
              "      <td>246.490581</td>\n",
              "      <td>3.476545</td>\n",
              "      <td>0.142908</td>\n",
              "      <td>28.610982</td>\n",
              "      <td>26.375915</td>\n",
              "    </tr>\n",
              "    <tr>\n",
              "      <th>std</th>\n",
              "      <td>14806.29199</td>\n",
              "      <td>32063.693350</td>\n",
              "      <td>487.565361</td>\n",
              "      <td>2.278766</td>\n",
              "      <td>0.212280</td>\n",
              "      <td>174.340972</td>\n",
              "      <td>57.296804</td>\n",
              "    </tr>\n",
              "    <tr>\n",
              "      <th>min</th>\n",
              "      <td>1.00000</td>\n",
              "      <td>1040.000000</td>\n",
              "      <td>0.444000</td>\n",
              "      <td>1.000000</td>\n",
              "      <td>0.000000</td>\n",
              "      <td>-6599.978000</td>\n",
              "      <td>0.000000</td>\n",
              "    </tr>\n",
              "    <tr>\n",
              "      <th>25%</th>\n",
              "      <td>12823.25000</td>\n",
              "      <td>23223.000000</td>\n",
              "      <td>30.758625</td>\n",
              "      <td>2.000000</td>\n",
              "      <td>0.000000</td>\n",
              "      <td>0.000000</td>\n",
              "      <td>2.610000</td>\n",
              "    </tr>\n",
              "    <tr>\n",
              "      <th>50%</th>\n",
              "      <td>25645.50000</td>\n",
              "      <td>56430.500000</td>\n",
              "      <td>85.053000</td>\n",
              "      <td>3.000000</td>\n",
              "      <td>0.000000</td>\n",
              "      <td>9.240000</td>\n",
              "      <td>7.790000</td>\n",
              "    </tr>\n",
              "    <tr>\n",
              "      <th>75%</th>\n",
              "      <td>38467.75000</td>\n",
              "      <td>90008.000000</td>\n",
              "      <td>251.053200</td>\n",
              "      <td>5.000000</td>\n",
              "      <td>0.200000</td>\n",
              "      <td>36.810000</td>\n",
              "      <td>24.450000</td>\n",
              "    </tr>\n",
              "    <tr>\n",
              "      <th>max</th>\n",
              "      <td>51290.00000</td>\n",
              "      <td>99301.000000</td>\n",
              "      <td>22638.480000</td>\n",
              "      <td>14.000000</td>\n",
              "      <td>0.850000</td>\n",
              "      <td>8399.976000</td>\n",
              "      <td>933.570000</td>\n",
              "    </tr>\n",
              "  </tbody>\n",
              "</table>\n",
              "</div>\n",
              "      <button class=\"colab-df-convert\" onclick=\"convertToInteractive('df-cd8e4432-309a-465b-999d-9cc0a4906043')\"\n",
              "              title=\"Convert this dataframe to an interactive table.\"\n",
              "              style=\"display:none;\">\n",
              "        \n",
              "  <svg xmlns=\"http://www.w3.org/2000/svg\" height=\"24px\"viewBox=\"0 0 24 24\"\n",
              "       width=\"24px\">\n",
              "    <path d=\"M0 0h24v24H0V0z\" fill=\"none\"/>\n",
              "    <path d=\"M18.56 5.44l.94 2.06.94-2.06 2.06-.94-2.06-.94-.94-2.06-.94 2.06-2.06.94zm-11 1L8.5 8.5l.94-2.06 2.06-.94-2.06-.94L8.5 2.5l-.94 2.06-2.06.94zm10 10l.94 2.06.94-2.06 2.06-.94-2.06-.94-.94-2.06-.94 2.06-2.06.94z\"/><path d=\"M17.41 7.96l-1.37-1.37c-.4-.4-.92-.59-1.43-.59-.52 0-1.04.2-1.43.59L10.3 9.45l-7.72 7.72c-.78.78-.78 2.05 0 2.83L4 21.41c.39.39.9.59 1.41.59.51 0 1.02-.2 1.41-.59l7.78-7.78 2.81-2.81c.8-.78.8-2.07 0-2.86zM5.41 20L4 18.59l7.72-7.72 1.47 1.35L5.41 20z\"/>\n",
              "  </svg>\n",
              "      </button>\n",
              "      \n",
              "  <style>\n",
              "    .colab-df-container {\n",
              "      display:flex;\n",
              "      flex-wrap:wrap;\n",
              "      gap: 12px;\n",
              "    }\n",
              "\n",
              "    .colab-df-convert {\n",
              "      background-color: #E8F0FE;\n",
              "      border: none;\n",
              "      border-radius: 50%;\n",
              "      cursor: pointer;\n",
              "      display: none;\n",
              "      fill: #1967D2;\n",
              "      height: 32px;\n",
              "      padding: 0 0 0 0;\n",
              "      width: 32px;\n",
              "    }\n",
              "\n",
              "    .colab-df-convert:hover {\n",
              "      background-color: #E2EBFA;\n",
              "      box-shadow: 0px 1px 2px rgba(60, 64, 67, 0.3), 0px 1px 3px 1px rgba(60, 64, 67, 0.15);\n",
              "      fill: #174EA6;\n",
              "    }\n",
              "\n",
              "    [theme=dark] .colab-df-convert {\n",
              "      background-color: #3B4455;\n",
              "      fill: #D2E3FC;\n",
              "    }\n",
              "\n",
              "    [theme=dark] .colab-df-convert:hover {\n",
              "      background-color: #434B5C;\n",
              "      box-shadow: 0px 1px 3px 1px rgba(0, 0, 0, 0.15);\n",
              "      filter: drop-shadow(0px 1px 2px rgba(0, 0, 0, 0.3));\n",
              "      fill: #FFFFFF;\n",
              "    }\n",
              "  </style>\n",
              "\n",
              "      <script>\n",
              "        const buttonEl =\n",
              "          document.querySelector('#df-cd8e4432-309a-465b-999d-9cc0a4906043 button.colab-df-convert');\n",
              "        buttonEl.style.display =\n",
              "          google.colab.kernel.accessAllowed ? 'block' : 'none';\n",
              "\n",
              "        async function convertToInteractive(key) {\n",
              "          const element = document.querySelector('#df-cd8e4432-309a-465b-999d-9cc0a4906043');\n",
              "          const dataTable =\n",
              "            await google.colab.kernel.invokeFunction('convertToInteractive',\n",
              "                                                     [key], {});\n",
              "          if (!dataTable) return;\n",
              "\n",
              "          const docLinkHtml = 'Like what you see? Visit the ' +\n",
              "            '<a target=\"_blank\" href=https://colab.research.google.com/notebooks/data_table.ipynb>data table notebook</a>'\n",
              "            + ' to learn more about interactive tables.';\n",
              "          element.innerHTML = '';\n",
              "          dataTable['output_type'] = 'display_data';\n",
              "          await google.colab.output.renderOutput(dataTable, element);\n",
              "          const docLink = document.createElement('div');\n",
              "          docLink.innerHTML = docLinkHtml;\n",
              "          element.appendChild(docLink);\n",
              "        }\n",
              "      </script>\n",
              "    </div>\n",
              "  </div>\n",
              "  "
            ]
          },
          "metadata": {},
          "execution_count": 11
        }
      ]
    },
    {
      "cell_type": "code",
      "source": [
        "data.shape"
      ],
      "metadata": {
        "colab": {
          "base_uri": "https://localhost:8080/"
        },
        "id": "NKNmVu-xQjRl",
        "outputId": "2fa1b64f-9d14-40e0-b551-6f7a043774ac"
      },
      "execution_count": null,
      "outputs": [
        {
          "output_type": "execute_result",
          "data": {
            "text/plain": [
              "(51290, 24)"
            ]
          },
          "metadata": {},
          "execution_count": 12
        }
      ]
    },
    {
      "cell_type": "code",
      "source": [
        "data.columns"
      ],
      "metadata": {
        "colab": {
          "base_uri": "https://localhost:8080/"
        },
        "id": "Uj3-nGvnQ_dR",
        "outputId": "85eb5418-49ce-4c42-c8f3-b4dc1170f996"
      },
      "execution_count": null,
      "outputs": [
        {
          "output_type": "execute_result",
          "data": {
            "text/plain": [
              "Index(['Row ID', 'Order ID', 'Order Date', 'Ship Date', 'Ship Mode',\n",
              "       'Customer ID', 'Customer Name', 'Segment', 'City', 'State', 'Country',\n",
              "       'Postal Code', 'Market', 'Region', 'Product ID', 'Category',\n",
              "       'Sub-Category', 'Product Name', 'Sales', 'Quantity', 'Discount',\n",
              "       'Profit', 'Shipping Cost', 'Order Priority'],\n",
              "      dtype='object')"
            ]
          },
          "metadata": {},
          "execution_count": 13
        }
      ]
    },
    {
      "cell_type": "code",
      "source": [
        "data.nunique()"
      ],
      "metadata": {
        "colab": {
          "base_uri": "https://localhost:8080/"
        },
        "id": "E01WfhzmRLr-",
        "outputId": "0a1f548d-2cf5-40e1-8308-3b3474c3fcfd"
      },
      "execution_count": null,
      "outputs": [
        {
          "output_type": "execute_result",
          "data": {
            "text/plain": [
              "Row ID            51290\n",
              "Order ID          25035\n",
              "Order Date         1430\n",
              "Ship Date          1464\n",
              "Ship Mode             4\n",
              "Customer ID        1590\n",
              "Customer Name       795\n",
              "Segment               3\n",
              "City               3636\n",
              "State              1094\n",
              "Country             147\n",
              "Postal Code         631\n",
              "Market                7\n",
              "Region               13\n",
              "Product ID        10292\n",
              "Category              3\n",
              "Sub-Category         17\n",
              "Product Name       3788\n",
              "Sales             22995\n",
              "Quantity             14\n",
              "Discount             27\n",
              "Profit            24575\n",
              "Shipping Cost     10037\n",
              "Order Priority        4\n",
              "dtype: int64"
            ]
          },
          "metadata": {},
          "execution_count": 14
        }
      ]
    },
    {
      "cell_type": "code",
      "source": [
        "#example\n",
        "data['Category'].unique()"
      ],
      "metadata": {
        "colab": {
          "base_uri": "https://localhost:8080/"
        },
        "id": "3ishLcNvRlCE",
        "outputId": "d807565d-ece5-488b-e8ea-883254227aec"
      },
      "execution_count": null,
      "outputs": [
        {
          "output_type": "execute_result",
          "data": {
            "text/plain": [
              "array(['Office Supplies', 'Furniture', 'Technology'], dtype=object)"
            ]
          },
          "metadata": {},
          "execution_count": 15
        }
      ]
    },
    {
      "cell_type": "code",
      "source": [
        "data['Market'].unique()"
      ],
      "metadata": {
        "colab": {
          "base_uri": "https://localhost:8080/"
        },
        "id": "n88ZqR8PVWDI",
        "outputId": "35aee60d-88ec-49df-99fc-da228eb15bd3"
      },
      "execution_count": null,
      "outputs": [
        {
          "output_type": "execute_result",
          "data": {
            "text/plain": [
              "array(['Africa', 'APAC', 'EMEA', 'EU', 'US', 'LATAM', 'Canada'],\n",
              "      dtype=object)"
            ]
          },
          "metadata": {},
          "execution_count": 16
        }
      ]
    },
    {
      "cell_type": "code",
      "source": [
        "data['Segments'].unique()"
      ],
      "metadata": {
        "colab": {
          "base_uri": "https://localhost:8080/",
          "height": 166
        },
        "id": "MsunHzvt6cNP",
        "outputId": "9559f91c-fd96-4d25-c683-0a24fdb78d3d"
      },
      "execution_count": null,
      "outputs": [
        {
          "output_type": "error",
          "ename": "NameError",
          "evalue": "ignored",
          "traceback": [
            "\u001b[0;31m---------------------------------------------------------------------------\u001b[0m",
            "\u001b[0;31mNameError\u001b[0m                                 Traceback (most recent call last)",
            "\u001b[0;32m<ipython-input-1-07189e801200>\u001b[0m in \u001b[0;36m<module>\u001b[0;34m()\u001b[0m\n\u001b[0;32m----> 1\u001b[0;31m \u001b[0mdata\u001b[0m\u001b[0;34m[\u001b[0m\u001b[0;34m'Segments'\u001b[0m\u001b[0;34m]\u001b[0m\u001b[0;34m.\u001b[0m\u001b[0munique\u001b[0m\u001b[0;34m(\u001b[0m\u001b[0;34m)\u001b[0m\u001b[0;34m\u001b[0m\u001b[0;34m\u001b[0m\u001b[0m\n\u001b[0m",
            "\u001b[0;31mNameError\u001b[0m: name 'data' is not defined"
          ]
        }
      ]
    },
    {
      "cell_type": "markdown",
      "source": [
        ""
      ],
      "metadata": {
        "id": "S0OKPn5yVVmm"
      }
    },
    {
      "cell_type": "markdown",
      "source": [
        "**Cleaning the data**"
      ],
      "metadata": {
        "id": "7yx0EWPTR8Se"
      }
    },
    {
      "cell_type": "code",
      "source": [
        "data.isnull().sum()"
      ],
      "metadata": {
        "colab": {
          "base_uri": "https://localhost:8080/"
        },
        "id": "1IcQv4uhR_R1",
        "outputId": "88727679-05b5-4111-f06e-196f8ca60300"
      },
      "execution_count": null,
      "outputs": [
        {
          "output_type": "execute_result",
          "data": {
            "text/plain": [
              "Row ID                0\n",
              "Order ID              0\n",
              "Order Date            0\n",
              "Ship Date             0\n",
              "Ship Mode             0\n",
              "Customer ID           0\n",
              "Customer Name         0\n",
              "Segment               0\n",
              "City                  0\n",
              "State                 0\n",
              "Country               0\n",
              "Postal Code       41296\n",
              "Market                0\n",
              "Region                0\n",
              "Product ID            0\n",
              "Category              0\n",
              "Sub-Category          0\n",
              "Product Name          0\n",
              "Sales                 0\n",
              "Quantity              0\n",
              "Discount              0\n",
              "Profit                0\n",
              "Shipping Cost         0\n",
              "Order Priority        0\n",
              "dtype: int64"
            ]
          },
          "metadata": {},
          "execution_count": 17
        }
      ]
    },
    {
      "cell_type": "code",
      "source": [
        "Store = data.drop(['Market', 'Order ID','Order Date','Ship Date',\n",
        "       'Customer ID', 'Customer Name', 'Product ID', 'Product Name', 'Order Priority'], axis=1)\n",
        "Store.head()"
      ],
      "metadata": {
        "id": "l1QvLMmQhq_U",
        "colab": {
          "base_uri": "https://localhost:8080/",
          "height": 206
        },
        "outputId": "a44294fa-8665-4f2c-961f-9a32d5cd356d"
      },
      "execution_count": null,
      "outputs": [
        {
          "output_type": "execute_result",
          "data": {
            "text/plain": [
              "   Row ID       Ship Mode      Segment         City            State  \\\n",
              "0   42433  Standard Class     Consumer  Constantine      Constantine   \n",
              "1   22253  Standard Class     Consumer  Wagga Wagga  New South Wales   \n",
              "2   48883    Second Class     Consumer     Budapest         Budapest   \n",
              "3   11731    Second Class  Home Office    Stockholm        Stockholm   \n",
              "4   22255  Standard Class     Consumer  Wagga Wagga  New South Wales   \n",
              "\n",
              "     Country  Postal Code   Region         Category Sub-Category    Sales  \\\n",
              "0    Algeria          NaN   Africa  Office Supplies      Storage  408.300   \n",
              "1  Australia          NaN  Oceania  Office Supplies     Supplies  120.366   \n",
              "2    Hungary          NaN     EMEA  Office Supplies      Storage   66.120   \n",
              "3     Sweden          NaN    North  Office Supplies        Paper   44.865   \n",
              "4  Australia          NaN  Oceania        Furniture  Furnishings  113.670   \n",
              "\n",
              "   Quantity  Discount   Profit  Shipping Cost  \n",
              "0         2       0.0  106.140          35.46  \n",
              "1         3       0.1   36.036           9.72  \n",
              "2         4       0.0   29.640           8.17  \n",
              "3         3       0.5  -26.055           4.82  \n",
              "4         5       0.1   37.770           4.70  "
            ],
            "text/html": [
              "\n",
              "  <div id=\"df-bd7c2b01-ee50-4536-b1ca-52507b25e3f8\">\n",
              "    <div class=\"colab-df-container\">\n",
              "      <div>\n",
              "<style scoped>\n",
              "    .dataframe tbody tr th:only-of-type {\n",
              "        vertical-align: middle;\n",
              "    }\n",
              "\n",
              "    .dataframe tbody tr th {\n",
              "        vertical-align: top;\n",
              "    }\n",
              "\n",
              "    .dataframe thead th {\n",
              "        text-align: right;\n",
              "    }\n",
              "</style>\n",
              "<table border=\"1\" class=\"dataframe\">\n",
              "  <thead>\n",
              "    <tr style=\"text-align: right;\">\n",
              "      <th></th>\n",
              "      <th>Row ID</th>\n",
              "      <th>Ship Mode</th>\n",
              "      <th>Segment</th>\n",
              "      <th>City</th>\n",
              "      <th>State</th>\n",
              "      <th>Country</th>\n",
              "      <th>Postal Code</th>\n",
              "      <th>Region</th>\n",
              "      <th>Category</th>\n",
              "      <th>Sub-Category</th>\n",
              "      <th>Sales</th>\n",
              "      <th>Quantity</th>\n",
              "      <th>Discount</th>\n",
              "      <th>Profit</th>\n",
              "      <th>Shipping Cost</th>\n",
              "    </tr>\n",
              "  </thead>\n",
              "  <tbody>\n",
              "    <tr>\n",
              "      <th>0</th>\n",
              "      <td>42433</td>\n",
              "      <td>Standard Class</td>\n",
              "      <td>Consumer</td>\n",
              "      <td>Constantine</td>\n",
              "      <td>Constantine</td>\n",
              "      <td>Algeria</td>\n",
              "      <td>NaN</td>\n",
              "      <td>Africa</td>\n",
              "      <td>Office Supplies</td>\n",
              "      <td>Storage</td>\n",
              "      <td>408.300</td>\n",
              "      <td>2</td>\n",
              "      <td>0.0</td>\n",
              "      <td>106.140</td>\n",
              "      <td>35.46</td>\n",
              "    </tr>\n",
              "    <tr>\n",
              "      <th>1</th>\n",
              "      <td>22253</td>\n",
              "      <td>Standard Class</td>\n",
              "      <td>Consumer</td>\n",
              "      <td>Wagga Wagga</td>\n",
              "      <td>New South Wales</td>\n",
              "      <td>Australia</td>\n",
              "      <td>NaN</td>\n",
              "      <td>Oceania</td>\n",
              "      <td>Office Supplies</td>\n",
              "      <td>Supplies</td>\n",
              "      <td>120.366</td>\n",
              "      <td>3</td>\n",
              "      <td>0.1</td>\n",
              "      <td>36.036</td>\n",
              "      <td>9.72</td>\n",
              "    </tr>\n",
              "    <tr>\n",
              "      <th>2</th>\n",
              "      <td>48883</td>\n",
              "      <td>Second Class</td>\n",
              "      <td>Consumer</td>\n",
              "      <td>Budapest</td>\n",
              "      <td>Budapest</td>\n",
              "      <td>Hungary</td>\n",
              "      <td>NaN</td>\n",
              "      <td>EMEA</td>\n",
              "      <td>Office Supplies</td>\n",
              "      <td>Storage</td>\n",
              "      <td>66.120</td>\n",
              "      <td>4</td>\n",
              "      <td>0.0</td>\n",
              "      <td>29.640</td>\n",
              "      <td>8.17</td>\n",
              "    </tr>\n",
              "    <tr>\n",
              "      <th>3</th>\n",
              "      <td>11731</td>\n",
              "      <td>Second Class</td>\n",
              "      <td>Home Office</td>\n",
              "      <td>Stockholm</td>\n",
              "      <td>Stockholm</td>\n",
              "      <td>Sweden</td>\n",
              "      <td>NaN</td>\n",
              "      <td>North</td>\n",
              "      <td>Office Supplies</td>\n",
              "      <td>Paper</td>\n",
              "      <td>44.865</td>\n",
              "      <td>3</td>\n",
              "      <td>0.5</td>\n",
              "      <td>-26.055</td>\n",
              "      <td>4.82</td>\n",
              "    </tr>\n",
              "    <tr>\n",
              "      <th>4</th>\n",
              "      <td>22255</td>\n",
              "      <td>Standard Class</td>\n",
              "      <td>Consumer</td>\n",
              "      <td>Wagga Wagga</td>\n",
              "      <td>New South Wales</td>\n",
              "      <td>Australia</td>\n",
              "      <td>NaN</td>\n",
              "      <td>Oceania</td>\n",
              "      <td>Furniture</td>\n",
              "      <td>Furnishings</td>\n",
              "      <td>113.670</td>\n",
              "      <td>5</td>\n",
              "      <td>0.1</td>\n",
              "      <td>37.770</td>\n",
              "      <td>4.70</td>\n",
              "    </tr>\n",
              "  </tbody>\n",
              "</table>\n",
              "</div>\n",
              "      <button class=\"colab-df-convert\" onclick=\"convertToInteractive('df-bd7c2b01-ee50-4536-b1ca-52507b25e3f8')\"\n",
              "              title=\"Convert this dataframe to an interactive table.\"\n",
              "              style=\"display:none;\">\n",
              "        \n",
              "  <svg xmlns=\"http://www.w3.org/2000/svg\" height=\"24px\"viewBox=\"0 0 24 24\"\n",
              "       width=\"24px\">\n",
              "    <path d=\"M0 0h24v24H0V0z\" fill=\"none\"/>\n",
              "    <path d=\"M18.56 5.44l.94 2.06.94-2.06 2.06-.94-2.06-.94-.94-2.06-.94 2.06-2.06.94zm-11 1L8.5 8.5l.94-2.06 2.06-.94-2.06-.94L8.5 2.5l-.94 2.06-2.06.94zm10 10l.94 2.06.94-2.06 2.06-.94-2.06-.94-.94-2.06-.94 2.06-2.06.94z\"/><path d=\"M17.41 7.96l-1.37-1.37c-.4-.4-.92-.59-1.43-.59-.52 0-1.04.2-1.43.59L10.3 9.45l-7.72 7.72c-.78.78-.78 2.05 0 2.83L4 21.41c.39.39.9.59 1.41.59.51 0 1.02-.2 1.41-.59l7.78-7.78 2.81-2.81c.8-.78.8-2.07 0-2.86zM5.41 20L4 18.59l7.72-7.72 1.47 1.35L5.41 20z\"/>\n",
              "  </svg>\n",
              "      </button>\n",
              "      \n",
              "  <style>\n",
              "    .colab-df-container {\n",
              "      display:flex;\n",
              "      flex-wrap:wrap;\n",
              "      gap: 12px;\n",
              "    }\n",
              "\n",
              "    .colab-df-convert {\n",
              "      background-color: #E8F0FE;\n",
              "      border: none;\n",
              "      border-radius: 50%;\n",
              "      cursor: pointer;\n",
              "      display: none;\n",
              "      fill: #1967D2;\n",
              "      height: 32px;\n",
              "      padding: 0 0 0 0;\n",
              "      width: 32px;\n",
              "    }\n",
              "\n",
              "    .colab-df-convert:hover {\n",
              "      background-color: #E2EBFA;\n",
              "      box-shadow: 0px 1px 2px rgba(60, 64, 67, 0.3), 0px 1px 3px 1px rgba(60, 64, 67, 0.15);\n",
              "      fill: #174EA6;\n",
              "    }\n",
              "\n",
              "    [theme=dark] .colab-df-convert {\n",
              "      background-color: #3B4455;\n",
              "      fill: #D2E3FC;\n",
              "    }\n",
              "\n",
              "    [theme=dark] .colab-df-convert:hover {\n",
              "      background-color: #434B5C;\n",
              "      box-shadow: 0px 1px 3px 1px rgba(0, 0, 0, 0.15);\n",
              "      filter: drop-shadow(0px 1px 2px rgba(0, 0, 0, 0.3));\n",
              "      fill: #FFFFFF;\n",
              "    }\n",
              "  </style>\n",
              "\n",
              "      <script>\n",
              "        const buttonEl =\n",
              "          document.querySelector('#df-bd7c2b01-ee50-4536-b1ca-52507b25e3f8 button.colab-df-convert');\n",
              "        buttonEl.style.display =\n",
              "          google.colab.kernel.accessAllowed ? 'block' : 'none';\n",
              "\n",
              "        async function convertToInteractive(key) {\n",
              "          const element = document.querySelector('#df-bd7c2b01-ee50-4536-b1ca-52507b25e3f8');\n",
              "          const dataTable =\n",
              "            await google.colab.kernel.invokeFunction('convertToInteractive',\n",
              "                                                     [key], {});\n",
              "          if (!dataTable) return;\n",
              "\n",
              "          const docLinkHtml = 'Like what you see? Visit the ' +\n",
              "            '<a target=\"_blank\" href=https://colab.research.google.com/notebooks/data_table.ipynb>data table notebook</a>'\n",
              "            + ' to learn more about interactive tables.';\n",
              "          element.innerHTML = '';\n",
              "          dataTable['output_type'] = 'display_data';\n",
              "          await google.colab.output.renderOutput(dataTable, element);\n",
              "          const docLink = document.createElement('div');\n",
              "          docLink.innerHTML = docLinkHtml;\n",
              "          element.appendChild(docLink);\n",
              "        }\n",
              "      </script>\n",
              "    </div>\n",
              "  </div>\n",
              "  "
            ]
          },
          "metadata": {},
          "execution_count": 18
        }
      ]
    },
    {
      "cell_type": "code",
      "source": [
        "Store.columns"
      ],
      "metadata": {
        "colab": {
          "base_uri": "https://localhost:8080/"
        },
        "id": "apia-shCYr8M",
        "outputId": "8ecb0a88-3e14-4e14-f5c3-c4d07db2c01d"
      },
      "execution_count": null,
      "outputs": [
        {
          "output_type": "execute_result",
          "data": {
            "text/plain": [
              "Index(['Row ID', 'Ship Mode', 'Segment', 'City', 'State', 'Country',\n",
              "       'Postal Code', 'Region', 'Category', 'Sub-Category', 'Sales',\n",
              "       'Quantity', 'Discount', 'Profit', 'Shipping Cost'],\n",
              "      dtype='object')"
            ]
          },
          "metadata": {},
          "execution_count": 19
        }
      ]
    },
    {
      "cell_type": "code",
      "source": [
        "Store.info()"
      ],
      "metadata": {
        "colab": {
          "base_uri": "https://localhost:8080/"
        },
        "id": "dUxLvDC5_srU",
        "outputId": "0a910fa0-2fea-4b88-fce7-ce57ed6a260b"
      },
      "execution_count": null,
      "outputs": [
        {
          "output_type": "stream",
          "name": "stdout",
          "text": [
            "<class 'pandas.core.frame.DataFrame'>\n",
            "RangeIndex: 51290 entries, 0 to 51289\n",
            "Data columns (total 15 columns):\n",
            " #   Column         Non-Null Count  Dtype  \n",
            "---  ------         --------------  -----  \n",
            " 0   Row ID         51290 non-null  int64  \n",
            " 1   Ship Mode      51290 non-null  object \n",
            " 2   Segment        51290 non-null  object \n",
            " 3   City           51290 non-null  object \n",
            " 4   State          51290 non-null  object \n",
            " 5   Country        51290 non-null  object \n",
            " 6   Postal Code    9994 non-null   float64\n",
            " 7   Region         51290 non-null  object \n",
            " 8   Category       51290 non-null  object \n",
            " 9   Sub-Category   51290 non-null  object \n",
            " 10  Sales          51290 non-null  float64\n",
            " 11  Quantity       51290 non-null  int64  \n",
            " 12  Discount       51290 non-null  float64\n",
            " 13  Profit         51290 non-null  float64\n",
            " 14  Shipping Cost  51290 non-null  float64\n",
            "dtypes: float64(5), int64(2), object(8)\n",
            "memory usage: 5.9+ MB\n"
          ]
        }
      ]
    },
    {
      "cell_type": "code",
      "source": [
        "Store.dtypes"
      ],
      "metadata": {
        "colab": {
          "base_uri": "https://localhost:8080/"
        },
        "id": "8r3QWkKd_0x_",
        "outputId": "0501fe13-cda0-4279-e414-588a8c09ffc9"
      },
      "execution_count": null,
      "outputs": [
        {
          "output_type": "execute_result",
          "data": {
            "text/plain": [
              "Row ID             int64\n",
              "Ship Mode         object\n",
              "Segment           object\n",
              "City              object\n",
              "State             object\n",
              "Country           object\n",
              "Postal Code      float64\n",
              "Region            object\n",
              "Category          object\n",
              "Sub-Category      object\n",
              "Sales            float64\n",
              "Quantity           int64\n",
              "Discount         float64\n",
              "Profit           float64\n",
              "Shipping Cost    float64\n",
              "dtype: object"
            ]
          },
          "metadata": {},
          "execution_count": 21
        }
      ]
    },
    {
      "cell_type": "markdown",
      "source": [
        "**Question: Box plot for all numerical variable and check for outliers**\n",
        "\n",
        "The Postal Code is plotted against for different Segments (i.e. Consumer,Home Office Segment and Corporate)"
      ],
      "metadata": {
        "id": "rVFu49_Q-bxw"
      }
    },
    {
      "cell_type": "code",
      "source": [
        "plt.figure(figsize=(12, 8))\n",
        "sns.set_style('whitegrid')\n",
        "sns.boxplot(x='Segment', y='Postal Code', data = Store)"
      ],
      "metadata": {
        "colab": {
          "base_uri": "https://localhost:8080/",
          "height": 514
        },
        "id": "WEKLGgmLZozP",
        "outputId": "cde6a523-f2eb-4060-a8a2-63400fe9b32d"
      },
      "execution_count": null,
      "outputs": [
        {
          "output_type": "execute_result",
          "data": {
            "text/plain": [
              "<matplotlib.axes._subplots.AxesSubplot at 0x7fbac616be90>"
            ]
          },
          "metadata": {},
          "execution_count": 40
        },
        {
          "output_type": "display_data",
          "data": {
            "text/plain": [
              "<Figure size 864x576 with 1 Axes>"
            ],
            "image/png": "[encoded data removed]"
          },
          "metadata": {
            "needs_background": "light"
          }
        }
      ]
    },
    {
      "cell_type": "markdown",
      "source": [
        "Conclusion :\n",
        "We can analyse that there are no outliers for Postal Codes\n",
        "Also the data for postal Codes includes a lot of null values which had to be dropped."
      ],
      "metadata": {
        "id": "QSxnc8gEZxIJ"
      }
    },
    {
      "cell_type": "markdown",
      "source": [
        "**The Sales is plotted against for different Segments**"
      ],
      "metadata": {
        "id": "TRumL_LgaLHD"
      }
    },
    {
      "cell_type": "code",
      "source": [
        "plt.figure(figsize=(12, 8))\n",
        "sns.boxplot(x='Segment', y='Sales', data = data)"
      ],
      "metadata": {
        "colab": {
          "base_uri": "https://localhost:8080/",
          "height": 514
        },
        "id": "nGpx7oE0Zomd",
        "outputId": "4b41514c-cb26-484d-98b6-4f9ab216748e"
      },
      "execution_count": null,
      "outputs": [
        {
          "output_type": "execute_result",
          "data": {
            "text/plain": [
              "<matplotlib.axes._subplots.AxesSubplot at 0x7fbabe1e7f50>"
            ]
          },
          "metadata": {},
          "execution_count": 41
        },
        {
          "output_type": "display_data",
          "data": {
            "text/plain": [
              "<Figure size 864x576 with 1 Axes>"
            ],
            "image/png": "[encoded data removed]"
          },
          "metadata": {}
        }
      ]
    },
    {
      "cell_type": "markdown",
      "source": [
        "Conclusion:\n",
        "\n",
        "All the data is in the positive since the sales can not be negative\n",
        "We observe a few outliers in all the Segments ; Home Office Segment having the farthest."
      ],
      "metadata": {
        "id": "u3-1UySraPgg"
      }
    },
    {
      "cell_type": "markdown",
      "source": [
        "**The Quantity is plotted against for different segments**"
      ],
      "metadata": {
        "id": "ux3FsU2_a0pJ"
      }
    },
    {
      "cell_type": "code",
      "source": [
        "plt.figure(figsize=(12, 8))\n",
        "sns.boxplot(x='Segment', y='Quantity', data = data)"
      ],
      "metadata": {
        "colab": {
          "base_uri": "https://localhost:8080/",
          "height": 514
        },
        "id": "lJAX07TiZoYJ",
        "outputId": "6668ca3a-b4fd-41d0-a523-cd6c911e1f91"
      },
      "execution_count": null,
      "outputs": [
        {
          "output_type": "execute_result",
          "data": {
            "text/plain": [
              "<matplotlib.axes._subplots.AxesSubplot at 0x7fbabdd2ab10>"
            ]
          },
          "metadata": {},
          "execution_count": 42
        },
        {
          "output_type": "display_data",
          "data": {
            "text/plain": [
              "<Figure size 864x576 with 1 Axes>"
            ],
            "image/png": "[encoded data removed]"
          },
          "metadata": {}
        }
      ]
    },
    {
      "cell_type": "markdown",
      "source": [
        "Conclusion :\n",
        "\n",
        "The data is positive since quantity can not be negative\n",
        "Outliers for all the segments are same"
      ],
      "metadata": {
        "id": "Wmm_lwsZaj6Z"
      }
    },
    {
      "cell_type": "markdown",
      "source": [
        "**The Discount is plotted against for different segments**"
      ],
      "metadata": {
        "id": "0f-82LNpa63P"
      }
    },
    {
      "cell_type": "code",
      "source": [
        "plt.figure(figsize=(12, 8))\n",
        "sns.boxplot(x='Segment', y='Discount', data = data)"
      ],
      "metadata": {
        "colab": {
          "base_uri": "https://localhost:8080/",
          "height": 514
        },
        "id": "lUWH5VcEZoJz",
        "outputId": "fe1a8aaf-3109-4773-94c4-3ec5bc204d04"
      },
      "execution_count": null,
      "outputs": [
        {
          "output_type": "execute_result",
          "data": {
            "text/plain": [
              "<matplotlib.axes._subplots.AxesSubplot at 0x7fbabdaeabd0>"
            ]
          },
          "metadata": {},
          "execution_count": 43
        },
        {
          "output_type": "display_data",
          "data": {
            "text/plain": [
              "<Figure size 864x576 with 1 Axes>"
            ],
            "image/png": "[encoded data removed]"
          },
          "metadata": {}
        }
      ]
    },
    {
      "cell_type": "markdown",
      "source": [
        "Conclusion :\n",
        "\n",
        "Outliers were detected in all the segments\n",
        "The outliers were similar at some points of the segments"
      ],
      "metadata": {
        "id": "XxIW9UhlbBOe"
      }
    },
    {
      "cell_type": "markdown",
      "source": [
        "**The Profit is plotted against different segments**"
      ],
      "metadata": {
        "id": "hxBqu4RRbFS8"
      }
    },
    {
      "cell_type": "code",
      "source": [
        "plt.figure(figsize=(12, 8))\n",
        "sns.boxplot(x='Segment', y='Profit', data = data)"
      ],
      "metadata": {
        "colab": {
          "base_uri": "https://localhost:8080/",
          "height": 514
        },
        "id": "Oo-Kvj-qZnk0",
        "outputId": "8e069ed3-b3ac-4cf3-e06d-eb16ccbc0224"
      },
      "execution_count": null,
      "outputs": [
        {
          "output_type": "execute_result",
          "data": {
            "text/plain": [
              "<matplotlib.axes._subplots.AxesSubplot at 0x7fbabdb50fd0>"
            ]
          },
          "metadata": {},
          "execution_count": 44
        },
        {
          "output_type": "display_data",
          "data": {
            "text/plain": [
              "<Figure size 864x576 with 1 Axes>"
            ],
            "image/png": "[encoded data removed]"
          },
          "metadata": {}
        }
      ]
    },
    {
      "cell_type": "markdown",
      "source": [
        "Conclusion :\n",
        "\n",
        ">Profit is both positive as well negative in the data\n",
        "\n",
        ">Outliers were detected in all the segments\n",
        "\n",
        ">Maximum loss was incurred in the consumer segment and least in home office segment\n",
        "\n",
        ">Maximum Profit was incurred in the corporate segment and lowest in home office segment"
      ],
      "metadata": {
        "id": "4kh8OiV7bRKr"
      }
    },
    {
      "cell_type": "markdown",
      "source": [
        "**The Shipping Cost is plotted against different segments**"
      ],
      "metadata": {
        "id": "ZV83JEfEbvAO"
      }
    },
    {
      "cell_type": "code",
      "source": [
        "plt.figure(figsize=(12, 8))\n",
        "sns.boxplot(x='Segment', y='Shipping Cost', data = data)"
      ],
      "metadata": {
        "colab": {
          "base_uri": "https://localhost:8080/",
          "height": 514
        },
        "id": "edSO9cYPbypT",
        "outputId": "ca4f3f9c-470c-48fd-8089-fcdb2d39560f"
      },
      "execution_count": null,
      "outputs": [
        {
          "output_type": "execute_result",
          "data": {
            "text/plain": [
              "<matplotlib.axes._subplots.AxesSubplot at 0x7fbabdc7eb10>"
            ]
          },
          "metadata": {},
          "execution_count": 45
        },
        {
          "output_type": "display_data",
          "data": {
            "text/plain": [
              "<Figure size 864x576 with 1 Axes>"
            ],
            "image/png": "[encoded data removed]"
          },
          "metadata": {}
        }
      ]
    },
    {
      "cell_type": "markdown",
      "source": [
        "Conclusion :\n",
        "\n",
        "Outliers were detected in all the segments"
      ],
      "metadata": {
        "id": "QHiYnDZCb3IU"
      }
    },
    {
      "cell_type": "markdown",
      "source": [
        "**Question: pairplot for region wise data distribution of parameters:sales, postal code, discount, profit and quantity.**"
      ],
      "metadata": {
        "id": "7FDjf2nJnhht"
      }
    },
    {
      "cell_type": "code",
      "execution_count": null,
      "metadata": {
        "id": "2rJIyaP5Oaj6",
        "colab": {
          "base_uri": "https://localhost:8080/",
          "height": 903
        },
        "outputId": "fa1a5f89-c0ac-4a46-c821-79b750145c67"
      },
      "outputs": [
        {
          "output_type": "display_data",
          "data": {
            "text/plain": [
              "<Figure size 180x900 with 5 Axes>"
            ],
            "image/png": "[encoded data removed]"
          },
          "metadata": {
            "needs_background": "light"
          }
        }
      ],
      "source": [
        "pp = sns.pairplot(data=Store,\n",
        "                  x_vars=['Region'],\n",
        "                  y_vars=['Sales', 'Postal Code', 'Discount', 'Profit', 'Quantity'])"
      ]
    },
    {
      "cell_type": "markdown",
      "source": [
        "**Question: Is there any impact of sales through ship mode ?**\n",
        "As we can see from the relation plot, Standard class ship mode has the maximum sales and First class and Same day ship mode has comparatively less sales with some exceptions(outliers) in each case."
      ],
      "metadata": {
        "id": "E3zMpi8om93m"
      }
    },
    {
      "cell_type": "code",
      "source": [
        "sns.relplot( x='Ship Mode', y='Sales', data=Store)"
      ],
      "metadata": {
        "id": "65_9-IbI5Agb",
        "colab": {
          "base_uri": "https://localhost:8080/",
          "height": 386
        },
        "outputId": "0a9323ac-e90c-4573-e6be-57b68eae1037"
      },
      "execution_count": null,
      "outputs": [
        {
          "output_type": "execute_result",
          "data": {
            "text/plain": [
              "<seaborn.axisgrid.FacetGrid at 0x7fbac8fcd290>"
            ]
          },
          "metadata": {},
          "execution_count": 29
        },
        {
          "output_type": "display_data",
          "data": {
            "text/plain": [
              "<Figure size 360x360 with 1 Axes>"
            ],
            "image/png": "[encoded data removed]"
          },
          "metadata": {
            "needs_background": "light"
          }
        }
      ]
    },
    {
      "cell_type": "markdown",
      "source": [
        "**Question: Find segment wise sales and it's impact. plot bar plot and find which segment has highest sales and profit**"
      ],
      "metadata": {
        "id": "us_jmS7xoQey"
      }
    },
    {
      "cell_type": "markdown",
      "source": [
        "**From relation plot we see that,**\n",
        "Corporate has the *highest profit*, and \n",
        "Home office Segement has the *highest sales*\n",
        "\n",
        "**From bar plot we conclude that,**\n",
        ">We see that there is not much difference between the bars\n",
        "\n",
        ">Although in case of sales Corporate has maximum sales followed by Home Office and Consumer\n",
        "i.e. Sales(Corporate) > Sales(Home Office) > Sales(Consumer)\n",
        "\n",
        ">Also in case of profit Home office has maximum sales followed by Corporate and Consumer\n",
        "i.e. Profit(Home Office) > Profit(Corporate) > Profit(Consumer)\n"
      ],
      "metadata": {
        "id": "ciCjMNqnSPiy"
      }
    },
    {
      "cell_type": "code",
      "source": [
        "sns.relplot( x='Segment', y='Sales', data=Store)"
      ],
      "metadata": {
        "colab": {
          "base_uri": "https://localhost:8080/",
          "height": 386
        },
        "id": "28qRQibURcZe",
        "outputId": "b8562d68-b13d-4a28-b17d-224bbeea958f"
      },
      "execution_count": null,
      "outputs": [
        {
          "output_type": "execute_result",
          "data": {
            "text/plain": [
              "<seaborn.axisgrid.FacetGrid at 0x7fbac8f374d0>"
            ]
          },
          "metadata": {},
          "execution_count": 30
        },
        {
          "output_type": "display_data",
          "data": {
            "text/plain": [
              "<Figure size 360x360 with 1 Axes>"
            ],
            "image/png": "[encoded data removed]"
          },
          "metadata": {
            "needs_background": "light"
          }
        }
      ]
    },
    {
      "cell_type": "code",
      "source": [
        "sns.relplot( x='Segment', y='Profit', data=Store)"
      ],
      "metadata": {
        "colab": {
          "base_uri": "https://localhost:8080/",
          "height": 386
        },
        "id": "ENfQ9TnOSGC5",
        "outputId": "1857e22d-c7e0-4bc0-d90b-88b586bd1a33"
      },
      "execution_count": null,
      "outputs": [
        {
          "output_type": "execute_result",
          "data": {
            "text/plain": [
              "<seaborn.axisgrid.FacetGrid at 0x7fbac8efe610>"
            ]
          },
          "metadata": {},
          "execution_count": 31
        },
        {
          "output_type": "display_data",
          "data": {
            "text/plain": [
              "<Figure size 360x360 with 1 Axes>"
            ],
            "image/png": "[encoded data removed]"
          },
          "metadata": {
            "needs_background": "light"
          }
        }
      ]
    },
    {
      "cell_type": "code",
      "source": [
        "segwise_data = data[['Segment','Sales', 'Profit']]\n",
        "segwise_data"
      ],
      "metadata": {
        "colab": {
          "base_uri": "https://localhost:8080/",
          "height": 424
        },
        "id": "v--tZiiyZIU5",
        "outputId": "b3f87dab-d7b8-4ff5-c89d-7355c8cff65f"
      },
      "execution_count": null,
      "outputs": [
        {
          "output_type": "execute_result",
          "data": {
            "text/plain": [
              "           Segment    Sales    Profit\n",
              "0         Consumer  408.300  106.1400\n",
              "1         Consumer  120.366   36.0360\n",
              "2         Consumer   66.120   29.6400\n",
              "3      Home Office   44.865  -26.0550\n",
              "4         Consumer  113.670   37.7700\n",
              "...            ...      ...       ...\n",
              "51285    Corporate   13.904    4.5188\n",
              "51286     Consumer    3.990    0.4200\n",
              "51287     Consumer   26.400   12.3600\n",
              "51288     Consumer    7.120    0.5600\n",
              "51289     Consumer    3.024   -0.6048\n",
              "\n",
              "[51290 rows x 3 columns]"
            ],
            "text/html": [
              "\n",
              "  <div id=\"df-49742a85-64fe-420a-a4ef-02aa248f5be3\">\n",
              "    <div class=\"colab-df-container\">\n",
              "      <div>\n",
              "<style scoped>\n",
              "    .dataframe tbody tr th:only-of-type {\n",
              "        vertical-align: middle;\n",
              "    }\n",
              "\n",
              "    .dataframe tbody tr th {\n",
              "        vertical-align: top;\n",
              "    }\n",
              "\n",
              "    .dataframe thead th {\n",
              "        text-align: right;\n",
              "    }\n",
              "</style>\n",
              "<table border=\"1\" class=\"dataframe\">\n",
              "  <thead>\n",
              "    <tr style=\"text-align: right;\">\n",
              "      <th></th>\n",
              "      <th>Segment</th>\n",
              "      <th>Sales</th>\n",
              "      <th>Profit</th>\n",
              "    </tr>\n",
              "  </thead>\n",
              "  <tbody>\n",
              "    <tr>\n",
              "      <th>0</th>\n",
              "      <td>Consumer</td>\n",
              "      <td>408.300</td>\n",
              "      <td>106.1400</td>\n",
              "    </tr>\n",
              "    <tr>\n",
              "      <th>1</th>\n",
              "      <td>Consumer</td>\n",
              "      <td>120.366</td>\n",
              "      <td>36.0360</td>\n",
              "    </tr>\n",
              "    <tr>\n",
              "      <th>2</th>\n",
              "      <td>Consumer</td>\n",
              "      <td>66.120</td>\n",
              "      <td>29.6400</td>\n",
              "    </tr>\n",
              "    <tr>\n",
              "      <th>3</th>\n",
              "      <td>Home Office</td>\n",
              "      <td>44.865</td>\n",
              "      <td>-26.0550</td>\n",
              "    </tr>\n",
              "    <tr>\n",
              "      <th>4</th>\n",
              "      <td>Consumer</td>\n",
              "      <td>113.670</td>\n",
              "      <td>37.7700</td>\n",
              "    </tr>\n",
              "    <tr>\n",
              "      <th>...</th>\n",
              "      <td>...</td>\n",
              "      <td>...</td>\n",
              "      <td>...</td>\n",
              "    </tr>\n",
              "    <tr>\n",
              "      <th>51285</th>\n",
              "      <td>Corporate</td>\n",
              "      <td>13.904</td>\n",
              "      <td>4.5188</td>\n",
              "    </tr>\n",
              "    <tr>\n",
              "      <th>51286</th>\n",
              "      <td>Consumer</td>\n",
              "      <td>3.990</td>\n",
              "      <td>0.4200</td>\n",
              "    </tr>\n",
              "    <tr>\n",
              "      <th>51287</th>\n",
              "      <td>Consumer</td>\n",
              "      <td>26.400</td>\n",
              "      <td>12.3600</td>\n",
              "    </tr>\n",
              "    <tr>\n",
              "      <th>51288</th>\n",
              "      <td>Consumer</td>\n",
              "      <td>7.120</td>\n",
              "      <td>0.5600</td>\n",
              "    </tr>\n",
              "    <tr>\n",
              "      <th>51289</th>\n",
              "      <td>Consumer</td>\n",
              "      <td>3.024</td>\n",
              "      <td>-0.6048</td>\n",
              "    </tr>\n",
              "  </tbody>\n",
              "</table>\n",
              "<p>51290 rows × 3 columns</p>\n",
              "</div>\n",
              "      <button class=\"colab-df-convert\" onclick=\"convertToInteractive('df-49742a85-64fe-420a-a4ef-02aa248f5be3')\"\n",
              "              title=\"Convert this dataframe to an interactive table.\"\n",
              "              style=\"display:none;\">\n",
              "        \n",
              "  <svg xmlns=\"http://www.w3.org/2000/svg\" height=\"24px\"viewBox=\"0 0 24 24\"\n",
              "       width=\"24px\">\n",
              "    <path d=\"M0 0h24v24H0V0z\" fill=\"none\"/>\n",
              "    <path d=\"M18.56 5.44l.94 2.06.94-2.06 2.06-.94-2.06-.94-.94-2.06-.94 2.06-2.06.94zm-11 1L8.5 8.5l.94-2.06 2.06-.94-2.06-.94L8.5 2.5l-.94 2.06-2.06.94zm10 10l.94 2.06.94-2.06 2.06-.94-2.06-.94-.94-2.06-.94 2.06-2.06.94z\"/><path d=\"M17.41 7.96l-1.37-1.37c-.4-.4-.92-.59-1.43-.59-.52 0-1.04.2-1.43.59L10.3 9.45l-7.72 7.72c-.78.78-.78 2.05 0 2.83L4 21.41c.39.39.9.59 1.41.59.51 0 1.02-.2 1.41-.59l7.78-7.78 2.81-2.81c.8-.78.8-2.07 0-2.86zM5.41 20L4 18.59l7.72-7.72 1.47 1.35L5.41 20z\"/>\n",
              "  </svg>\n",
              "      </button>\n",
              "      \n",
              "  <style>\n",
              "    .colab-df-container {\n",
              "      display:flex;\n",
              "      flex-wrap:wrap;\n",
              "      gap: 12px;\n",
              "    }\n",
              "\n",
              "    .colab-df-convert {\n",
              "      background-color: #E8F0FE;\n",
              "      border: none;\n",
              "      border-radius: 50%;\n",
              "      cursor: pointer;\n",
              "      display: none;\n",
              "      fill: #1967D2;\n",
              "      height: 32px;\n",
              "      padding: 0 0 0 0;\n",
              "      width: 32px;\n",
              "    }\n",
              "\n",
              "    .colab-df-convert:hover {\n",
              "      background-color: #E2EBFA;\n",
              "      box-shadow: 0px 1px 2px rgba(60, 64, 67, 0.3), 0px 1px 3px 1px rgba(60, 64, 67, 0.15);\n",
              "      fill: #174EA6;\n",
              "    }\n",
              "\n",
              "    [theme=dark] .colab-df-convert {\n",
              "      background-color: #3B4455;\n",
              "      fill: #D2E3FC;\n",
              "    }\n",
              "\n",
              "    [theme=dark] .colab-df-convert:hover {\n",
              "      background-color: #434B5C;\n",
              "      box-shadow: 0px 1px 3px 1px rgba(0, 0, 0, 0.15);\n",
              "      filter: drop-shadow(0px 1px 2px rgba(0, 0, 0, 0.3));\n",
              "      fill: #FFFFFF;\n",
              "    }\n",
              "  </style>\n",
              "\n",
              "      <script>\n",
              "        const buttonEl =\n",
              "          document.querySelector('#df-49742a85-64fe-420a-a4ef-02aa248f5be3 button.colab-df-convert');\n",
              "        buttonEl.style.display =\n",
              "          google.colab.kernel.accessAllowed ? 'block' : 'none';\n",
              "\n",
              "        async function convertToInteractive(key) {\n",
              "          const element = document.querySelector('#df-49742a85-64fe-420a-a4ef-02aa248f5be3');\n",
              "          const dataTable =\n",
              "            await google.colab.kernel.invokeFunction('convertToInteractive',\n",
              "                                                     [key], {});\n",
              "          if (!dataTable) return;\n",
              "\n",
              "          const docLinkHtml = 'Like what you see? Visit the ' +\n",
              "            '<a target=\"_blank\" href=https://colab.research.google.com/notebooks/data_table.ipynb>data table notebook</a>'\n",
              "            + ' to learn more about interactive tables.';\n",
              "          element.innerHTML = '';\n",
              "          dataTable['output_type'] = 'display_data';\n",
              "          await google.colab.output.renderOutput(dataTable, element);\n",
              "          const docLink = document.createElement('div');\n",
              "          docLink.innerHTML = docLinkHtml;\n",
              "          element.appendChild(docLink);\n",
              "        }\n",
              "      </script>\n",
              "    </div>\n",
              "  </div>\n",
              "  "
            ]
          },
          "metadata": {},
          "execution_count": 38
        }
      ]
    },
    {
      "cell_type": "code",
      "source": [
        "plt.figure(figsize=(12, 7))\n",
        "\n",
        "data3 = sns.barplot(x = segwise_data[\"Segment\"], y = segwise_data[\"Sales\"].astype(int), color = 'c')\n",
        "data3 = sns.barplot(x = segwise_data[\"Segment\"], y = segwise_data[\"Profit\"].astype(int), color = 'y')\n",
        "\n",
        "data3.set(xlabel = \"Segment\", ylabel = \"Profit and Sales (Values)\")"
      ],
      "metadata": {
        "colab": {
          "base_uri": "https://localhost:8080/",
          "height": 459
        },
        "id": "awWg8Ue5ZQ88",
        "outputId": "9d4cae0e-02eb-4bbc-f663-fdcefc34b9a4"
      },
      "execution_count": null,
      "outputs": [
        {
          "output_type": "execute_result",
          "data": {
            "text/plain": [
              "[Text(0, 0.5, 'Profit and Sales (Values)'), Text(0.5, 0, 'Segment')]"
            ]
          },
          "metadata": {},
          "execution_count": 39
        },
        {
          "output_type": "display_data",
          "data": {
            "text/plain": [
              "<Figure size 864x504 with 1 Axes>"
            ],
            "image/png": "[encoded data removed]"
          },
          "metadata": {
            "needs_background": "light"
          }
        }
      ]
    },
    {
      "cell_type": "markdown",
      "source": [
        "**Question: Create bar plot for sub category wise order counts. Which sub-category wise has maximum and minimum order**\n",
        "\n",
        "maximum order - paper,  \n",
        "minimum order - machines"
      ],
      "metadata": {
        "id": "NIuqtC89oWAY"
      }
    },
    {
      "cell_type": "code",
      "source": [
        "sns.factorplot(x='Sub-Category', y='Quantity', size=6, aspect=2 ,kind='bar', data=Store)\n",
        "plt.title('Sub-category sales')"
      ],
      "metadata": {
        "colab": {
          "base_uri": "https://localhost:8080/",
          "height": 564
        },
        "id": "xRlrzVWxAEz4",
        "outputId": "892341fc-8c2e-45b7-d25f-50d58097e5dc"
      },
      "execution_count": null,
      "outputs": [
        {
          "output_type": "stream",
          "name": "stderr",
          "text": [
            "/usr/local/lib/python3.7/dist-packages/seaborn/categorical.py:3717: UserWarning: The `factorplot` function has been renamed to `catplot`. The original name will be removed in a future release. Please update your code. Note that the default `kind` in `factorplot` (`'point'`) has changed `'strip'` in `catplot`.\n",
            "  warnings.warn(msg)\n",
            "/usr/local/lib/python3.7/dist-packages/seaborn/categorical.py:3723: UserWarning: The `size` parameter has been renamed to `height`; please update your code.\n",
            "  warnings.warn(msg, UserWarning)\n"
          ]
        },
        {
          "output_type": "execute_result",
          "data": {
            "text/plain": [
              "Text(0.5, 1.0, 'Sub-category sales')"
            ]
          },
          "metadata": {},
          "execution_count": 32
        },
        {
          "output_type": "display_data",
          "data": {
            "text/plain": [
              "<Figure size 864x432 with 1 Axes>"
            ],
            "image/png": "[encoded data removed]"
          },
          "metadata": {
            "needs_background": "light"
          }
        }
      ]
    },
    {
      "cell_type": "markdown",
      "source": [
        "**Question: Analyse the city wise performance of order counts**"
      ],
      "metadata": {
        "id": "g6Yrk5U1odIH"
      }
    },
    {
      "cell_type": "code",
      "source": [
        "city_data = data['City'].value_counts()\n",
        "city_data"
      ],
      "metadata": {
        "colab": {
          "base_uri": "https://localhost:8080/"
        },
        "id": "_3RH3P9SczTH",
        "outputId": "b5f6c6b8-cae1-49d7-818a-674ffc3d372c"
      },
      "execution_count": null,
      "outputs": [
        {
          "output_type": "execute_result",
          "data": {
            "text/plain": [
              "New York City    915\n",
              "Los Angeles      747\n",
              "Philadelphia     537\n",
              "San Francisco    510\n",
              "Santo Domingo    443\n",
              "                ... \n",
              "Melitopol'         1\n",
              "Terneuzen          1\n",
              "Athis-Mons         1\n",
              "Yuyao              1\n",
              "Deer Park          1\n",
              "Name: City, Length: 3636, dtype: int64"
            ]
          },
          "metadata": {},
          "execution_count": 46
        }
      ]
    },
    {
      "cell_type": "code",
      "source": [
        "city_data.describe()"
      ],
      "metadata": {
        "colab": {
          "base_uri": "https://localhost:8080/"
        },
        "id": "v3-tx3Lbc4Yr",
        "outputId": "686512ad-376f-46bf-9208-7db5efa7be23"
      },
      "execution_count": null,
      "outputs": [
        {
          "output_type": "execute_result",
          "data": {
            "text/plain": [
              "count    3636.000000\n",
              "mean       14.106161\n",
              "std        37.794271\n",
              "min         1.000000\n",
              "25%         3.000000\n",
              "50%         6.000000\n",
              "75%        12.000000\n",
              "max       915.000000\n",
              "Name: City, dtype: float64"
            ]
          },
          "metadata": {},
          "execution_count": 47
        }
      ]
    },
    {
      "cell_type": "markdown",
      "source": [
        "**Analysis**\n",
        "\n",
        "There are a total of 3636 citites from where orders have been received.\n",
        "\n",
        "Maximum Orders have come from the following cities in order(from highest to lowest):\n",
        "\n",
        "1.New York City\n",
        "\n",
        "2.Los Angeles\n",
        "\n",
        "3.Philadelphia\n",
        "\n",
        "4.San Francisco\n",
        "\n",
        "5.Santo Domingo\n",
        "\n",
        "Minimum Orders have come from the following cities :\n",
        "\n",
        "1.Melitopol\n",
        "\n",
        "2.Terneuzen\n",
        "\n",
        "3.Athis-Mons\n",
        "\n",
        "4.Yuyao\n",
        "\n",
        "5.Deer Park"
      ],
      "metadata": {
        "id": "PN_WlJBldAns"
      }
    },
    {
      "cell_type": "markdown",
      "source": [
        "**Question: Analyse the state wise performance of order counts**"
      ],
      "metadata": {
        "id": "EgxTJE9VopDs"
      }
    },
    {
      "cell_type": "code",
      "source": [
        "state_data = data['State'].value_counts()\n",
        "state_data"
      ],
      "metadata": {
        "id": "6L1fZfC07Kd4",
        "colab": {
          "base_uri": "https://localhost:8080/"
        },
        "outputId": "25778111-5b19-40be-b9fc-d0fcb432273e"
      },
      "execution_count": null,
      "outputs": [
        {
          "output_type": "execute_result",
          "data": {
            "text/plain": [
              "California       2001\n",
              "England          1499\n",
              "New York         1128\n",
              "Texas             985\n",
              "Ile-de-France     981\n",
              "                 ... \n",
              "Arad                1\n",
              "Edirne              1\n",
              "Kastamonu           1\n",
              "Gangwon             1\n",
              "Inhambane           1\n",
              "Name: State, Length: 1094, dtype: int64"
            ]
          },
          "metadata": {},
          "execution_count": 49
        }
      ]
    },
    {
      "cell_type": "code",
      "source": [
        "state_data.describe()"
      ],
      "metadata": {
        "colab": {
          "base_uri": "https://localhost:8080/"
        },
        "id": "wZLaxDVhd053",
        "outputId": "2554aa13-3aef-4f9c-c29f-60bbbbcd2dd6"
      },
      "execution_count": null,
      "outputs": [
        {
          "output_type": "execute_result",
          "data": {
            "text/plain": [
              "count    1094.000000\n",
              "mean       46.882998\n",
              "std       121.132590\n",
              "min         1.000000\n",
              "25%         5.000000\n",
              "50%        14.000000\n",
              "75%        39.000000\n",
              "max      2001.000000\n",
              "Name: State, dtype: float64"
            ]
          },
          "metadata": {},
          "execution_count": 50
        }
      ]
    },
    {
      "cell_type": "markdown",
      "source": [
        "Analysis:\n",
        "\n",
        "There are a total of 1094 unique states.\n",
        "\n",
        "Maximum Orders have come from the following states (order of highest to lowest):\n",
        "\n",
        "1.California\n",
        "\n",
        "2.England\n",
        "\n",
        "3.New York\n",
        "\n",
        "4.Texas\n",
        "\n",
        "5.Ile-de-France\n",
        "\n",
        "Minimum Orders have come from the following states:\n",
        "\n",
        "1.Arad\n",
        "\n",
        "2.Edirne\n",
        "\n",
        "3.Kastamonu\n",
        "\n",
        "4.Gangwon\n",
        "\n",
        "5.Inhambane"
      ],
      "metadata": {
        "id": "PZbfCU1fd6f_"
      }
    },
    {
      "cell_type": "markdown",
      "source": [
        "**Question: Analyse category wise sales performance and sub category wise profit performance. which shipment class boosts the sale of which economy.**"
      ],
      "metadata": {
        "id": "M8GDUg2qovk3"
      }
    },
    {
      "cell_type": "markdown",
      "source": [
        "**Sales performance** is maximum for the category - *Technology* and,\n",
        "**profit performance** is maximum for the - *copiers*\n",
        "\n",
        "Conclusion :-\n",
        "For Technology, Same Day shipment increases the Sales,\n",
        "\n",
        "Sales for Technology Category increase in case of Same Day shipment,\n",
        "\n",
        "Sales for Furniture Category increase in case of Standard shipment,\n",
        "\n",
        "Sales for Technology Category increase in case of Second Class shipment"
      ],
      "metadata": {
        "id": "r23okToEOG96"
      }
    },
    {
      "cell_type": "code",
      "source": [
        "plt.figure(figsize=(12, 7))\n",
        "sns.barplot(x='Category', y='Sales', hue='Ship Mode', data=Store)\n",
        "plt.title(\"Sales_performance\")"
      ],
      "metadata": {
        "id": "zLv02SL27QSU",
        "colab": {
          "base_uri": "https://localhost:8080/",
          "height": 475
        },
        "outputId": "0802937d-659e-4129-b140-af0319a63066"
      },
      "execution_count": null,
      "outputs": [
        {
          "output_type": "execute_result",
          "data": {
            "text/plain": [
              "Text(0.5, 1.0, 'Sales_performance')"
            ]
          },
          "metadata": {},
          "execution_count": 37
        },
        {
          "output_type": "display_data",
          "data": {
            "text/plain": [
              "<Figure size 864x504 with 1 Axes>"
            ],
            "image/png": "[encoded data removed]"
          },
          "metadata": {
            "needs_background": "light"
          }
        }
      ]
    },
    {
      "cell_type": "code",
      "source": [
        "sns.factorplot(x='Sub-Category', y='Profit', size=6, aspect=2 ,kind='bar', data=Store)\n",
        "plt.title(\"Profit_performance\")"
      ],
      "metadata": {
        "colab": {
          "base_uri": "https://localhost:8080/",
          "height": 564
        },
        "id": "f0iStSysDHvL",
        "outputId": "49f3a9b9-035e-4c6e-f53c-0619c788e770"
      },
      "execution_count": null,
      "outputs": [
        {
          "output_type": "stream",
          "name": "stderr",
          "text": [
            "/usr/local/lib/python3.7/dist-packages/seaborn/categorical.py:3717: UserWarning: The `factorplot` function has been renamed to `catplot`. The original name will be removed in a future release. Please update your code. Note that the default `kind` in `factorplot` (`'point'`) has changed `'strip'` in `catplot`.\n",
            "  warnings.warn(msg)\n",
            "/usr/local/lib/python3.7/dist-packages/seaborn/categorical.py:3723: UserWarning: The `size` parameter has been renamed to `height`; please update your code.\n",
            "  warnings.warn(msg, UserWarning)\n"
          ]
        },
        {
          "output_type": "execute_result",
          "data": {
            "text/plain": [
              "Text(0.5, 1.0, 'Profit_performance')"
            ]
          },
          "metadata": {},
          "execution_count": 143
        },
        {
          "output_type": "display_data",
          "data": {
            "text/plain": [
              "<Figure size 864x432 with 1 Axes>"
            ],
            "image/png": "[encoded data removed]"
          },
          "metadata": {
            "needs_background": "light"
          }
        }
      ]
    }
  ],
  "metadata": {
    "colab": {
      "name": "Superstore_dataset.ipynb",
      "provenance": [],
      "collapsed_sections": [],
      "mount_file_id": "1YtyItlTtjS1Bule5_JqKPBcziQawSnut",
      "authorship_tag": "ABX9TyO5mUF+2mR4NCL8M5fwlLyS",
      "include_colab_link": true
    },
    "kernelspec": {
      "display_name": "Python 3",
      "name": "python3"
    },
    "language_info": {
      "name": "python"
    }
  },
  "nbformat": 4,
  "nbformat_minor": 0
}