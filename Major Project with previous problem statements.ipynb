{
 "cells": [
  {
   "cell_type": "code",
   "execution_count": 61,
   "id": "301b9cfb",
   "metadata": {},
   "outputs": [],
   "source": [
    "#importing python libraries\n",
    "import numpy as np # linear algebra\n",
    "import pandas as pd # data processing, CSV file I/O (e.g. pd.read_csv)\n",
    "import matplotlib.pyplot as plt\n",
    "import seaborn as sns\n",
    "%matplotlib inline"
   ]
  },
  {
   "cell_type": "code",
   "execution_count": 62,
   "id": "782c988a",
   "metadata": {},
   "outputs": [
    {
     "data": {
      "text/html": [
       "<div>\n",
       "<style scoped>\n",
       "    .dataframe tbody tr th:only-of-type {\n",
       "        vertical-align: middle;\n",
       "    }\n",
       "\n",
       "    .dataframe tbody tr th {\n",
       "        vertical-align: top;\n",
       "    }\n",
       "\n",
       "    .dataframe thead th {\n",
       "        text-align: right;\n",
       "    }\n",
       "</style>\n",
       "<table border=\"1\" class=\"dataframe\">\n",
       "  <thead>\n",
       "    <tr style=\"text-align: right;\">\n",
       "      <th></th>\n",
       "      <th>Age</th>\n",
       "      <th>Attrition</th>\n",
       "      <th>BusinessTravel</th>\n",
       "      <th>DailyRate</th>\n",
       "      <th>Department</th>\n",
       "      <th>DistanceFromHome</th>\n",
       "      <th>Education</th>\n",
       "      <th>EducationField</th>\n",
       "      <th>EmployeeCount</th>\n",
       "      <th>EmployeeNumber</th>\n",
       "      <th>...</th>\n",
       "      <th>RelationshipSatisfaction</th>\n",
       "      <th>StandardHours</th>\n",
       "      <th>StockOptionLevel</th>\n",
       "      <th>TotalWorkingYears</th>\n",
       "      <th>TrainingTimesLastYear</th>\n",
       "      <th>WorkLifeBalance</th>\n",
       "      <th>YearsAtCompany</th>\n",
       "      <th>YearsInCurrentRole</th>\n",
       "      <th>YearsSinceLastPromotion</th>\n",
       "      <th>YearsWithCurrManager</th>\n",
       "    </tr>\n",
       "  </thead>\n",
       "  <tbody>\n",
       "    <tr>\n",
       "      <th>0</th>\n",
       "      <td>41</td>\n",
       "      <td>Yes</td>\n",
       "      <td>Travel_Rarely</td>\n",
       "      <td>1102</td>\n",
       "      <td>Sales</td>\n",
       "      <td>1</td>\n",
       "      <td>2</td>\n",
       "      <td>Life Sciences</td>\n",
       "      <td>1</td>\n",
       "      <td>1</td>\n",
       "      <td>...</td>\n",
       "      <td>1</td>\n",
       "      <td>80</td>\n",
       "      <td>0</td>\n",
       "      <td>8</td>\n",
       "      <td>0</td>\n",
       "      <td>1</td>\n",
       "      <td>6</td>\n",
       "      <td>4</td>\n",
       "      <td>0</td>\n",
       "      <td>5</td>\n",
       "    </tr>\n",
       "    <tr>\n",
       "      <th>1</th>\n",
       "      <td>49</td>\n",
       "      <td>No</td>\n",
       "      <td>Travel_Frequently</td>\n",
       "      <td>279</td>\n",
       "      <td>Research &amp; Development</td>\n",
       "      <td>8</td>\n",
       "      <td>1</td>\n",
       "      <td>Life Sciences</td>\n",
       "      <td>1</td>\n",
       "      <td>2</td>\n",
       "      <td>...</td>\n",
       "      <td>4</td>\n",
       "      <td>80</td>\n",
       "      <td>1</td>\n",
       "      <td>10</td>\n",
       "      <td>3</td>\n",
       "      <td>3</td>\n",
       "      <td>10</td>\n",
       "      <td>7</td>\n",
       "      <td>1</td>\n",
       "      <td>7</td>\n",
       "    </tr>\n",
       "    <tr>\n",
       "      <th>2</th>\n",
       "      <td>37</td>\n",
       "      <td>Yes</td>\n",
       "      <td>Travel_Rarely</td>\n",
       "      <td>1373</td>\n",
       "      <td>Research &amp; Development</td>\n",
       "      <td>2</td>\n",
       "      <td>2</td>\n",
       "      <td>Other</td>\n",
       "      <td>1</td>\n",
       "      <td>4</td>\n",
       "      <td>...</td>\n",
       "      <td>2</td>\n",
       "      <td>80</td>\n",
       "      <td>0</td>\n",
       "      <td>7</td>\n",
       "      <td>3</td>\n",
       "      <td>3</td>\n",
       "      <td>0</td>\n",
       "      <td>0</td>\n",
       "      <td>0</td>\n",
       "      <td>0</td>\n",
       "    </tr>\n",
       "    <tr>\n",
       "      <th>3</th>\n",
       "      <td>33</td>\n",
       "      <td>No</td>\n",
       "      <td>Travel_Frequently</td>\n",
       "      <td>1392</td>\n",
       "      <td>Research &amp; Development</td>\n",
       "      <td>3</td>\n",
       "      <td>4</td>\n",
       "      <td>Life Sciences</td>\n",
       "      <td>1</td>\n",
       "      <td>5</td>\n",
       "      <td>...</td>\n",
       "      <td>3</td>\n",
       "      <td>80</td>\n",
       "      <td>0</td>\n",
       "      <td>8</td>\n",
       "      <td>3</td>\n",
       "      <td>3</td>\n",
       "      <td>8</td>\n",
       "      <td>7</td>\n",
       "      <td>3</td>\n",
       "      <td>0</td>\n",
       "    </tr>\n",
       "    <tr>\n",
       "      <th>4</th>\n",
       "      <td>27</td>\n",
       "      <td>No</td>\n",
       "      <td>Travel_Rarely</td>\n",
       "      <td>591</td>\n",
       "      <td>Research &amp; Development</td>\n",
       "      <td>2</td>\n",
       "      <td>1</td>\n",
       "      <td>Medical</td>\n",
       "      <td>1</td>\n",
       "      <td>7</td>\n",
       "      <td>...</td>\n",
       "      <td>4</td>\n",
       "      <td>80</td>\n",
       "      <td>1</td>\n",
       "      <td>6</td>\n",
       "      <td>3</td>\n",
       "      <td>3</td>\n",
       "      <td>2</td>\n",
       "      <td>2</td>\n",
       "      <td>2</td>\n",
       "      <td>2</td>\n",
       "    </tr>\n",
       "  </tbody>\n",
       "</table>\n",
       "<p>5 rows × 35 columns</p>\n",
       "</div>"
      ],
      "text/plain": [
       "   Age Attrition     BusinessTravel  DailyRate              Department  \\\n",
       "0   41       Yes      Travel_Rarely       1102                   Sales   \n",
       "1   49        No  Travel_Frequently        279  Research & Development   \n",
       "2   37       Yes      Travel_Rarely       1373  Research & Development   \n",
       "3   33        No  Travel_Frequently       1392  Research & Development   \n",
       "4   27        No      Travel_Rarely        591  Research & Development   \n",
       "\n",
       "   DistanceFromHome  Education EducationField  EmployeeCount  EmployeeNumber  \\\n",
       "0                 1          2  Life Sciences              1               1   \n",
       "1                 8          1  Life Sciences              1               2   \n",
       "2                 2          2          Other              1               4   \n",
       "3                 3          4  Life Sciences              1               5   \n",
       "4                 2          1        Medical              1               7   \n",
       "\n",
       "   ...  RelationshipSatisfaction StandardHours  StockOptionLevel  \\\n",
       "0  ...                         1            80                 0   \n",
       "1  ...                         4            80                 1   \n",
       "2  ...                         2            80                 0   \n",
       "3  ...                         3            80                 0   \n",
       "4  ...                         4            80                 1   \n",
       "\n",
       "   TotalWorkingYears  TrainingTimesLastYear WorkLifeBalance  YearsAtCompany  \\\n",
       "0                  8                      0               1               6   \n",
       "1                 10                      3               3              10   \n",
       "2                  7                      3               3               0   \n",
       "3                  8                      3               3               8   \n",
       "4                  6                      3               3               2   \n",
       "\n",
       "  YearsInCurrentRole  YearsSinceLastPromotion  YearsWithCurrManager  \n",
       "0                  4                        0                     5  \n",
       "1                  7                        1                     7  \n",
       "2                  0                        0                     0  \n",
       "3                  7                        3                     0  \n",
       "4                  2                        2                     2  \n",
       "\n",
       "[5 rows x 35 columns]"
      ]
     },
     "execution_count": 62,
     "metadata": {},
     "output_type": "execute_result"
    }
   ],
   "source": [
    "#Reading file in the directory\n",
    "data = pd.read_csv(\"C:\\\\Users\\\\Kirti\\\\Downloads\\\\WA_Fn-UseC_-HR-Employee-Attrition.csv\")\n",
    "data.head()"
   ]
  },
  {
   "cell_type": "code",
   "execution_count": 63,
   "id": "a6fc9d8d",
   "metadata": {},
   "outputs": [
    {
     "name": "stdout",
     "output_type": "stream",
     "text": [
      "No. of employees between the age of 50 and 60 given that department should be sales and gender should be female: 9\n"
     ]
    }
   ],
   "source": [
    "#Q1\n",
    "#Determine the no. of employees between age 50 and 60 given that department should be sales and gender should be female\n",
    "a=data[(data['Age']>50) & (data['Department']==\"Sales\") & (data['Gender']==\"Female\")]\n",
    "n=len(a.value_counts(['Age','Department','Gender']))\n",
    "print(\"No. of employees between the age of 50 and 60 given that department should be sales and gender should be female:\",n)"
   ]
  },
  {
   "cell_type": "code",
   "execution_count": 64,
   "id": "def5d0fa",
   "metadata": {},
   "outputs": [
    {
     "data": {
      "image/png": "[encoded data removed]",
      "text/plain": [
       "<Figure size 432x288 with 1 Axes>"
      ]
     },
     "metadata": {},
     "output_type": "display_data"
    },
    {
     "name": "stdout",
     "output_type": "stream",
     "text": [
      "Employees with education equal to 1 in Sales Department: 50\n",
      "Employees with education equal to 1 in Research & Development Department: 115\n",
      "Employees with education equal to 1 in Human Resources Department: 5\n"
     ]
    }
   ],
   "source": [
    "#Q2\n",
    "#Plot a graph showing relation between education and department given education should be equal to 1 and hence show no. of employees in each department wrt their education which should be equal to 1\n",
    "a=len(data[(data['Education']==1)&(data['Department']=='Sales')])\n",
    "b=len(data[(data['Education']==1)&(data['Department']=='Research & Development')])\n",
    "c=len(data[(data['Education']==1)&(data['Department']=='Human Resources')])\n",
    "y = np.array([a, b, c])\n",
    "mylabels = [\"Sales\", \"Research & Development\", \"Human Resources\"]\n",
    "\n",
    "plt.pie(y, labels = mylabels)\n",
    "plt.show() \n",
    "print(\"Employees with education equal to 1 in Sales Department:\",a)\n",
    "print(\"Employees with education equal to 1 in Research & Development Department:\",b)\n",
    "print(\"Employees with education equal to 1 in Human Resources Department:\",c)"
   ]
  },
  {
   "cell_type": "markdown",
   "id": "80613c6c",
   "metadata": {},
   "source": [
    "# Explanation:\n",
    "1)The blue part of the pie chart is showing employees having education 1 and no. of employees in Sales Department i.e. 50.\n",
    "2)The orange part of the pie chart is showing employees having education 1 and no. of employees in Research & Development Department i.e.115.\n",
    "3)The green part of the pie chart is showing employees having education 1 and no. of employees in Human Resource Department i.e.5 .\n",
    "# Conclusion:\n",
    "From the above pie chart we can see that most number of employee are from Research and Development Department followed by Sales department and Human Resources Department respectively. All employees have education equal to 1."
   ]
  },
  {
   "cell_type": "code",
   "execution_count": 65,
   "id": "7f2e02bd",
   "metadata": {},
   "outputs": [
    {
     "name": "stdout",
     "output_type": "stream",
     "text": [
      "Gender\n",
      "Female    3.159864\n",
      "Male      3.149660\n",
      "Name: PerformanceRating, dtype: float64\n",
      "Female have higher Performance Rating as compared to Male\n"
     ]
    },
    {
     "data": {
      "image/png": "[encoded data removed]",
      "text/plain": [
       "<Figure size 720x432 with 1 Axes>"
      ]
     },
     "metadata": {
      "needs_background": "light"
     },
     "output_type": "display_data"
    }
   ],
   "source": [
    "#Q3\n",
    "#Make a suitable plot showing relationship between performance rating and education. Also compute which gender has a very high performance rating\n",
    "#Education vs Performance Rating\n",
    "pd.crosstab(data['Education'],data['PerformanceRating']).plot(kind=\"bar\",figsize=(10,6))\n",
    "plt.title(\"Education vs Performance Rating\")\n",
    "plt.xlabel(\"Education\")\n",
    "plt.legend([\"Excellent\",\"Outstanding\"])\n",
    "plt.xticks(rotation=0)\n",
    "#Gender vs Performance Rating\n",
    "f=data.groupby('Gender')['PerformanceRating'].mean()\n",
    "print(f)\n",
    "print('Female have higher Performance Rating as compared to Male')"
   ]
  },
  {
   "cell_type": "markdown",
   "id": "70706658",
   "metadata": {},
   "source": [
    "# Explanation\n",
    "The above bar graph shows the relationship between performance rating and education of the employees.\n",
    "It also shows how many employees with a certain education are performing.\n",
    "# Conclusion\n",
    "From The above graph we can conclude that employees having education have high performance rating.\n",
    "it can also be concluded that Female employees have high performance rating than Male employees."
   ]
  },
  {
   "cell_type": "code",
   "execution_count": 66,
   "id": "11e51920",
   "metadata": {},
   "outputs": [
    {
     "name": "stdout",
     "output_type": "stream",
     "text": [
      "Median\n",
      " Gender\n",
      "Female    5081.5\n",
      "Male      4837.5\n",
      "Name: MonthlyIncome, dtype: float64\n",
      "Mean\n",
      " Gender\n",
      "Female    6686.566327\n",
      "Male      6380.507937\n",
      "Name: MonthlyIncome, dtype: float64\n",
      "Mode\n",
      " Gender\n",
      "Female    4011\n",
      "Male      2451\n",
      "Name: MonthlyIncome, dtype: int64\n"
     ]
    }
   ],
   "source": [
    "#Q4\n",
    "#Compute the median, average, modal monthly income for both male and female\n",
    "import statistics\n",
    "a=data.groupby('Gender')['MonthlyIncome'].median()\n",
    "b=data.groupby('Gender')['MonthlyIncome'].mean()\n",
    "c=data.groupby('Gender')['MonthlyIncome'].apply(statistics.mode)\n",
    "print('Median\\n',a)\n",
    "print('Mean\\n',b)\n",
    "print('Mode\\n',c)"
   ]
  },
  {
   "cell_type": "code",
   "execution_count": 67,
   "id": "6795caa8",
   "metadata": {},
   "outputs": [
    {
     "name": "stdout",
     "output_type": "stream",
     "text": [
      "Job Satisfaction by most of the people= 4 which means that they are highly satisfied.\n",
      "5081.5    0.5\n",
      "4837.5    0.5\n",
      "Name: MonthlyIncome, dtype: float64\n",
      "People of Sales department are most satisfied.\n"
     ]
    }
   ],
   "source": [
    "#Q5\n",
    "#Determine the level of job satisfaction by most of the people and hence compute people of which department are most satisfied\n",
    "m=data[\"JobSatisfaction\"].max()\n",
    "print(\"Job Satisfaction by most of the people=\",m,\"which means that they are highly satisfied.\")\n",
    "d=data[(data[\"JobSatisfaction\"]==m)]\n",
    "d1=a.value_counts(['Department'])\n",
    "print(d1)\n",
    "print(\"People of Sales department are most satisfied.\")"
   ]
  }
 ],
 "metadata": {
  "kernelspec": {
   "display_name": "Python 3 (ipykernel)",
   "language": "python",
   "name": "python3"
  },
  "language_info": {
   "codemirror_mode": {
    "name": "ipython",
    "version": 3
   },
   "file_extension": ".py",
   "mimetype": "text/x-python",
   "name": "python",
   "nbconvert_exporter": "python",
   "pygments_lexer": "ipython3",
   "version": "3.9.7"
  }
 },
 "nbformat": 4,
 "nbformat_minor": 5
}
