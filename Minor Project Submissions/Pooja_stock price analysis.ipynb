{
 "cells": [
  {
   "cell_type": "code",
   "execution_count": 547,
   "metadata": {},
   "outputs": [
    {
     "name": "stdout",
     "output_type": "stream",
     "text": [
      "Requirement already satisfied: pandas-datareader in c:\\users\\sahni\\appdata\\local\\programs\\python\\python310\\lib\\site-packages (0.10.0)Note: you may need to restart the kernel to use updated packages.\n",
      "\n",
      "Requirement already satisfied: pandas>=0.23 in c:\\users\\sahni\\appdata\\local\\programs\\python\\python310\\lib\\site-packages (from pandas-datareader) (1.4.3)\n",
      "Requirement already satisfied: requests>=2.19.0 in c:\\users\\sahni\\appdata\\local\\programs\\python\\python310\\lib\\site-packages (from pandas-datareader) (2.28.0)\n",
      "Requirement already satisfied: lxml in c:\\users\\sahni\\appdata\\local\\programs\\python\\python310\\lib\\site-packages (from pandas-datareader) (4.9.0)\n",
      "Requirement already satisfied: python-dateutil>=2.8.1 in c:\\users\\sahni\\appdata\\local\\programs\\python\\python310\\lib\\site-packages (from pandas>=0.23->pandas-datareader) (2.8.2)\n",
      "Requirement already satisfied: numpy>=1.21.0 in c:\\users\\sahni\\appdata\\local\\programs\\python\\python310\\lib\\site-packages (from pandas>=0.23->pandas-datareader) (1.23.0)\n",
      "Requirement already satisfied: pytz>=2020.1 in c:\\users\\sahni\\appdata\\local\\programs\\python\\python310\\lib\\site-packages (from pandas>=0.23->pandas-datareader) (2022.1)\n",
      "Requirement already satisfied: urllib3<1.27,>=1.21.1 in c:\\users\\sahni\\appdata\\local\\programs\\python\\python310\\lib\\site-packages (from requests>=2.19.0->pandas-datareader) (1.26.9)\n",
      "Requirement already satisfied: charset-normalizer~=2.0.0 in c:\\users\\sahni\\appdata\\local\\programs\\python\\python310\\lib\\site-packages (from requests>=2.19.0->pandas-datareader) (2.0.12)\n",
      "Requirement already satisfied: idna<4,>=2.5 in c:\\users\\sahni\\appdata\\local\\programs\\python\\python310\\lib\\site-packages (from requests>=2.19.0->pandas-datareader) (3.3)\n",
      "Requirement already satisfied: certifi>=2017.4.17 in c:\\users\\sahni\\appdata\\local\\programs\\python\\python310\\lib\\site-packages (from requests>=2.19.0->pandas-datareader) (2022.6.15)\n",
      "Requirement already satisfied: six>=1.5 in c:\\users\\sahni\\appdata\\local\\programs\\python\\python310\\lib\\site-packages (from python-dateutil>=2.8.1->pandas>=0.23->pandas-datareader) (1.16.0)\n"
     ]
    }
   ],
   "source": [
    "%pip install pandas-datareader"
   ]
  },
  {
   "cell_type": "code",
   "execution_count": 548,
   "metadata": {},
   "outputs": [],
   "source": [
    "import pandas as pd\n",
    "import numpy as np"
   ]
  },
  {
   "cell_type": "code",
   "execution_count": 549,
   "metadata": {},
   "outputs": [
    {
     "name": "stdout",
     "output_type": "stream",
     "text": [
      "Requirement already satisfied: matplotlib in c:\\users\\sahni\\appdata\\local\\programs\\python\\python310\\lib\\site-packages (3.5.2)\n",
      "Requirement already satisfied: pillow>=6.2.0 in c:\\users\\sahni\\appdata\\local\\programs\\python\\python310\\lib\\site-packages (from matplotlib) (9.1.1)\n",
      "Requirement already satisfied: numpy>=1.17 in c:\\users\\sahni\\appdata\\local\\programs\\python\\python310\\lib\\site-packages (from matplotlib) (1.23.0)\n",
      "Requirement already satisfied: packaging>=20.0 in c:\\users\\sahni\\appdata\\local\\programs\\python\\python310\\lib\\site-packages (from matplotlib) (21.3)\n",
      "Requirement already satisfied: fonttools>=4.22.0 in c:\\users\\sahni\\appdata\\local\\programs\\python\\python310\\lib\\site-packages (from matplotlib) (4.33.3)\n",
      "Requirement already satisfied: kiwisolver>=1.0.1 in c:\\users\\sahni\\appdata\\local\\programs\\python\\python310\\lib\\site-packages (from matplotlib) (1.4.3)\n",
      "Requirement already satisfied: cycler>=0.10 in c:\\users\\sahni\\appdata\\local\\programs\\python\\python310\\lib\\site-packages (from matplotlib) (0.11.0)\n",
      "Requirement already satisfied: pyparsing>=2.2.1 in c:\\users\\sahni\\appdata\\local\\programs\\python\\python310\\lib\\site-packages (from matplotlib) (3.0.9)\n",
      "Requirement already satisfied: python-dateutil>=2.7 in c:\\users\\sahni\\appdata\\local\\programs\\python\\python310\\lib\\site-packages (from matplotlib) (2.8.2)\n",
      "Requirement already satisfied: six>=1.5 in c:\\users\\sahni\\appdata\\local\\programs\\python\\python310\\lib\\site-packages (from python-dateutil>=2.7->matplotlib) (1.16.0)\n",
      "Note: you may need to restart the kernel to use updated packages.\n"
     ]
    }
   ],
   "source": [
    "pip install matplotlib"
   ]
  },
  {
   "cell_type": "code",
   "execution_count": 550,
   "metadata": {},
   "outputs": [],
   "source": [
    "import matplotlib.pyplot as plt\n",
    "%matplotlib inline"
   ]
  },
  {
   "cell_type": "code",
   "execution_count": 551,
   "metadata": {},
   "outputs": [
    {
     "name": "stdout",
     "output_type": "stream",
     "text": [
      "Requirement already satisfied: keras in c:\\users\\sahni\\appdata\\local\\programs\\python\\python310\\lib\\site-packages (2.9.0)\n",
      "Note: you may need to restart the kernel to use updated packages.\n"
     ]
    }
   ],
   "source": [
    "pip install keras"
   ]
  },
  {
   "cell_type": "code",
   "execution_count": 552,
   "metadata": {},
   "outputs": [
    {
     "name": "stdout",
     "output_type": "stream",
     "text": [
      "Note: you may need to restart the kernel to use updated packages.\n"
     ]
    },
    {
     "name": "stderr",
     "output_type": "stream",
     "text": [
      "ERROR: Could not find a version that satisfies the requirement tensorflow.python.platform (from versions: none)\n",
      "ERROR: No matching distribution found for tensorflow.python.platform\n"
     ]
    }
   ],
   "source": [
    "pip install tensorflow.python.platform"
   ]
  },
  {
   "cell_type": "code",
   "execution_count": 553,
   "metadata": {},
   "outputs": [],
   "source": [
    "from matplotlib.pylab import rcParams\n",
    "rcParams['figure.figsize']=20,10\n",
    "from keras.models import Sequential\n",
    "from keras.layers import LSTM,Dropout,Dense"
   ]
  },
  {
   "cell_type": "code",
   "execution_count": 554,
   "metadata": {},
   "outputs": [
    {
     "name": "stdout",
     "output_type": "stream",
     "text": [
      "Requirement already satisfied: sklearn in c:\\users\\sahni\\appdata\\local\\programs\\python\\python310\\lib\\site-packages (0.0)\n",
      "Requirement already satisfied: scikit-learn in c:\\users\\sahni\\appdata\\local\\programs\\python\\python310\\lib\\site-packages (from sklearn) (1.1.1)\n",
      "Requirement already satisfied: numpy>=1.17.3 in c:\\users\\sahni\\appdata\\local\\programs\\python\\python310\\lib\\site-packages (from scikit-learn->sklearn) (1.23.0)\n",
      "Requirement already satisfied: threadpoolctl>=2.0.0 in c:\\users\\sahni\\appdata\\local\\programs\\python\\python310\\lib\\site-packages (from scikit-learn->sklearn) (3.1.0)\n",
      "Requirement already satisfied: joblib>=1.0.0 in c:\\users\\sahni\\appdata\\local\\programs\\python\\python310\\lib\\site-packages (from scikit-learn->sklearn) (1.1.0)\n",
      "Requirement already satisfied: scipy>=1.3.2 in c:\\users\\sahni\\appdata\\local\\programs\\python\\python310\\lib\\site-packages (from scikit-learn->sklearn) (1.8.1)\n",
      "Note: you may need to restart the kernel to use updated packages.\n"
     ]
    }
   ],
   "source": [
    "pip install sklearn"
   ]
  },
  {
   "cell_type": "code",
   "execution_count": 555,
   "metadata": {},
   "outputs": [],
   "source": [
    "from sklearn.preprocessing import MinMaxScaler"
   ]
  },
  {
   "cell_type": "code",
   "execution_count": 556,
   "metadata": {},
   "outputs": [
    {
     "name": "stdout",
     "output_type": "stream",
     "text": [
      "Requirement already satisfied: pd in c:\\users\\sahni\\appdata\\local\\programs\\python\\python310\\lib\\site-packages (0.0.4)\n",
      "Note: you may need to restart the kernel to use updated packages.\n"
     ]
    }
   ],
   "source": [
    "pip install pd"
   ]
  },
  {
   "cell_type": "code",
   "execution_count": 557,
   "metadata": {},
   "outputs": [
    {
     "data": {
      "text/html": [
       "<div>\n",
       "<style scoped>\n",
       "    .dataframe tbody tr th:only-of-type {\n",
       "        vertical-align: middle;\n",
       "    }\n",
       "\n",
       "    .dataframe tbody tr th {\n",
       "        vertical-align: top;\n",
       "    }\n",
       "\n",
       "    .dataframe thead th {\n",
       "        text-align: right;\n",
       "    }\n",
       "</style>\n",
       "<table border=\"1\" class=\"dataframe\">\n",
       "  <thead>\n",
       "    <tr style=\"text-align: right;\">\n",
       "      <th></th>\n",
       "      <th>Date</th>\n",
       "      <th>Open</th>\n",
       "      <th>High</th>\n",
       "      <th>Low</th>\n",
       "      <th>Close</th>\n",
       "      <th>Volume</th>\n",
       "    </tr>\n",
       "  </thead>\n",
       "  <tbody>\n",
       "    <tr>\n",
       "      <th>0</th>\n",
       "      <td>06/27/2022</td>\n",
       "      <td>39.61</td>\n",
       "      <td>39.98</td>\n",
       "      <td>38.63</td>\n",
       "      <td>39.81</td>\n",
       "      <td>127,241</td>\n",
       "    </tr>\n",
       "    <tr>\n",
       "      <th>1</th>\n",
       "      <td>06/24/2022</td>\n",
       "      <td>37.64</td>\n",
       "      <td>39.40</td>\n",
       "      <td>37.64</td>\n",
       "      <td>39.40</td>\n",
       "      <td>602,828</td>\n",
       "    </tr>\n",
       "    <tr>\n",
       "      <th>2</th>\n",
       "      <td>06/23/2022</td>\n",
       "      <td>36.91</td>\n",
       "      <td>37.57</td>\n",
       "      <td>36.57</td>\n",
       "      <td>37.56</td>\n",
       "      <td>136,892</td>\n",
       "    </tr>\n",
       "    <tr>\n",
       "      <th>3</th>\n",
       "      <td>06/22/2022</td>\n",
       "      <td>37.01</td>\n",
       "      <td>37.62</td>\n",
       "      <td>36.50</td>\n",
       "      <td>36.88</td>\n",
       "      <td>163,082</td>\n",
       "    </tr>\n",
       "    <tr>\n",
       "      <th>4</th>\n",
       "      <td>06/21/2022</td>\n",
       "      <td>36.35</td>\n",
       "      <td>37.76</td>\n",
       "      <td>36.14</td>\n",
       "      <td>37.74</td>\n",
       "      <td>120,387</td>\n",
       "    </tr>\n",
       "  </tbody>\n",
       "</table>\n",
       "</div>"
      ],
      "text/plain": [
       "         Date   Open   High    Low  Close   Volume\n",
       "0  06/27/2022  39.61  39.98  38.63  39.81  127,241\n",
       "1  06/24/2022  37.64  39.40  37.64  39.40  602,828\n",
       "2  06/23/2022  36.91  37.57  36.57  37.56  136,892\n",
       "3  06/22/2022  37.01  37.62  36.50  36.88  163,082\n",
       "4  06/21/2022  36.35  37.76  36.14  37.74  120,387"
      ]
     },
     "execution_count": 557,
     "metadata": {},
     "output_type": "execute_result"
    }
   ],
   "source": [
    "df=pd.read_csv(\"NSE-TATA.csv\")\n",
    "df.head()"
   ]
  },
  {
   "cell_type": "code",
   "execution_count": 558,
   "metadata": {},
   "outputs": [
    {
     "data": {
      "text/plain": [
       "[<matplotlib.lines.Line2D at 0x155f23439d0>]"
      ]
     },
     "execution_count": 558,
     "metadata": {},
     "output_type": "execute_result"
    },
    {
     "data": {
      "image/png": "[encoded data removed]",
      "text/plain": [
       "<Figure size 1152x576 with 1 Axes>"
      ]
     },
     "metadata": {
      "needs_background": "light"
     },
     "output_type": "display_data"
    }
   ],
   "source": [
    "df[\"Date\"]=pd.to_datetime(df.Date,format=\"%m/%d/%Y\")\n",
    "df.index=df['Date']\n",
    "\n",
    "plt.figure(figsize=(16,8))\n",
    "plt.plot(df[\"Close\"],label='Close Price history')"
   ]
  },
  {
   "cell_type": "code",
   "execution_count": 559,
   "metadata": {},
   "outputs": [],
   "source": [
    "data=df.sort_index(ascending=True,axis=0)\n",
    "new_dataset=pd.DataFrame(index=range(0,len(df)),columns=['Date','Close'])\n",
    "\n",
    "for i in range(0,len(data)):\n",
    "    new_dataset[\"Date\"][i]=data['Date'][i]\n",
    "    new_dataset[\"Close\"][i]=data[\"Close\"][i]"
   ]
  },
  {
   "cell_type": "code",
   "execution_count": 560,
   "metadata": {},
   "outputs": [],
   "source": [
    "scaler=MinMaxScaler(feature_range=(0,1))\n",
    "final_dataset=new_dataset.values"
   ]
  },
  {
   "cell_type": "code",
   "execution_count": 561,
   "metadata": {},
   "outputs": [],
   "source": [
    "train_data=final_dataset[0:987,:]\n",
    "valid_data=final_dataset[987:,:]"
   ]
  },
  {
   "cell_type": "code",
   "execution_count": 562,
   "metadata": {},
   "outputs": [
    {
     "name": "stdout",
     "output_type": "stream",
     "text": [
      "Requirement already satisfied: datetime in c:\\users\\sahni\\appdata\\local\\programs\\python\\python310\\lib\\site-packages (4.4)\n",
      "Requirement already satisfied: zope.interface in c:\\users\\sahni\\appdata\\local\\programs\\python\\python310\\lib\\site-packages (from datetime) (5.4.0)\n",
      "Requirement already satisfied: pytz in c:\\users\\sahni\\appdata\\local\\programs\\python\\python310\\lib\\site-packages (from datetime) (2022.1)\n",
      "Requirement already satisfied: setuptools in c:\\users\\sahni\\appdata\\local\\programs\\python\\python310\\lib\\site-packages (from zope.interface->datetime) (58.1.0)\n",
      "Note: you may need to restart the kernel to use updated packages.\n"
     ]
    }
   ],
   "source": [
    "pip install datetime"
   ]
  },
  {
   "cell_type": "code",
   "execution_count": 563,
   "metadata": {},
   "outputs": [],
   "source": [
    "import numpy as np\n",
    "import matplotlib.pyplot as plt\n",
    "import pandas as pd"
   ]
  },
  {
   "cell_type": "code",
   "execution_count": 564,
   "metadata": {},
   "outputs": [],
   "source": [
    "dataset_train = pd.read_csv('Uniqlo(FastRetailing) 2012-2016 Training - stocks2012-2016.csv')\n",
    "training_set = dataset_train.iloc[:, 1:2].values"
   ]
  },
  {
   "cell_type": "code",
   "execution_count": 565,
   "metadata": {},
   "outputs": [
    {
     "data": {
      "text/html": [
       "<div>\n",
       "<style scoped>\n",
       "    .dataframe tbody tr th:only-of-type {\n",
       "        vertical-align: middle;\n",
       "    }\n",
       "\n",
       "    .dataframe tbody tr th {\n",
       "        vertical-align: top;\n",
       "    }\n",
       "\n",
       "    .dataframe thead th {\n",
       "        text-align: right;\n",
       "    }\n",
       "</style>\n",
       "<table border=\"1\" class=\"dataframe\">\n",
       "  <thead>\n",
       "    <tr style=\"text-align: right;\">\n",
       "      <th></th>\n",
       "      <th>Date</th>\n",
       "      <th>Open</th>\n",
       "      <th>High</th>\n",
       "      <th>Low</th>\n",
       "      <th>Close</th>\n",
       "      <th>Volume</th>\n",
       "      <th>Stock Trading</th>\n",
       "    </tr>\n",
       "  </thead>\n",
       "  <tbody>\n",
       "    <tr>\n",
       "      <th>0</th>\n",
       "      <td>2016-12-30</td>\n",
       "      <td>42120</td>\n",
       "      <td>42330</td>\n",
       "      <td>41700</td>\n",
       "      <td>41830</td>\n",
       "      <td>610000</td>\n",
       "      <td>25628028000</td>\n",
       "    </tr>\n",
       "    <tr>\n",
       "      <th>1</th>\n",
       "      <td>2016-12-29</td>\n",
       "      <td>43000</td>\n",
       "      <td>43220</td>\n",
       "      <td>42540</td>\n",
       "      <td>42660</td>\n",
       "      <td>448400</td>\n",
       "      <td>19188227000</td>\n",
       "    </tr>\n",
       "    <tr>\n",
       "      <th>2</th>\n",
       "      <td>2016-12-28</td>\n",
       "      <td>43940</td>\n",
       "      <td>43970</td>\n",
       "      <td>43270</td>\n",
       "      <td>43270</td>\n",
       "      <td>339900</td>\n",
       "      <td>14780670000</td>\n",
       "    </tr>\n",
       "    <tr>\n",
       "      <th>3</th>\n",
       "      <td>2016-12-27</td>\n",
       "      <td>43140</td>\n",
       "      <td>43700</td>\n",
       "      <td>43140</td>\n",
       "      <td>43620</td>\n",
       "      <td>400100</td>\n",
       "      <td>17427993000</td>\n",
       "    </tr>\n",
       "    <tr>\n",
       "      <th>4</th>\n",
       "      <td>2016-12-26</td>\n",
       "      <td>43310</td>\n",
       "      <td>43660</td>\n",
       "      <td>43090</td>\n",
       "      <td>43340</td>\n",
       "      <td>358200</td>\n",
       "      <td>15547803000</td>\n",
       "    </tr>\n",
       "  </tbody>\n",
       "</table>\n",
       "</div>"
      ],
      "text/plain": [
       "         Date   Open   High    Low  Close  Volume  Stock Trading\n",
       "0  2016-12-30  42120  42330  41700  41830  610000    25628028000\n",
       "1  2016-12-29  43000  43220  42540  42660  448400    19188227000\n",
       "2  2016-12-28  43940  43970  43270  43270  339900    14780670000\n",
       "3  2016-12-27  43140  43700  43140  43620  400100    17427993000\n",
       "4  2016-12-26  43310  43660  43090  43340  358200    15547803000"
      ]
     },
     "execution_count": 565,
     "metadata": {},
     "output_type": "execute_result"
    }
   ],
   "source": [
    "dataset_train.head()"
   ]
  },
  {
   "cell_type": "code",
   "execution_count": 566,
   "metadata": {},
   "outputs": [],
   "source": [
    "from sklearn.preprocessing import MinMaxScaler\n",
    "sc = MinMaxScaler(feature_range = (0, 1))\n",
    "training_set_scaled = sc.fit_transform(training_set)"
   ]
  },
  {
   "cell_type": "code",
   "execution_count": 567,
   "metadata": {},
   "outputs": [],
   "source": [
    "X_train = []\n",
    "y_train = []\n",
    "for i in range(60, 1226):\n",
    "    X_train.append(training_set_scaled[i-60:i, 0])\n",
    "    y_train.append(training_set_scaled[i, 0])\n",
    "X_train, y_train = np.array(X_train), np.array(y_train)"
   ]
  },
  {
   "cell_type": "code",
   "execution_count": 568,
   "metadata": {},
   "outputs": [],
   "source": [
    "X_train = np.reshape(X_train, (X_train.shape[0], X_train.shape[1], 1))"
   ]
  },
  {
   "cell_type": "code",
   "execution_count": 569,
   "metadata": {},
   "outputs": [],
   "source": [
    "from keras.models import Sequential\n",
    "from keras.layers import Dense\n",
    "from keras.layers import LSTM\n",
    "from keras.layers import Dropout"
   ]
  },
  {
   "cell_type": "code",
   "execution_count": 570,
   "metadata": {},
   "outputs": [],
   "source": [
    "regressor = Sequential()\n",
    "\n",
    "# Adding the first LSTM layer and some Dropout regularisation\n",
    "regressor.add(LSTM(units = 50, return_sequences = True, input_shape = (X_train.shape[1], 1)))\n",
    "regressor.add(Dropout(0.2))"
   ]
  },
  {
   "cell_type": "code",
   "execution_count": 571,
   "metadata": {},
   "outputs": [],
   "source": [
    "regressor.add(LSTM(units = 50, return_sequences = True))\n",
    "regressor.add(Dropout(0.2))"
   ]
  },
  {
   "cell_type": "code",
   "execution_count": 572,
   "metadata": {},
   "outputs": [],
   "source": [
    "regressor.add(LSTM(units = 50, return_sequences = True))\n",
    "regressor.add(Dropout(0.2))"
   ]
  },
  {
   "cell_type": "code",
   "execution_count": 573,
   "metadata": {},
   "outputs": [],
   "source": [
    "regressor.add(LSTM(units = 50))\n",
    "regressor.add(Dropout(0.2))"
   ]
  },
  {
   "cell_type": "code",
   "execution_count": 574,
   "metadata": {},
   "outputs": [
    {
     "name": "stdout",
     "output_type": "stream",
     "text": [
      "Epoch 1/100\n",
      "37/37 [==============================] - 13s 98ms/step - loss: 0.0366\n",
      "Epoch 2/100\n",
      "37/37 [==============================] - 4s 100ms/step - loss: 0.0074\n",
      "Epoch 3/100\n",
      "37/37 [==============================] - 4s 105ms/step - loss: 0.0057\n",
      "Epoch 4/100\n",
      "37/37 [==============================] - 4s 101ms/step - loss: 0.0057\n",
      "Epoch 5/100\n",
      "37/37 [==============================] - 4s 101ms/step - loss: 0.0058\n",
      "Epoch 6/100\n",
      "37/37 [==============================] - 4s 101ms/step - loss: 0.0055\n",
      "Epoch 7/100\n",
      "37/37 [==============================] - 4s 101ms/step - loss: 0.0049\n",
      "Epoch 8/100\n",
      "37/37 [==============================] - 4s 103ms/step - loss: 0.0044\n",
      "Epoch 9/100\n",
      "37/37 [==============================] - 4s 99ms/step - loss: 0.0041\n",
      "Epoch 10/100\n",
      "37/37 [==============================] - 4s 103ms/step - loss: 0.0044\n",
      "Epoch 11/100\n",
      "37/37 [==============================] - 4s 103ms/step - loss: 0.0040\n",
      "Epoch 12/100\n",
      "37/37 [==============================] - 4s 100ms/step - loss: 0.0038\n",
      "Epoch 13/100\n",
      "37/37 [==============================] - 4s 99ms/step - loss: 0.0038\n",
      "Epoch 14/100\n",
      "37/37 [==============================] - 4s 102ms/step - loss: 0.0033\n",
      "Epoch 15/100\n",
      "37/37 [==============================] - 4s 101ms/step - loss: 0.0035\n",
      "Epoch 16/100\n",
      "37/37 [==============================] - 4s 104ms/step - loss: 0.0034\n",
      "Epoch 17/100\n",
      "37/37 [==============================] - 4s 100ms/step - loss: 0.0030\n",
      "Epoch 18/100\n",
      "37/37 [==============================] - 4s 101ms/step - loss: 0.0032\n",
      "Epoch 19/100\n",
      "37/37 [==============================] - 4s 101ms/step - loss: 0.0029\n",
      "Epoch 20/100\n",
      "37/37 [==============================] - 4s 101ms/step - loss: 0.0030\n",
      "Epoch 21/100\n",
      "37/37 [==============================] - 4s 103ms/step - loss: 0.0030\n",
      "Epoch 22/100\n",
      "37/37 [==============================] - 4s 101ms/step - loss: 0.0033\n",
      "Epoch 23/100\n",
      "37/37 [==============================] - 4s 107ms/step - loss: 0.0029\n",
      "Epoch 24/100\n",
      "37/37 [==============================] - 4s 101ms/step - loss: 0.0030\n",
      "Epoch 25/100\n",
      "37/37 [==============================] - 4s 100ms/step - loss: 0.0029\n",
      "Epoch 26/100\n",
      "37/37 [==============================] - 4s 104ms/step - loss: 0.0029\n",
      "Epoch 27/100\n",
      "37/37 [==============================] - 4s 102ms/step - loss: 0.0027\n",
      "Epoch 28/100\n",
      "37/37 [==============================] - 4s 103ms/step - loss: 0.0025\n",
      "Epoch 29/100\n",
      "37/37 [==============================] - 4s 101ms/step - loss: 0.0027\n",
      "Epoch 30/100\n",
      "37/37 [==============================] - 4s 102ms/step - loss: 0.0025\n",
      "Epoch 31/100\n",
      "37/37 [==============================] - 4s 117ms/step - loss: 0.0026\n",
      "Epoch 32/100\n",
      "37/37 [==============================] - 4s 109ms/step - loss: 0.0023\n",
      "Epoch 33/100\n",
      "37/37 [==============================] - 4s 107ms/step - loss: 0.0024\n",
      "Epoch 34/100\n",
      "37/37 [==============================] - 4s 104ms/step - loss: 0.0025\n",
      "Epoch 35/100\n",
      "37/37 [==============================] - 4s 99ms/step - loss: 0.0025\n",
      "Epoch 36/100\n",
      "37/37 [==============================] - 4s 102ms/step - loss: 0.0023\n",
      "Epoch 37/100\n",
      "37/37 [==============================] - 4s 99ms/step - loss: 0.0023\n",
      "Epoch 38/100\n",
      "37/37 [==============================] - 4s 99ms/step - loss: 0.0025\n",
      "Epoch 39/100\n",
      "37/37 [==============================] - 4s 98ms/step - loss: 0.0021\n",
      "Epoch 40/100\n",
      "37/37 [==============================] - 4s 103ms/step - loss: 0.0021\n",
      "Epoch 41/100\n",
      "37/37 [==============================] - 4s 100ms/step - loss: 0.0022\n",
      "Epoch 42/100\n",
      "37/37 [==============================] - 4s 101ms/step - loss: 0.0021\n",
      "Epoch 43/100\n",
      "37/37 [==============================] - 4s 99ms/step - loss: 0.0019\n",
      "Epoch 44/100\n",
      "37/37 [==============================] - 4s 99ms/step - loss: 0.0022\n",
      "Epoch 45/100\n",
      "37/37 [==============================] - 4s 100ms/step - loss: 0.0022\n",
      "Epoch 46/100\n",
      "37/37 [==============================] - 4s 103ms/step - loss: 0.0023\n",
      "Epoch 47/100\n",
      "37/37 [==============================] - 4s 103ms/step - loss: 0.0021\n",
      "Epoch 48/100\n",
      "37/37 [==============================] - 4s 100ms/step - loss: 0.0020\n",
      "Epoch 49/100\n",
      "37/37 [==============================] - 4s 101ms/step - loss: 0.0019\n",
      "Epoch 50/100\n",
      "37/37 [==============================] - 4s 102ms/step - loss: 0.0021\n",
      "Epoch 51/100\n",
      "37/37 [==============================] - 4s 102ms/step - loss: 0.0018\n",
      "Epoch 52/100\n",
      "37/37 [==============================] - 4s 105ms/step - loss: 0.0016\n",
      "Epoch 53/100\n",
      "37/37 [==============================] - 4s 101ms/step - loss: 0.0021\n",
      "Epoch 54/100\n",
      "37/37 [==============================] - 4s 103ms/step - loss: 0.0019\n",
      "Epoch 55/100\n",
      "37/37 [==============================] - 4s 100ms/step - loss: 0.0018\n",
      "Epoch 56/100\n",
      "37/37 [==============================] - 4s 101ms/step - loss: 0.0016\n",
      "Epoch 57/100\n",
      "37/37 [==============================] - 4s 110ms/step - loss: 0.0019\n",
      "Epoch 58/100\n",
      "37/37 [==============================] - 4s 103ms/step - loss: 0.0017\n",
      "Epoch 59/100\n",
      "37/37 [==============================] - 4s 102ms/step - loss: 0.0016\n",
      "Epoch 60/100\n",
      "37/37 [==============================] - 4s 105ms/step - loss: 0.0015\n",
      "Epoch 61/100\n",
      "37/37 [==============================] - 4s 98ms/step - loss: 0.0016\n",
      "Epoch 62/100\n",
      "37/37 [==============================] - 4s 117ms/step - loss: 0.0014\n",
      "Epoch 63/100\n",
      "37/37 [==============================] - 4s 101ms/step - loss: 0.0014\n",
      "Epoch 64/100\n",
      "37/37 [==============================] - 4s 101ms/step - loss: 0.0017\n",
      "Epoch 65/100\n",
      "37/37 [==============================] - 4s 101ms/step - loss: 0.0016\n",
      "Epoch 66/100\n",
      "37/37 [==============================] - 4s 102ms/step - loss: 0.0016\n",
      "Epoch 67/100\n",
      "37/37 [==============================] - 4s 104ms/step - loss: 0.0015\n",
      "Epoch 68/100\n",
      "37/37 [==============================] - 4s 106ms/step - loss: 0.0014\n",
      "Epoch 69/100\n",
      "37/37 [==============================] - 5s 132ms/step - loss: 0.0014\n",
      "Epoch 70/100\n",
      "37/37 [==============================] - 5s 124ms/step - loss: 0.0014\n",
      "Epoch 71/100\n",
      "37/37 [==============================] - 4s 113ms/step - loss: 0.0015\n",
      "Epoch 72/100\n",
      "37/37 [==============================] - 4s 109ms/step - loss: 0.0014\n",
      "Epoch 73/100\n",
      "37/37 [==============================] - 4s 110ms/step - loss: 0.0015\n",
      "Epoch 74/100\n",
      "37/37 [==============================] - 4s 113ms/step - loss: 0.0014\n",
      "Epoch 75/100\n",
      "37/37 [==============================] - 4s 109ms/step - loss: 0.0014\n",
      "Epoch 76/100\n",
      "37/37 [==============================] - 4s 113ms/step - loss: 0.0014\n",
      "Epoch 77/100\n",
      "37/37 [==============================] - 4s 109ms/step - loss: 0.0015\n",
      "Epoch 78/100\n",
      "37/37 [==============================] - 4s 112ms/step - loss: 0.0013\n",
      "Epoch 79/100\n",
      "37/37 [==============================] - 4s 110ms/step - loss: 0.0015\n",
      "Epoch 80/100\n",
      "37/37 [==============================] - 4s 109ms/step - loss: 0.0013\n",
      "Epoch 81/100\n",
      "37/37 [==============================] - 4s 110ms/step - loss: 0.0012\n",
      "Epoch 82/100\n",
      "37/37 [==============================] - 4s 113ms/step - loss: 0.0013\n",
      "Epoch 83/100\n",
      "37/37 [==============================] - 4s 111ms/step - loss: 0.0015\n",
      "Epoch 84/100\n",
      "37/37 [==============================] - 4s 109ms/step - loss: 0.0013\n",
      "Epoch 85/100\n",
      "37/37 [==============================] - 4s 109ms/step - loss: 0.0014\n",
      "Epoch 86/100\n",
      "37/37 [==============================] - 4s 110ms/step - loss: 0.0012\n",
      "Epoch 87/100\n",
      "37/37 [==============================] - 4s 107ms/step - loss: 0.0013\n",
      "Epoch 88/100\n",
      "37/37 [==============================] - 4s 112ms/step - loss: 0.0013\n",
      "Epoch 89/100\n",
      "37/37 [==============================] - 4s 113ms/step - loss: 0.0012\n",
      "Epoch 90/100\n",
      "37/37 [==============================] - 4s 109ms/step - loss: 0.0012\n",
      "Epoch 91/100\n",
      "37/37 [==============================] - 4s 112ms/step - loss: 0.0012\n",
      "Epoch 92/100\n",
      "37/37 [==============================] - 4s 110ms/step - loss: 0.0012\n",
      "Epoch 93/100\n",
      "37/37 [==============================] - 4s 113ms/step - loss: 0.0011\n",
      "Epoch 94/100\n",
      "37/37 [==============================] - 4s 110ms/step - loss: 0.0012\n",
      "Epoch 95/100\n",
      "37/37 [==============================] - 4s 112ms/step - loss: 0.0012\n",
      "Epoch 96/100\n",
      "37/37 [==============================] - 4s 114ms/step - loss: 0.0013\n",
      "Epoch 97/100\n",
      "37/37 [==============================] - 4s 114ms/step - loss: 0.0011\n",
      "Epoch 98/100\n",
      "37/37 [==============================] - 4s 114ms/step - loss: 0.0012\n",
      "Epoch 99/100\n",
      "37/37 [==============================] - 4s 112ms/step - loss: 0.0012\n",
      "Epoch 100/100\n",
      "37/37 [==============================] - 4s 110ms/step - loss: 0.0012\n"
     ]
    },
    {
     "data": {
      "text/plain": [
       "<keras.callbacks.History at 0x155f777af80>"
      ]
     },
     "execution_count": 574,
     "metadata": {},
     "output_type": "execute_result"
    }
   ],
   "source": [
    "regressor.add(Dense(units = 1))\n",
    "\n",
    "# Compiling the RNN\n",
    "regressor.compile(optimizer = 'adam', loss = 'mean_squared_error')\n",
    "\n",
    "# Fitting the RNN to the Training set\n",
    "regressor.fit(X_train, y_train, epochs = 100, batch_size = 32)"
   ]
  },
  {
   "cell_type": "code",
   "execution_count": 575,
   "metadata": {},
   "outputs": [],
   "source": [
    "dataset_test = pd.read_csv('tatatest.csv')\n",
    "real_stock_price = dataset_test.iloc[:, 1:2].values"
   ]
  },
  {
   "cell_type": "code",
   "execution_count": 576,
   "metadata": {},
   "outputs": [
    {
     "name": "stdout",
     "output_type": "stream",
     "text": [
      "1/1 [==============================] - 2s 2s/step\n"
     ]
    }
   ],
   "source": [
    "dataset_total = pd.concat((dataset_train['Open'], dataset_test['Open']), axis = 0)\n",
    "inputs = dataset_total[len(dataset_total) - len(dataset_test) - 60:].values\n",
    "inputs = inputs.reshape(-1,1)\n",
    "inputs = sc.transform(inputs)\n",
    "X_test = []\n",
    "for i in range(60, 76):\n",
    "    X_test.append(inputs[i-60:i, 0])\n",
    "X_test = np.array(X_test)\n",
    "X_test = np.reshape(X_test, (X_test.shape[0], X_test.shape[1], 1))\n",
    "predicted_stock_price = regressor.predict(X_test)\n",
    "predicted_stock_price = sc.inverse_transform(predicted_stock_price)\n"
   ]
  },
  {
   "cell_type": "code",
   "execution_count": 578,
   "metadata": {},
   "outputs": [
    {
     "data": {
      "image/png": "[encoded data removed]",
      "text/plain": [
       "<Figure size 1440x720 with 1 Axes>"
      ]
     },
     "metadata": {
      "needs_background": "light"
     },
     "output_type": "display_data"
    }
   ],
   "source": [
    "# Visualising the results\n",
    "plt.plot(real_stock_price, color = 'red', label = 'Real Uniqlo(FastRetailing)')\n",
    "plt.plot(predicted_stock_price, color = 'blue', label = 'Predicted Uniqlo(FastRetailing)')\n",
    "plt.title('Uniqlo(FastRetailing) 2012-2016 Training - stocks2012-2016')\n",
    "plt.xlabel('Time')\n",
    "plt.ylabel('Uniqlo(FastRetailing)')\n",
    "plt.legend()\n",
    "plt.show()"
   ]
  }
 ],
 "metadata": {
  "kernelspec": {
   "display_name": "Python 3.10.5 64-bit",
   "language": "python",
   "name": "python3"
  },
  "language_info": {
   "codemirror_mode": {
    "name": "ipython",
    "version": 3
   },
   "file_extension": ".py",
   "mimetype": "text/x-python",
   "name": "python",
   "nbconvert_exporter": "python",
   "pygments_lexer": "ipython3",
   "version": "3.10.5"
  },
  "orig_nbformat": 4,
  "vscode": {
   "interpreter": {
    "hash": "d8c09ab87f5c370fceccbaa5a796819ea6f07f39d0e9f460876f6bfe9e258a67"
   }
  }
 },
 "nbformat": 4,
 "nbformat_minor": 2
}
