{
 "cells": [
  {
   "cell_type": "markdown",
   "id": "24408437",
   "metadata": {},
   "source": [
    "LOAN DEFAULT PREDICTION"
   ]
  },
  {
   "cell_type": "code",
   "execution_count": 3,
   "id": "d90ad04c",
   "metadata": {},
   "outputs": [],
   "source": [
    "#Importing all necessary libraries\n",
    "import numpy as np \n",
    "import seaborn as sns\n",
    "import pandas as pd \n",
    "import matplotlib.pyplot as plt\n",
    "%matplotlib inline"
   ]
  },
  {
   "cell_type": "markdown",
   "id": "f731ad8b",
   "metadata": {},
   "source": [
    "NumPy is a Python library used for working with arrays. \n",
    "Pandas is a Python library used for working with data sets. It has functions for analyzing, cleaning, exploring, and manipulating data. \n",
    "Seaborn is a library mostly used for statistical plotting in Python. It is built on top of Matplotlib and provides beautiful default styles and color palettes to make statistical plots more attractive.\n"
   ]
  },
  {
   "cell_type": "code",
   "execution_count": 5,
   "id": "4e92a9e8",
   "metadata": {},
   "outputs": [],
   "source": [
    "#Importing the dataset\n",
    "data = pd.read_csv('C:/Users/Tisha/OneDrive/Desktop/ml_task/Default_Fin.csv')"
   ]
  },
  {
   "cell_type": "code",
   "execution_count": 6,
   "id": "4023208e",
   "metadata": {},
   "outputs": [
    {
     "data": {
      "text/html": [
       "<div>\n",
       "<style scoped>\n",
       "    .dataframe tbody tr th:only-of-type {\n",
       "        vertical-align: middle;\n",
       "    }\n",
       "\n",
       "    .dataframe tbody tr th {\n",
       "        vertical-align: top;\n",
       "    }\n",
       "\n",
       "    .dataframe thead th {\n",
       "        text-align: right;\n",
       "    }\n",
       "</style>\n",
       "<table border=\"1\" class=\"dataframe\">\n",
       "  <thead>\n",
       "    <tr style=\"text-align: right;\">\n",
       "      <th></th>\n",
       "      <th>Index</th>\n",
       "      <th>Employed</th>\n",
       "      <th>Bank Balance</th>\n",
       "      <th>Annual Salary</th>\n",
       "      <th>Defaulted?</th>\n",
       "    </tr>\n",
       "  </thead>\n",
       "  <tbody>\n",
       "    <tr>\n",
       "      <th>0</th>\n",
       "      <td>1</td>\n",
       "      <td>1</td>\n",
       "      <td>8754.36</td>\n",
       "      <td>532339.56</td>\n",
       "      <td>0</td>\n",
       "    </tr>\n",
       "    <tr>\n",
       "      <th>1</th>\n",
       "      <td>2</td>\n",
       "      <td>0</td>\n",
       "      <td>9806.16</td>\n",
       "      <td>145273.56</td>\n",
       "      <td>0</td>\n",
       "    </tr>\n",
       "    <tr>\n",
       "      <th>2</th>\n",
       "      <td>3</td>\n",
       "      <td>1</td>\n",
       "      <td>12882.60</td>\n",
       "      <td>381205.68</td>\n",
       "      <td>0</td>\n",
       "    </tr>\n",
       "    <tr>\n",
       "      <th>3</th>\n",
       "      <td>4</td>\n",
       "      <td>1</td>\n",
       "      <td>6351.00</td>\n",
       "      <td>428453.88</td>\n",
       "      <td>0</td>\n",
       "    </tr>\n",
       "    <tr>\n",
       "      <th>4</th>\n",
       "      <td>5</td>\n",
       "      <td>1</td>\n",
       "      <td>9427.92</td>\n",
       "      <td>461562.00</td>\n",
       "      <td>0</td>\n",
       "    </tr>\n",
       "    <tr>\n",
       "      <th>...</th>\n",
       "      <td>...</td>\n",
       "      <td>...</td>\n",
       "      <td>...</td>\n",
       "      <td>...</td>\n",
       "      <td>...</td>\n",
       "    </tr>\n",
       "    <tr>\n",
       "      <th>9995</th>\n",
       "      <td>9996</td>\n",
       "      <td>1</td>\n",
       "      <td>8538.72</td>\n",
       "      <td>635908.56</td>\n",
       "      <td>0</td>\n",
       "    </tr>\n",
       "    <tr>\n",
       "      <th>9996</th>\n",
       "      <td>9997</td>\n",
       "      <td>1</td>\n",
       "      <td>9095.52</td>\n",
       "      <td>235928.64</td>\n",
       "      <td>0</td>\n",
       "    </tr>\n",
       "    <tr>\n",
       "      <th>9997</th>\n",
       "      <td>9998</td>\n",
       "      <td>1</td>\n",
       "      <td>10144.92</td>\n",
       "      <td>703633.92</td>\n",
       "      <td>0</td>\n",
       "    </tr>\n",
       "    <tr>\n",
       "      <th>9998</th>\n",
       "      <td>9999</td>\n",
       "      <td>1</td>\n",
       "      <td>18828.12</td>\n",
       "      <td>440029.32</td>\n",
       "      <td>0</td>\n",
       "    </tr>\n",
       "    <tr>\n",
       "      <th>9999</th>\n",
       "      <td>10000</td>\n",
       "      <td>0</td>\n",
       "      <td>2411.04</td>\n",
       "      <td>202355.40</td>\n",
       "      <td>0</td>\n",
       "    </tr>\n",
       "  </tbody>\n",
       "</table>\n",
       "<p>10000 rows × 5 columns</p>\n",
       "</div>"
      ],
      "text/plain": [
       "      Index  Employed  Bank Balance  Annual Salary  Defaulted?\n",
       "0         1         1       8754.36      532339.56           0\n",
       "1         2         0       9806.16      145273.56           0\n",
       "2         3         1      12882.60      381205.68           0\n",
       "3         4         1       6351.00      428453.88           0\n",
       "4         5         1       9427.92      461562.00           0\n",
       "...     ...       ...           ...            ...         ...\n",
       "9995   9996         1       8538.72      635908.56           0\n",
       "9996   9997         1       9095.52      235928.64           0\n",
       "9997   9998         1      10144.92      703633.92           0\n",
       "9998   9999         1      18828.12      440029.32           0\n",
       "9999  10000         0       2411.04      202355.40           0\n",
       "\n",
       "[10000 rows x 5 columns]"
      ]
     },
     "execution_count": 6,
     "metadata": {},
     "output_type": "execute_result"
    }
   ],
   "source": [
    "data"
   ]
  },
  {
   "cell_type": "markdown",
   "id": "9ef4035f",
   "metadata": {},
   "source": [
    "Shows number of rows and columns in the dataset"
   ]
  },
  {
   "cell_type": "markdown",
   "id": "b7c3227f",
   "metadata": {},
   "source": [
    "Ques_1 What is the number of people who will be given a grace period of exactly 15 days?"
   ]
  },
  {
   "cell_type": "code",
   "execution_count": 9,
   "id": "7b4304a8",
   "metadata": {},
   "outputs": [
    {
     "name": "stdout",
     "output_type": "stream",
     "text": [
      "206\n"
     ]
    }
   ],
   "source": [
    "count=len(data[(data[\"Defaulted?\"]==1) & (data[\"Annual Salary\"]>100000) & (data[\"Bank Balance\"]>5000) & (data[\"Employed\"]!=0)])\n",
    "print(count)"
   ]
  },
  {
   "cell_type": "markdown",
   "id": "e53ecb94",
   "metadata": {},
   "source": [
    "There are 206 people with grace period of exactly 15 days."
   ]
  },
  {
   "cell_type": "markdown",
   "id": "928a9642",
   "metadata": {},
   "source": [
    "Ques_2 Find the maximum fine that can be levied by the bank in the period of 15 days."
   ]
  },
  {
   "cell_type": "code",
   "execution_count": 10,
   "id": "9636091e",
   "metadata": {},
   "outputs": [
    {
     "name": "stdout",
     "output_type": "stream",
     "text": [
      "11944.44\n"
     ]
    }
   ],
   "source": [
    "maxBalance=data[\"Bank Balance\"][(data[\"Defaulted?\"]==1) & (data[\"Annual Salary\"]>100000) & (data[\"Bank Balance\"]>5000)].max()\n",
    "maxFine=(2.5*maxBalance*15)/100\n",
    "print(maxFine)"
   ]
  },
  {
   "cell_type": "markdown",
   "id": "b76e767a",
   "metadata": {},
   "source": [
    "Formula for maximum fine = (2.5 * maxBalance * 15) / 100\n",
    "Maximum fine that can be levied by the bank in the period of 15 days is: 11944.44"
   ]
  },
  {
   "cell_type": "markdown",
   "id": "7dbcd26e",
   "metadata": {},
   "source": [
    "Ques3: Assuming that all the people falling into the category of defaulters have not paid their EMI in the grace period, what is the total amount being generated by the bank as a part of the fine."
   ]
  },
  {
   "cell_type": "code",
   "execution_count": 11,
   "id": "73d61dc1",
   "metadata": {},
   "outputs": [
    {
     "name": "stdout",
     "output_type": "stream",
     "text": [
      "34972758.9\n"
     ]
    }
   ],
   "source": [
    "sum=0\n",
    "for i in data.Index:\n",
    " if data.loc[i-1,'Defaulted?']==0:\n",
    "   sum+=(2.5*data.loc[i-1,'Bank Balance']*15)/100\n",
    "print(round(sum,4))"
   ]
  },
  {
   "cell_type": "markdown",
   "id": "606ba328",
   "metadata": {},
   "source": [
    "The total amount generated as a part of the fine will be 34972758.9 assuming that all people fall into the category of defaulters have not paid their EMI in the grace time period."
   ]
  },
  {
   "cell_type": "markdown",
   "id": "6eeab81f",
   "metadata": {},
   "source": [
    "Ques_4: Use a suitable plot to show the difference in bank balance of the people who are not eligible for a grace period, and those who are."
   ]
  },
  {
   "cell_type": "code",
   "execution_count": 12,
   "id": "63cdc7f1",
   "metadata": {},
   "outputs": [
    {
     "data": {
      "text/plain": [
       "0    9667\n",
       "1     333\n",
       "Name: Grace?, dtype: int64"
      ]
     },
     "execution_count": 12,
     "metadata": {},
     "output_type": "execute_result"
    }
   ],
   "source": [
    "data['Grace?']=((data['Defaulted?']==1) & (data['Bank Balance']>5000) & (data[\"Annual Salary\"]>100000)).astype(int)\n",
    "data['Grace?'].value_counts()"
   ]
  },
  {
   "cell_type": "code",
   "execution_count": 26,
   "id": "5714e458",
   "metadata": {},
   "outputs": [
    {
     "data": {
      "image/png": "[encoded data removed]",
      "text/plain": [
       "<Figure size 432x288 with 1 Axes>"
      ]
     },
     "metadata": {
      "needs_background": "light"
     },
     "output_type": "display_data"
    }
   ],
   "source": [
    "#plot of people who are not eligible for grace\n",
    "data[data['Grace?'] == 0].plot(kind = \"scatter\", x = \"Index\", y = \"Bank Balance\", color = \"orange\", ax=plt.gca())\n",
    "\n",
    "#plot of people who are eligible for grace\n",
    "data[data['Grace?'] == 1].plot(kind = \"scatter\", x = \"Index\", y = \"Bank Balance\", color = \"red\", ax=plt.gca())\n",
    "\n",
    "plt.show()"
   ]
  },
  {
   "cell_type": "markdown",
   "id": "620db1b1",
   "metadata": {},
   "source": [
    "333 People are eligible for the grace period and 9667 people are not eligible for it.\n",
    "Given below is a scatter plot wherein orange color shows those people who are not eligible for grace period and red color shows those who are not."
   ]
  },
  {
   "cell_type": "markdown",
   "id": "31e268d9",
   "metadata": {},
   "source": [
    "Ques_5: Find the difference between the median of the bank balance of those people who are eligible for Grace Period and the original value."
   ]
  },
  {
   "cell_type": "code",
   "execution_count": 14,
   "id": "c05278cf",
   "metadata": {},
   "outputs": [
    {
     "name": "stdout",
     "output_type": "stream",
     "text": [
      "1614.42\n"
     ]
    }
   ],
   "source": [
    "median1=data[\"Bank Balance\"].median()\n",
    "median2=data[\"Bank Balance\"][(data[\"Annual Salary\"]>100000) & (data[\"Bank Balance\"]>5000)].median()\n",
    "difference=median2-median1\n",
    "print(round(difference,4))"
   ]
  },
  {
   "cell_type": "markdown",
   "id": "bb1e5017",
   "metadata": {},
   "source": [
    "The difference between the median of the bank balance of those people who are eligible for Grace Period and the original value is 1614.42."
   ]
  },
  {
   "cell_type": "markdown",
   "id": "b0738ce8",
   "metadata": {},
   "source": [
    "Quest_6: Use a suitable graph to show the changes in the annual income of those people who are eligible for grace period and those who are not."
   ]
  },
  {
   "cell_type": "code",
   "execution_count": 19,
   "id": "6e2c5be3",
   "metadata": {},
   "outputs": [
    {
     "data": {
      "image/png": "[encoded data removed]",
      "text/plain": [
       "<Figure size 432x288 with 1 Axes>"
      ]
     },
     "metadata": {
      "needs_background": "light"
     },
     "output_type": "display_data"
    }
   ],
   "source": [
    "#plot of people who are not eligible for the grace period\n",
    "non_eligible_people=data.loc[data[\"Grace?\"]==0,\"Annual Salary\"]\n",
    "non_eligible_people.plot.hist(color=\"pink\",alpha=0.9)\n",
    "\n",
    "# plot of people who are eligible for the grace period\n",
    "eligible_people=data.loc[data[\"Grace?\"]==1,\"Annual Salary\"]\n",
    "eligible_people.plot.hist(color=\"red\",alpha=0.9)\n",
    "\n",
    "plt.show()\n"
   ]
  },
  {
   "cell_type": "markdown",
   "id": "a34057d5",
   "metadata": {},
   "source": [
    "In the above histogram red color shows the changes in the annual income of those people who are eligible for grace period while pink color shows the changes in the annual income of those people who are not eligible for grace period"
   ]
  }
 ],
 "metadata": {
  "kernelspec": {
   "display_name": "Python 3",
   "language": "python",
   "name": "python3"
  },
  "language_info": {
   "codemirror_mode": {
    "name": "ipython",
    "version": 3
   },
   "file_extension": ".py",
   "mimetype": "text/x-python",
   "name": "python",
   "nbconvert_exporter": "python",
   "pygments_lexer": "ipython3",
   "version": "3.8.8"
  }
 },
 "nbformat": 4,
 "nbformat_minor": 5
}
