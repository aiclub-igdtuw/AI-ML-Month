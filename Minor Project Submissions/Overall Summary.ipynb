{
 "cells": [
  {
   "cell_type": "code",
   "execution_count": null,
   "id": "8cc12b4e",
   "metadata": {},
   "outputs": [],
   "source": [
    "Most Undergoing Studies are in Phase 2 with only 2.77% studies in Phase 4\n",
    "Most studies are recruiting indicating a need of skilled individuals\n",
    "Hydroxychloroquine is most used Intervention\n",
    "Most Studies involve (Adult, Older Adult) Population with very few studies focussed on Children\n",
    "Most studies have 0-40k participants in the clinical trials\n",
    "Most Studies follow observational and interventional methodology\n",
    "Most Studies take place in USA (517) and France (349)\n",
    "Max Funding for these Clinical trials are done by 'Industries'. Some studies are funded by NIH and US-FEDs\n",
    "Most Studies aim to be completed by 2020-2025"
   ]
  }
 ],
 "metadata": {
  "kernelspec": {
   "display_name": "Python 3 (ipykernel)",
   "language": "python",
   "name": "python3"
  },
  "language_info": {
   "codemirror_mode": {
    "name": "ipython",
    "version": 3
   },
   "file_extension": ".py",
   "mimetype": "text/x-python",
   "name": "python",
   "nbconvert_exporter": "python",
   "pygments_lexer": "ipython3",
   "version": "3.9.12"
  }
 },
 "nbformat": 4,
 "nbformat_minor": 5
}
