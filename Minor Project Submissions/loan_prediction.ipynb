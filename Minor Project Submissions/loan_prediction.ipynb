{
  "nbformat": 4,
  "nbformat_minor": 0,
  "metadata": {
    "colab": {
      "name": "loan prediction.ipynb",
      "provenance": []
    },
    "kernelspec": {
      "name": "python3",
      "display_name": "Python 3"
    },
    "language_info": {
      "name": "python"
    }
  },
  "cells": [
    {
      "cell_type": "code",
      "execution_count": null,
      "metadata": {
        "id": "izJf0IFoTW5_"
      },
      "outputs": [],
      "source": [
        "import numpy as np \n",
        "import seaborn as sns\n",
        "import pandas as pd \n",
        "import matplotlib.pyplot as plt\n",
        "%matplotlib inline"
      ]
    },
    {
      "cell_type": "code",
      "source": [
        "df=pd.read_csv(\"/content/Default_Fin.csv\")"
      ],
      "metadata": {
        "id": "hYVl08lPUr9V"
      },
      "execution_count": null,
      "outputs": []
    },
    {
      "cell_type": "markdown",
      "source": [
        "# **Question 1**"
      ],
      "metadata": {
        "id": "CtUsNS-YCu6b"
      }
    },
    {
      "cell_type": "code",
      "source": [
        "newdf=df[(df[\"Defaulted?\"]==1) & (df[\"Annual Salary\"]>100000) & (df[\"Bank Balance\"]>5000) & (df[\"Employed\"]!=0)]\n",
        "newdf['Index'].count()"
      ],
      "metadata": {
        "colab": {
          "base_uri": "https://localhost:8080/"
        },
        "id": "6_Kisfb8VPeV",
        "outputId": "acbc0dac-6f35-47b2-ca57-9b0893187e34"
      },
      "execution_count": null,
      "outputs": [
        {
          "output_type": "execute_result",
          "data": {
            "text/plain": [
              "206"
            ]
          },
          "metadata": {},
          "execution_count": 33
        }
      ]
    },
    {
      "cell_type": "markdown",
      "source": [
        "# **Question 2**"
      ],
      "metadata": {
        "id": "5vzjDH9lCzTi"
      }
    },
    {
      "cell_type": "code",
      "source": [
        "def compound_interest(principle):\n",
        " \n",
        "    \n",
        "    Amount = principle * (pow((1 + 2.5 / 100), 15))\n",
        "    CI = Amount - principle\n",
        "    return CI\n",
        "  \n",
        "\n",
        "newdf['cpd']=newdf['Bank Balance'].apply(compound_interest)\n",
        "newdf"
      ],
      "metadata": {
        "colab": {
          "base_uri": "https://localhost:8080/",
          "height": 532
        },
        "id": "V02GfHIcVR33",
        "outputId": "267e7342-12cd-482d-8443-a0aa934c2cba"
      },
      "execution_count": null,
      "outputs": [
        {
          "output_type": "stream",
          "name": "stderr",
          "text": [
            "/usr/local/lib/python3.7/dist-packages/ipykernel_launcher.py:9: SettingWithCopyWarning: \n",
            "A value is trying to be set on a copy of a slice from a DataFrame.\n",
            "Try using .loc[row_indexer,col_indexer] = value instead\n",
            "\n",
            "See the caveats in the documentation: https://pandas.pydata.org/pandas-docs/stable/user_guide/indexing.html#returning-a-view-versus-a-copy\n",
            "  if __name__ == '__main__':\n"
          ]
        },
        {
          "output_type": "execute_result",
          "data": {
            "text/plain": [
              "      Index  Employed  Bank Balance  Annual Salary  Defaulted?           cpd\n",
              "206     207         1      22675.20      587474.04           1  10165.250585\n",
              "243     244         1      23573.76      468655.08           1  10568.073385\n",
              "263     264         1      18364.20      360045.84           1   8232.637189\n",
              "341     342         1      19713.84      562283.40           1   8837.678327\n",
              "345     346         1      23899.80      505600.44           1  10714.236520\n",
              "...     ...       ...           ...            ...         ...           ...\n",
              "9893   9894         1      27460.92      624522.84           1  12310.680086\n",
              "9912   9913         1      25786.80      531719.04           1  11560.175160\n",
              "9949   9950         1      21003.00      618947.28           1   9415.606391\n",
              "9951   9952         1      18187.32      584262.12           1   8153.342210\n",
              "9978   9979         1      26429.52      567447.12           1  11848.305357\n",
              "\n",
              "[206 rows x 6 columns]"
            ],
            "text/html": [
              "\n",
              "  <div id=\"df-d1f55f41-1b7e-4cbb-a02f-b11000781b68\">\n",
              "    <div class=\"colab-df-container\">\n",
              "      <div>\n",
              "<style scoped>\n",
              "    .dataframe tbody tr th:only-of-type {\n",
              "        vertical-align: middle;\n",
              "    }\n",
              "\n",
              "    .dataframe tbody tr th {\n",
              "        vertical-align: top;\n",
              "    }\n",
              "\n",
              "    .dataframe thead th {\n",
              "        text-align: right;\n",
              "    }\n",
              "</style>\n",
              "<table border=\"1\" class=\"dataframe\">\n",
              "  <thead>\n",
              "    <tr style=\"text-align: right;\">\n",
              "      <th></th>\n",
              "      <th>Index</th>\n",
              "      <th>Employed</th>\n",
              "      <th>Bank Balance</th>\n",
              "      <th>Annual Salary</th>\n",
              "      <th>Defaulted?</th>\n",
              "      <th>cpd</th>\n",
              "    </tr>\n",
              "  </thead>\n",
              "  <tbody>\n",
              "    <tr>\n",
              "      <th>206</th>\n",
              "      <td>207</td>\n",
              "      <td>1</td>\n",
              "      <td>22675.20</td>\n",
              "      <td>587474.04</td>\n",
              "      <td>1</td>\n",
              "      <td>10165.250585</td>\n",
              "    </tr>\n",
              "    <tr>\n",
              "      <th>243</th>\n",
              "      <td>244</td>\n",
              "      <td>1</td>\n",
              "      <td>23573.76</td>\n",
              "      <td>468655.08</td>\n",
              "      <td>1</td>\n",
              "      <td>10568.073385</td>\n",
              "    </tr>\n",
              "    <tr>\n",
              "      <th>263</th>\n",
              "      <td>264</td>\n",
              "      <td>1</td>\n",
              "      <td>18364.20</td>\n",
              "      <td>360045.84</td>\n",
              "      <td>1</td>\n",
              "      <td>8232.637189</td>\n",
              "    </tr>\n",
              "    <tr>\n",
              "      <th>341</th>\n",
              "      <td>342</td>\n",
              "      <td>1</td>\n",
              "      <td>19713.84</td>\n",
              "      <td>562283.40</td>\n",
              "      <td>1</td>\n",
              "      <td>8837.678327</td>\n",
              "    </tr>\n",
              "    <tr>\n",
              "      <th>345</th>\n",
              "      <td>346</td>\n",
              "      <td>1</td>\n",
              "      <td>23899.80</td>\n",
              "      <td>505600.44</td>\n",
              "      <td>1</td>\n",
              "      <td>10714.236520</td>\n",
              "    </tr>\n",
              "    <tr>\n",
              "      <th>...</th>\n",
              "      <td>...</td>\n",
              "      <td>...</td>\n",
              "      <td>...</td>\n",
              "      <td>...</td>\n",
              "      <td>...</td>\n",
              "      <td>...</td>\n",
              "    </tr>\n",
              "    <tr>\n",
              "      <th>9893</th>\n",
              "      <td>9894</td>\n",
              "      <td>1</td>\n",
              "      <td>27460.92</td>\n",
              "      <td>624522.84</td>\n",
              "      <td>1</td>\n",
              "      <td>12310.680086</td>\n",
              "    </tr>\n",
              "    <tr>\n",
              "      <th>9912</th>\n",
              "      <td>9913</td>\n",
              "      <td>1</td>\n",
              "      <td>25786.80</td>\n",
              "      <td>531719.04</td>\n",
              "      <td>1</td>\n",
              "      <td>11560.175160</td>\n",
              "    </tr>\n",
              "    <tr>\n",
              "      <th>9949</th>\n",
              "      <td>9950</td>\n",
              "      <td>1</td>\n",
              "      <td>21003.00</td>\n",
              "      <td>618947.28</td>\n",
              "      <td>1</td>\n",
              "      <td>9415.606391</td>\n",
              "    </tr>\n",
              "    <tr>\n",
              "      <th>9951</th>\n",
              "      <td>9952</td>\n",
              "      <td>1</td>\n",
              "      <td>18187.32</td>\n",
              "      <td>584262.12</td>\n",
              "      <td>1</td>\n",
              "      <td>8153.342210</td>\n",
              "    </tr>\n",
              "    <tr>\n",
              "      <th>9978</th>\n",
              "      <td>9979</td>\n",
              "      <td>1</td>\n",
              "      <td>26429.52</td>\n",
              "      <td>567447.12</td>\n",
              "      <td>1</td>\n",
              "      <td>11848.305357</td>\n",
              "    </tr>\n",
              "  </tbody>\n",
              "</table>\n",
              "<p>206 rows × 6 columns</p>\n",
              "</div>\n",
              "      <button class=\"colab-df-convert\" onclick=\"convertToInteractive('df-d1f55f41-1b7e-4cbb-a02f-b11000781b68')\"\n",
              "              title=\"Convert this dataframe to an interactive table.\"\n",
              "              style=\"display:none;\">\n",
              "        \n",
              "  <svg xmlns=\"http://www.w3.org/2000/svg\" height=\"24px\"viewBox=\"0 0 24 24\"\n",
              "       width=\"24px\">\n",
              "    <path d=\"M0 0h24v24H0V0z\" fill=\"none\"/>\n",
              "    <path d=\"M18.56 5.44l.94 2.06.94-2.06 2.06-.94-2.06-.94-.94-2.06-.94 2.06-2.06.94zm-11 1L8.5 8.5l.94-2.06 2.06-.94-2.06-.94L8.5 2.5l-.94 2.06-2.06.94zm10 10l.94 2.06.94-2.06 2.06-.94-2.06-.94-.94-2.06-.94 2.06-2.06.94z\"/><path d=\"M17.41 7.96l-1.37-1.37c-.4-.4-.92-.59-1.43-.59-.52 0-1.04.2-1.43.59L10.3 9.45l-7.72 7.72c-.78.78-.78 2.05 0 2.83L4 21.41c.39.39.9.59 1.41.59.51 0 1.02-.2 1.41-.59l7.78-7.78 2.81-2.81c.8-.78.8-2.07 0-2.86zM5.41 20L4 18.59l7.72-7.72 1.47 1.35L5.41 20z\"/>\n",
              "  </svg>\n",
              "      </button>\n",
              "      \n",
              "  <style>\n",
              "    .colab-df-container {\n",
              "      display:flex;\n",
              "      flex-wrap:wrap;\n",
              "      gap: 12px;\n",
              "    }\n",
              "\n",
              "    .colab-df-convert {\n",
              "      background-color: #E8F0FE;\n",
              "      border: none;\n",
              "      border-radius: 50%;\n",
              "      cursor: pointer;\n",
              "      display: none;\n",
              "      fill: #1967D2;\n",
              "      height: 32px;\n",
              "      padding: 0 0 0 0;\n",
              "      width: 32px;\n",
              "    }\n",
              "\n",
              "    .colab-df-convert:hover {\n",
              "      background-color: #E2EBFA;\n",
              "      box-shadow: 0px 1px 2px rgba(60, 64, 67, 0.3), 0px 1px 3px 1px rgba(60, 64, 67, 0.15);\n",
              "      fill: #174EA6;\n",
              "    }\n",
              "\n",
              "    [theme=dark] .colab-df-convert {\n",
              "      background-color: #3B4455;\n",
              "      fill: #D2E3FC;\n",
              "    }\n",
              "\n",
              "    [theme=dark] .colab-df-convert:hover {\n",
              "      background-color: #434B5C;\n",
              "      box-shadow: 0px 1px 3px 1px rgba(0, 0, 0, 0.15);\n",
              "      filter: drop-shadow(0px 1px 2px rgba(0, 0, 0, 0.3));\n",
              "      fill: #FFFFFF;\n",
              "    }\n",
              "  </style>\n",
              "\n",
              "      <script>\n",
              "        const buttonEl =\n",
              "          document.querySelector('#df-d1f55f41-1b7e-4cbb-a02f-b11000781b68 button.colab-df-convert');\n",
              "        buttonEl.style.display =\n",
              "          google.colab.kernel.accessAllowed ? 'block' : 'none';\n",
              "\n",
              "        async function convertToInteractive(key) {\n",
              "          const element = document.querySelector('#df-d1f55f41-1b7e-4cbb-a02f-b11000781b68');\n",
              "          const dataTable =\n",
              "            await google.colab.kernel.invokeFunction('convertToInteractive',\n",
              "                                                     [key], {});\n",
              "          if (!dataTable) return;\n",
              "\n",
              "          const docLinkHtml = 'Like what you see? Visit the ' +\n",
              "            '<a target=\"_blank\" href=https://colab.research.google.com/notebooks/data_table.ipynb>data table notebook</a>'\n",
              "            + ' to learn more about interactive tables.';\n",
              "          element.innerHTML = '';\n",
              "          dataTable['output_type'] = 'display_data';\n",
              "          await google.colab.output.renderOutput(dataTable, element);\n",
              "          const docLink = document.createElement('div');\n",
              "          docLink.innerHTML = docLinkHtml;\n",
              "          element.appendChild(docLink);\n",
              "        }\n",
              "      </script>\n",
              "    </div>\n",
              "  </div>\n",
              "  "
            ]
          },
          "metadata": {},
          "execution_count": 35
        }
      ]
    },
    {
      "cell_type": "code",
      "source": [
        "newdf['cpd'].max()"
      ],
      "metadata": {
        "colab": {
          "base_uri": "https://localhost:8080/"
        },
        "id": "2LVwQcvwbBFp",
        "outputId": "897f69b4-a3ee-458d-a0e1-ab4b5d2a81ae"
      },
      "execution_count": null,
      "outputs": [
        {
          "output_type": "execute_result",
          "data": {
            "text/plain": [
              "13443.673008505273"
            ]
          },
          "metadata": {},
          "execution_count": 36
        }
      ]
    },
    {
      "cell_type": "markdown",
      "source": [
        "# **Question 3**"
      ],
      "metadata": {
        "id": "0g4prFnuEyG0"
      }
    },
    {
      "cell_type": "code",
      "source": [
        "sum=0\n",
        "for i in df.Index:\n",
        " if df.loc[i-1,'Defaulted?']==0:\n",
        "   sum+=(2.5*df.loc[i-1,'Bank Balance']*15)/100\n",
        "print(round(sum,4))"
      ],
      "metadata": {
        "colab": {
          "base_uri": "https://localhost:8080/"
        },
        "id": "fVb5fKNfc6nd",
        "outputId": "45dde2c4-4045-4f7a-b303-84a16acfe52f"
      },
      "execution_count": null,
      "outputs": [
        {
          "output_type": "stream",
          "name": "stdout",
          "text": [
            "34972758.9\n"
          ]
        }
      ]
    },
    {
      "cell_type": "code",
      "source": [
        "\n",
        "df[\"Grace Given?\"]=((df[\"Defaulted?\"]==1) & (df[\"Annual Salary\"]>100000) & (df[\"Bank Balance\"]>5000)).astype(int)"
      ],
      "metadata": {
        "id": "OKbzuY108U6T"
      },
      "execution_count": null,
      "outputs": []
    },
    {
      "cell_type": "markdown",
      "source": [
        "# **Question 4**"
      ],
      "metadata": {
        "id": "xAq0w-e_E1pa"
      }
    },
    {
      "cell_type": "code",
      "source": [
        "\n",
        "df[df[\"Grace Given?\"] == 0].plot(kind = \"scatter\", x = \"Index\", y = \"Bank Balance\", color = \"yellow\", ax=plt.gca())\n",
        "\n",
        "\n",
        "df[df[\"Grace Given?\"] == 1].plot(kind = \"scatter\", x = \"Index\", y = \"Bank Balance\", color = \"orange\", ax=plt.gca())\n",
        "\n",
        "plt.show()"
      ],
      "metadata": {
        "colab": {
          "base_uri": "https://localhost:8080/",
          "height": 279
        },
        "id": "fER6pXtm8Z6R",
        "outputId": "fc8133f4-dd7d-41ab-ed45-bd2cf4420154"
      },
      "execution_count": null,
      "outputs": [
        {
          "output_type": "display_data",
          "data": {
            "text/plain": [
              "<Figure size 432x288 with 1 Axes>"
            ],
            "image/png": "[encoded data removed]"
          },
          "metadata": {
            "needs_background": "light"
          }
        }
      ]
    },
    {
      "cell_type": "markdown",
      "source": [
        "# **Question 5**"
      ],
      "metadata": {
        "id": "GRTCPIRuE8IN"
      }
    },
    {
      "cell_type": "code",
      "source": [
        "Tmedian=df[\"Bank Balance\"].median()\n",
        "Gmedian=df[\"Bank Balance\"][(df[\"Annual Salary\"]>100000) & (df[\"Bank Balance\"]>5000)].median()\n",
        "difference=Gmedian-Tmedian\n",
        "print(round(difference,4))"
      ],
      "metadata": {
        "colab": {
          "base_uri": "https://localhost:8080/"
        },
        "id": "VumatTGH9KMc",
        "outputId": "80cb075b-03dd-4449-a512-038ff795416e"
      },
      "execution_count": null,
      "outputs": [
        {
          "output_type": "stream",
          "name": "stdout",
          "text": [
            "1614.42\n"
          ]
        }
      ]
    },
    {
      "cell_type": "markdown",
      "source": [
        "# **Question 6**"
      ],
      "metadata": {
        "id": "s-bbP_fTFI3x"
      }
    },
    {
      "cell_type": "code",
      "source": [
        "\n",
        "non_eligible_people=df.loc[df[\"Grace Given?\"]==0,\"Annual Salary\"]\n",
        "non_eligible_people.plot.hist(color=\"yellow\",alpha=0.9)\n",
        "\n",
        "\n",
        "eligible_people=df.loc[df[\"Grace Given?\"]==1,\"Annual Salary\"]\n",
        "eligible_people.plot.hist(color=\"orange\",alpha=0.9)\n",
        "\n",
        "plt.show()"
      ],
      "metadata": {
        "colab": {
          "base_uri": "https://localhost:8080/",
          "height": 266
        },
        "id": "QQqxpOvqBGOr",
        "outputId": "ecb25e4e-f2a9-420b-9160-f1659beb48cf"
      },
      "execution_count": null,
      "outputs": [
        {
          "output_type": "display_data",
          "data": {
            "text/plain": [
              "<Figure size 432x288 with 1 Axes>"
            ],
            "image/png": "[encoded data removed]"
          },
          "metadata": {
            "needs_background": "light"
          }
        }
      ]
    },
    {
      "cell_type": "code",
      "source": [
        ""
      ],
      "metadata": {
        "id": "sMCddZ-KBTtU"
      },
      "execution_count": null,
      "outputs": []
    }
  ]
}