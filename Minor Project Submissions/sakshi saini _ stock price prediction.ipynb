{
 "cells": [
  {
   "cell_type": "code",
   "execution_count": 1,
   "metadata": {},
   "outputs": [],
   "source": [
    "import numpy as np\n",
    "import matplotlib.pyplot as plt\n",
    "import pandas as pd"
   ]
  },
  {
   "cell_type": "code",
   "execution_count": 2,
   "metadata": {},
   "outputs": [],
   "source": [
    "dataset_train = pd.read_csv('Uniqlo(FastRetailing) 2012-2016 Training - stocks2012-2016.csv')\n",
    "training_set = dataset_train.iloc[:, 1:2].values"
   ]
  },
  {
   "cell_type": "code",
   "execution_count": 3,
   "metadata": {},
   "outputs": [
    {
     "data": {
      "text/html": [
       "<div>\n",
       "<style scoped>\n",
       "    .dataframe tbody tr th:only-of-type {\n",
       "        vertical-align: middle;\n",
       "    }\n",
       "\n",
       "    .dataframe tbody tr th {\n",
       "        vertical-align: top;\n",
       "    }\n",
       "\n",
       "    .dataframe thead th {\n",
       "        text-align: right;\n",
       "    }\n",
       "</style>\n",
       "<table border=\"1\" class=\"dataframe\">\n",
       "  <thead>\n",
       "    <tr style=\"text-align: right;\">\n",
       "      <th></th>\n",
       "      <th>Date</th>\n",
       "      <th>Open</th>\n",
       "      <th>High</th>\n",
       "      <th>Low</th>\n",
       "      <th>Close</th>\n",
       "      <th>Volume</th>\n",
       "      <th>Stock Trading</th>\n",
       "    </tr>\n",
       "  </thead>\n",
       "  <tbody>\n",
       "    <tr>\n",
       "      <th>0</th>\n",
       "      <td>2016-12-30</td>\n",
       "      <td>42120</td>\n",
       "      <td>42330</td>\n",
       "      <td>41700</td>\n",
       "      <td>41830</td>\n",
       "      <td>610000</td>\n",
       "      <td>25628028000</td>\n",
       "    </tr>\n",
       "    <tr>\n",
       "      <th>1</th>\n",
       "      <td>2016-12-29</td>\n",
       "      <td>43000</td>\n",
       "      <td>43220</td>\n",
       "      <td>42540</td>\n",
       "      <td>42660</td>\n",
       "      <td>448400</td>\n",
       "      <td>19188227000</td>\n",
       "    </tr>\n",
       "    <tr>\n",
       "      <th>2</th>\n",
       "      <td>2016-12-28</td>\n",
       "      <td>43940</td>\n",
       "      <td>43970</td>\n",
       "      <td>43270</td>\n",
       "      <td>43270</td>\n",
       "      <td>339900</td>\n",
       "      <td>14780670000</td>\n",
       "    </tr>\n",
       "    <tr>\n",
       "      <th>3</th>\n",
       "      <td>2016-12-27</td>\n",
       "      <td>43140</td>\n",
       "      <td>43700</td>\n",
       "      <td>43140</td>\n",
       "      <td>43620</td>\n",
       "      <td>400100</td>\n",
       "      <td>17427993000</td>\n",
       "    </tr>\n",
       "    <tr>\n",
       "      <th>4</th>\n",
       "      <td>2016-12-26</td>\n",
       "      <td>43310</td>\n",
       "      <td>43660</td>\n",
       "      <td>43090</td>\n",
       "      <td>43340</td>\n",
       "      <td>358200</td>\n",
       "      <td>15547803000</td>\n",
       "    </tr>\n",
       "  </tbody>\n",
       "</table>\n",
       "</div>"
      ],
      "text/plain": [
       "         Date   Open   High    Low  Close  Volume  Stock Trading\n",
       "0  2016-12-30  42120  42330  41700  41830  610000    25628028000\n",
       "1  2016-12-29  43000  43220  42540  42660  448400    19188227000\n",
       "2  2016-12-28  43940  43970  43270  43270  339900    14780670000\n",
       "3  2016-12-27  43140  43700  43140  43620  400100    17427993000\n",
       "4  2016-12-26  43310  43660  43090  43340  358200    15547803000"
      ]
     },
     "execution_count": 3,
     "metadata": {},
     "output_type": "execute_result"
    }
   ],
   "source": [
    "dataset_train.head()"
   ]
  },
  {
   "cell_type": "code",
   "execution_count": 6,
   "metadata": {},
   "outputs": [],
   "source": [
    "from sklearn.preprocessing import MinMaxScaler\n",
    "sc = MinMaxScaler(feature_range = (0, 1))\n",
    "training_set_scaled = sc.fit_transform(training_set)"
   ]
  },
  {
   "cell_type": "code",
   "execution_count": 7,
   "metadata": {},
   "outputs": [],
   "source": [
    "X_train = []\n",
    "y_train = []\n",
    "for i in range(60, 1226):\n",
    "    X_train.append(training_set_scaled[i-60:i, 0])\n",
    "    y_train.append(training_set_scaled[i, 0])\n",
    "X_train, y_train = np.array(X_train), np.array(y_train)"
   ]
  },
  {
   "cell_type": "code",
   "execution_count": 8,
   "metadata": {},
   "outputs": [],
   "source": [
    "X_train = np.reshape(X_train, (X_train.shape[0], X_train.shape[1], 1))"
   ]
  },
  {
   "cell_type": "code",
   "execution_count": 13,
   "metadata": {},
   "outputs": [],
   "source": [
    "from keras.models import Sequential\n",
    "from keras.layers import Dense\n",
    "from keras.layers import LSTM\n",
    "from keras.layers import Dropout"
   ]
  },
  {
   "cell_type": "code",
   "execution_count": 14,
   "metadata": {},
   "outputs": [],
   "source": [
    "regressor = Sequential()\n",
    "\n",
    "# Adding the first LSTM layer and some Dropout regularisation\n",
    "regressor.add(LSTM(units = 50, return_sequences = True, input_shape = (X_train.shape[1], 1)))\n",
    "regressor.add(Dropout(0.2))"
   ]
  },
  {
   "cell_type": "code",
   "execution_count": 15,
   "metadata": {},
   "outputs": [],
   "source": [
    "regressor.add(LSTM(units = 50, return_sequences = True))\n",
    "regressor.add(Dropout(0.2))"
   ]
  },
  {
   "cell_type": "code",
   "execution_count": 16,
   "metadata": {},
   "outputs": [],
   "source": [
    "regressor.add(LSTM(units = 50, return_sequences = True))\n",
    "regressor.add(Dropout(0.2))"
   ]
  },
  {
   "cell_type": "code",
   "execution_count": 17,
   "metadata": {},
   "outputs": [],
   "source": [
    "regressor.add(LSTM(units = 50))\n",
    "regressor.add(Dropout(0.2))"
   ]
  },
  {
   "cell_type": "code",
   "execution_count": 18,
   "metadata": {},
   "outputs": [
    {
     "name": "stdout",
     "output_type": "stream",
     "text": [
      "Epoch 1/100\n",
      "37/37 [==============================] - 6s 42ms/step - loss: 0.0292\n",
      "Epoch 2/100\n",
      "37/37 [==============================] - 2s 43ms/step - loss: 0.0063\n",
      "Epoch 3/100\n",
      "37/37 [==============================] - 2s 61ms/step - loss: 0.0061\n",
      "Epoch 4/100\n",
      "37/37 [==============================] - 3s 78ms/step - loss: 0.0053\n",
      "Epoch 5/100\n",
      "37/37 [==============================] - 3s 74ms/step - loss: 0.0049\n",
      "Epoch 6/100\n",
      "37/37 [==============================] - 3s 74ms/step - loss: 0.0044\n",
      "Epoch 7/100\n",
      "37/37 [==============================] - 3s 70ms/step - loss: 0.0054\n",
      "Epoch 8/100\n",
      "37/37 [==============================] - 3s 70ms/step - loss: 0.0044\n",
      "Epoch 9/100\n",
      "37/37 [==============================] - 3s 75ms/step - loss: 0.0049\n",
      "Epoch 10/100\n",
      "37/37 [==============================] - 3s 71ms/step - loss: 0.0043\n",
      "Epoch 11/100\n",
      "37/37 [==============================] - 3s 70ms/step - loss: 0.0043\n",
      "Epoch 12/100\n",
      "37/37 [==============================] - 3s 70ms/step - loss: 0.0043\n",
      "Epoch 13/100\n",
      "37/37 [==============================] - 3s 72ms/step - loss: 0.0037\n",
      "Epoch 14/100\n",
      "37/37 [==============================] - 3s 72ms/step - loss: 0.0041\n",
      "Epoch 15/100\n",
      "37/37 [==============================] - 3s 71ms/step - loss: 0.0036\n",
      "Epoch 16/100\n",
      "37/37 [==============================] - 3s 73ms/step - loss: 0.0038\n",
      "Epoch 17/100\n",
      "37/37 [==============================] - 3s 75ms/step - loss: 0.0035\n",
      "Epoch 18/100\n",
      "37/37 [==============================] - 3s 79ms/step - loss: 0.0035\n",
      "Epoch 19/100\n",
      "37/37 [==============================] - 2s 67ms/step - loss: 0.0035\n",
      "Epoch 20/100\n",
      "37/37 [==============================] - 3s 83ms/step - loss: 0.0029\n",
      "Epoch 21/100\n",
      "37/37 [==============================] - 3s 92ms/step - loss: 0.0035\n",
      "Epoch 22/100\n",
      "37/37 [==============================] - 3s 92ms/step - loss: 0.0028\n",
      "Epoch 23/100\n",
      "37/37 [==============================] - 4s 100ms/step - loss: 0.0031\n",
      "Epoch 24/100\n",
      "37/37 [==============================] - 4s 99ms/step - loss: 0.0030\n",
      "Epoch 25/100\n",
      "37/37 [==============================] - 4s 99ms/step - loss: 0.0029\n",
      "Epoch 26/100\n",
      "37/37 [==============================] - 3s 84ms/step - loss: 0.0026\n",
      "Epoch 27/100\n",
      "37/37 [==============================] - 3s 71ms/step - loss: 0.0028\n",
      "Epoch 28/100\n",
      "37/37 [==============================] - 3s 71ms/step - loss: 0.0026\n",
      "Epoch 29/100\n",
      "37/37 [==============================] - 3s 70ms/step - loss: 0.0027\n",
      "Epoch 30/100\n",
      "37/37 [==============================] - 3s 72ms/step - loss: 0.0025\n",
      "Epoch 31/100\n",
      "37/37 [==============================] - 3s 70ms/step - loss: 0.0026\n",
      "Epoch 32/100\n",
      "37/37 [==============================] - 3s 70ms/step - loss: 0.0022\n",
      "Epoch 33/100\n",
      "37/37 [==============================] - 3s 71ms/step - loss: 0.0025\n",
      "Epoch 34/100\n",
      "37/37 [==============================] - 3s 70ms/step - loss: 0.0022\n",
      "Epoch 35/100\n",
      "37/37 [==============================] - 3s 70ms/step - loss: 0.0026\n",
      "Epoch 36/100\n",
      "37/37 [==============================] - 3s 70ms/step - loss: 0.0024\n",
      "Epoch 37/100\n",
      "37/37 [==============================] - 3s 70ms/step - loss: 0.0021\n",
      "Epoch 38/100\n",
      "37/37 [==============================] - 3s 72ms/step - loss: 0.0022\n",
      "Epoch 39/100\n",
      "37/37 [==============================] - 3s 76ms/step - loss: 0.0021\n",
      "Epoch 40/100\n",
      "37/37 [==============================] - 3s 78ms/step - loss: 0.0021\n",
      "Epoch 41/100\n",
      "37/37 [==============================] - 3s 74ms/step - loss: 0.0021\n",
      "Epoch 42/100\n",
      "37/37 [==============================] - 3s 79ms/step - loss: 0.0023\n",
      "Epoch 43/100\n",
      "37/37 [==============================] - 3s 74ms/step - loss: 0.0020\n",
      "Epoch 44/100\n",
      "37/37 [==============================] - 2s 64ms/step - loss: 0.0021\n",
      "Epoch 45/100\n",
      "37/37 [==============================] - 2s 64ms/step - loss: 0.0023\n",
      "Epoch 46/100\n",
      "37/37 [==============================] - 2s 64ms/step - loss: 0.0020\n",
      "Epoch 47/100\n",
      "37/37 [==============================] - 2s 65ms/step - loss: 0.0018\n",
      "Epoch 48/100\n",
      "37/37 [==============================] - 2s 66ms/step - loss: 0.0018\n",
      "Epoch 49/100\n",
      "37/37 [==============================] - 2s 65ms/step - loss: 0.0018\n",
      "Epoch 50/100\n",
      "37/37 [==============================] - 2s 66ms/step - loss: 0.0019\n",
      "Epoch 51/100\n",
      "37/37 [==============================] - 3s 75ms/step - loss: 0.0019\n",
      "Epoch 52/100\n",
      "37/37 [==============================] - 3s 71ms/step - loss: 0.0018\n",
      "Epoch 53/100\n",
      "37/37 [==============================] - 3s 77ms/step - loss: 0.0017\n",
      "Epoch 54/100\n",
      "37/37 [==============================] - 3s 75ms/step - loss: 0.0018\n",
      "Epoch 55/100\n",
      "37/37 [==============================] - 3s 68ms/step - loss: 0.0020\n",
      "Epoch 56/100\n",
      "37/37 [==============================] - 3s 87ms/step - loss: 0.0018\n",
      "Epoch 57/100\n",
      "37/37 [==============================] - 3s 91ms/step - loss: 0.0016\n",
      "Epoch 58/100\n",
      "37/37 [==============================] - 3s 94ms/step - loss: 0.0017\n",
      "Epoch 59/100\n",
      "37/37 [==============================] - 4s 97ms/step - loss: 0.0015\n",
      "Epoch 60/100\n",
      "37/37 [==============================] - 3s 72ms/step - loss: 0.0018\n",
      "Epoch 61/100\n",
      "37/37 [==============================] - 3s 71ms/step - loss: 0.0016\n",
      "Epoch 62/100\n",
      "37/37 [==============================] - 3s 71ms/step - loss: 0.0017\n",
      "Epoch 63/100\n",
      "37/37 [==============================] - 3s 70ms/step - loss: 0.0016\n",
      "Epoch 64/100\n",
      "37/37 [==============================] - 3s 72ms/step - loss: 0.0015\n",
      "Epoch 65/100\n",
      "37/37 [==============================] - 3s 70ms/step - loss: 0.0016\n",
      "Epoch 66/100\n",
      "37/37 [==============================] - 3s 70ms/step - loss: 0.0016\n",
      "Epoch 67/100\n",
      "37/37 [==============================] - 3s 70ms/step - loss: 0.0015\n",
      "Epoch 68/100\n",
      "37/37 [==============================] - 3s 70ms/step - loss: 0.0015\n",
      "Epoch 69/100\n",
      "37/37 [==============================] - 3s 70ms/step - loss: 0.0015\n",
      "Epoch 70/100\n",
      "37/37 [==============================] - 3s 70ms/step - loss: 0.0014\n",
      "Epoch 71/100\n",
      "37/37 [==============================] - 3s 70ms/step - loss: 0.0014\n",
      "Epoch 72/100\n",
      "37/37 [==============================] - 3s 70ms/step - loss: 0.0014\n",
      "Epoch 73/100\n",
      "37/37 [==============================] - 3s 70ms/step - loss: 0.0014\n",
      "Epoch 74/100\n",
      "37/37 [==============================] - 3s 70ms/step - loss: 0.0015\n",
      "Epoch 75/100\n",
      "37/37 [==============================] - 3s 71ms/step - loss: 0.0014\n",
      "Epoch 76/100\n",
      "37/37 [==============================] - 3s 70ms/step - loss: 0.0013\n",
      "Epoch 77/100\n",
      "37/37 [==============================] - 3s 70ms/step - loss: 0.0014\n",
      "Epoch 78/100\n",
      "37/37 [==============================] - 3s 70ms/step - loss: 0.0012\n",
      "Epoch 79/100\n",
      "37/37 [==============================] - 3s 71ms/step - loss: 0.0013\n",
      "Epoch 80/100\n",
      "37/37 [==============================] - 3s 70ms/step - loss: 0.0013\n",
      "Epoch 81/100\n",
      "37/37 [==============================] - 3s 70ms/step - loss: 0.0014\n",
      "Epoch 82/100\n",
      "37/37 [==============================] - 3s 70ms/step - loss: 0.0013\n",
      "Epoch 83/100\n",
      "37/37 [==============================] - 3s 70ms/step - loss: 0.0013\n",
      "Epoch 84/100\n",
      "37/37 [==============================] - 3s 70ms/step - loss: 0.0012\n",
      "Epoch 85/100\n",
      "37/37 [==============================] - 3s 70ms/step - loss: 0.0012\n",
      "Epoch 86/100\n",
      "37/37 [==============================] - 3s 70ms/step - loss: 0.0014\n",
      "Epoch 87/100\n",
      "37/37 [==============================] - 3s 83ms/step - loss: 0.0013\n",
      "Epoch 88/100\n",
      "37/37 [==============================] - 3s 80ms/step - loss: 0.0012\n",
      "Epoch 89/100\n",
      "37/37 [==============================] - 3s 73ms/step - loss: 0.0010\n",
      "Epoch 90/100\n",
      "37/37 [==============================] - 3s 70ms/step - loss: 0.0011\n",
      "Epoch 91/100\n",
      "37/37 [==============================] - 3s 70ms/step - loss: 0.0012\n",
      "Epoch 92/100\n",
      "37/37 [==============================] - 3s 70ms/step - loss: 0.0011\n",
      "Epoch 93/100\n",
      "37/37 [==============================] - 3s 70ms/step - loss: 0.0013\n",
      "Epoch 94/100\n",
      "37/37 [==============================] - 3s 70ms/step - loss: 0.0012\n",
      "Epoch 95/100\n",
      "37/37 [==============================] - 3s 71ms/step - loss: 0.0011\n",
      "Epoch 96/100\n",
      "37/37 [==============================] - 3s 71ms/step - loss: 0.0012\n",
      "Epoch 97/100\n",
      "37/37 [==============================] - 3s 78ms/step - loss: 0.0012\n",
      "Epoch 98/100\n",
      "37/37 [==============================] - 3s 71ms/step - loss: 0.0012\n",
      "Epoch 99/100\n",
      "37/37 [==============================] - 3s 82ms/step - loss: 0.0013\n",
      "Epoch 100/100\n",
      "37/37 [==============================] - 3s 76ms/step - loss: 0.0010\n"
     ]
    },
    {
     "data": {
      "text/plain": [
       "<keras.callbacks.History at 0x17ec6ece3e0>"
      ]
     },
     "execution_count": 18,
     "metadata": {},
     "output_type": "execute_result"
    }
   ],
   "source": [
    "regressor.add(Dense(units = 1))\n",
    "\n",
    "# Compiling the RNN\n",
    "regressor.compile(optimizer = 'adam', loss = 'mean_squared_error')\n",
    "\n",
    "# Fitting the RNN to the Training set\n",
    "regressor.fit(X_train, y_train, epochs = 100, batch_size = 32)"
   ]
  },
  {
   "cell_type": "code",
   "execution_count": 20,
   "metadata": {},
   "outputs": [],
   "source": [
    "dataset_test = pd.read_csv('tatatest.csv')\n",
    "real_stock_price = dataset_test.iloc[:, 1:2].values"
   ]
  },
  {
   "cell_type": "code",
   "execution_count": 21,
   "metadata": {},
   "outputs": [
    {
     "name": "stdout",
     "output_type": "stream",
     "text": [
      "1/1 [==============================] - 1s 1s/step\n"
     ]
    }
   ],
   "source": [
    "dataset_total = pd.concat((dataset_train['Open'], dataset_test['Open']), axis = 0)\n",
    "inputs = dataset_total[len(dataset_total) - len(dataset_test) - 60:].values\n",
    "inputs = inputs.reshape(-1,1)\n",
    "inputs = sc.transform(inputs)\n",
    "X_test = []\n",
    "for i in range(60, 76):\n",
    "    X_test.append(inputs[i-60:i, 0])\n",
    "X_test = np.array(X_test)\n",
    "X_test = np.reshape(X_test, (X_test.shape[0], X_test.shape[1], 1))\n",
    "predicted_stock_price = regressor.predict(X_test)\n",
    "predicted_stock_price = sc.inverse_transform(predicted_stock_price)"
   ]
  },
  {
   "cell_type": "code",
   "execution_count": 22,
   "metadata": {},
   "outputs": [
    {
     "data": {
      "image/png": "[encoded data removed]",
      "text/plain": [
       "<Figure size 432x288 with 1 Axes>"
      ]
     },
     "metadata": {
      "needs_background": "light"
     },
     "output_type": "display_data"
    }
   ],
   "source": [
    "# Visualising the results\n",
    "plt.plot(real_stock_price, color = 'red', label = 'Real Uniqlo(FastRetailing)')\n",
    "plt.plot(predicted_stock_price, color = 'blue', label = 'Predicted Uniqlo(FastRetailing)')\n",
    "plt.title('Uniqlo(FastRetailing) 2012-2016 Training - stocks2012-2016')\n",
    "plt.xlabel('Time')\n",
    "plt.ylabel('Uniqlo(FastRetailing)')\n",
    "plt.legend()\n",
    "plt.show()"
   ]
  }
 ],
 "metadata": {
  "kernelspec": {
   "display_name": "Python 3.10.5 64-bit",
   "language": "python",
   "name": "python3"
  },
  "language_info": {
   "codemirror_mode": {
    "name": "ipython",
    "version": 3
   },
   "file_extension": ".py",
   "mimetype": "text/x-python",
   "name": "python",
   "nbconvert_exporter": "python",
   "pygments_lexer": "ipython3",
   "version": "3.10.5"
  },
  "orig_nbformat": 4,
  "vscode": {
   "interpreter": {
    "hash": "88e86f65c34cd0b800fef137318f3d3c8e1d0106e4d40c02a83e043d19cd34b7"
   }
  }
 },
 "nbformat": 4,
 "nbformat_minor": 2
}
