{
 "cells": [
  {
   "cell_type": "code",
   "execution_count": 1,
   "metadata": {},
   "outputs": [
    {
     "name": "stdout",
     "output_type": "stream",
     "text": [
      "Requirement already satisfied: pandas-datareader in c:\\users\\gyanvi\\anaconda3\\lib\\site-packages (0.10.0)\n",
      "Requirement already satisfied: lxml in c:\\users\\gyanvi\\anaconda3\\lib\\site-packages (from pandas-datareader) (4.8.0)\n",
      "Requirement already satisfied: requests>=2.19.0 in c:\\users\\gyanvi\\anaconda3\\lib\\site-packages (from pandas-datareader) (2.27.1)\n",
      "Requirement already satisfied: pandas>=0.23 in c:\\users\\gyanvi\\anaconda3\\lib\\site-packages (from pandas-datareader) (1.4.2)\n",
      "Requirement already satisfied: pytz>=2020.1 in c:\\users\\gyanvi\\anaconda3\\lib\\site-packages (from pandas>=0.23->pandas-datareader) (2021.3)\n",
      "Requirement already satisfied: numpy>=1.18.5 in c:\\users\\gyanvi\\anaconda3\\lib\\site-packages (from pandas>=0.23->pandas-datareader) (1.21.5)\n",
      "Requirement already satisfied: python-dateutil>=2.8.1 in c:\\users\\gyanvi\\anaconda3\\lib\\site-packages (from pandas>=0.23->pandas-datareader) (2.8.2)\n",
      "Requirement already satisfied: six>=1.5 in c:\\users\\gyanvi\\anaconda3\\lib\\site-packages (from python-dateutil>=2.8.1->pandas>=0.23->pandas-datareader) (1.16.0)\n",
      "Requirement already satisfied: urllib3<1.27,>=1.21.1 in c:\\users\\gyanvi\\anaconda3\\lib\\site-packages (from requests>=2.19.0->pandas-datareader) (1.26.9)\n",
      "Requirement already satisfied: idna<4,>=2.5 in c:\\users\\gyanvi\\anaconda3\\lib\\site-packages (from requests>=2.19.0->pandas-datareader) (3.3)\n",
      "Requirement already satisfied: certifi>=2017.4.17 in c:\\users\\gyanvi\\anaconda3\\lib\\site-packages (from requests>=2.19.0->pandas-datareader) (2021.10.8)\n",
      "Requirement already satisfied: charset-normalizer~=2.0.0 in c:\\users\\gyanvi\\anaconda3\\lib\\site-packages (from requests>=2.19.0->pandas-datareader) (2.0.4)\n",
      "Note: you may need to restart the kernel to use updated packages.\n"
     ]
    }
   ],
   "source": [
    "#instal pandas data reader \n",
    "%pip install pandas-datareader"
   ]
  },
  {
   "cell_type": "code",
   "execution_count": 2,
   "metadata": {},
   "outputs": [],
   "source": [
    "import pandas_datareader as pdr \n",
    "import pandas as pd \n",
    "from datetime import datetime "
   ]
  },
  {
   "cell_type": "code",
   "execution_count": 6,
   "metadata": {},
   "outputs": [],
   "source": [
    "#to save data we use df_name of the company \n",
    "df_frcoy=pdr.get_data_yahoo('FRCOY')\n"
   ]
  },
  {
   "cell_type": "code",
   "execution_count": 9,
   "metadata": {},
   "outputs": [
    {
     "data": {
      "text/html": [
       "<div>\n",
       "<style scoped>\n",
       "    .dataframe tbody tr th:only-of-type {\n",
       "        vertical-align: middle;\n",
       "    }\n",
       "\n",
       "    .dataframe tbody tr th {\n",
       "        vertical-align: top;\n",
       "    }\n",
       "\n",
       "    .dataframe thead th {\n",
       "        text-align: right;\n",
       "    }\n",
       "</style>\n",
       "<table border=\"1\" class=\"dataframe\">\n",
       "  <thead>\n",
       "    <tr style=\"text-align: right;\">\n",
       "      <th></th>\n",
       "      <th>High</th>\n",
       "      <th>Low</th>\n",
       "      <th>Open</th>\n",
       "      <th>Close</th>\n",
       "      <th>Volume</th>\n",
       "      <th>Adj Close</th>\n",
       "    </tr>\n",
       "    <tr>\n",
       "      <th>Date</th>\n",
       "      <th></th>\n",
       "      <th></th>\n",
       "      <th></th>\n",
       "      <th></th>\n",
       "      <th></th>\n",
       "      <th></th>\n",
       "    </tr>\n",
       "  </thead>\n",
       "  <tbody>\n",
       "    <tr>\n",
       "      <th>2022-06-13</th>\n",
       "      <td>49.580002</td>\n",
       "      <td>48.790001</td>\n",
       "      <td>49.509998</td>\n",
       "      <td>48.919998</td>\n",
       "      <td>30900</td>\n",
       "      <td>48.919998</td>\n",
       "    </tr>\n",
       "    <tr>\n",
       "      <th>2022-06-14</th>\n",
       "      <td>49.560001</td>\n",
       "      <td>48.770000</td>\n",
       "      <td>49.560001</td>\n",
       "      <td>49.160000</td>\n",
       "      <td>36000</td>\n",
       "      <td>49.160000</td>\n",
       "    </tr>\n",
       "    <tr>\n",
       "      <th>2022-06-15</th>\n",
       "      <td>51.400002</td>\n",
       "      <td>50.259998</td>\n",
       "      <td>50.259998</td>\n",
       "      <td>51.130001</td>\n",
       "      <td>74100</td>\n",
       "      <td>51.130001</td>\n",
       "    </tr>\n",
       "    <tr>\n",
       "      <th>2022-06-16</th>\n",
       "      <td>51.000000</td>\n",
       "      <td>50.000000</td>\n",
       "      <td>51.000000</td>\n",
       "      <td>50.130001</td>\n",
       "      <td>70400</td>\n",
       "      <td>50.130001</td>\n",
       "    </tr>\n",
       "    <tr>\n",
       "      <th>2022-06-17</th>\n",
       "      <td>51.049999</td>\n",
       "      <td>50.270000</td>\n",
       "      <td>50.860001</td>\n",
       "      <td>50.650002</td>\n",
       "      <td>34200</td>\n",
       "      <td>50.650002</td>\n",
       "    </tr>\n",
       "  </tbody>\n",
       "</table>\n",
       "</div>"
      ],
      "text/plain": [
       "                 High        Low       Open      Close  Volume  Adj Close\n",
       "Date                                                                     \n",
       "2022-06-13  49.580002  48.790001  49.509998  48.919998   30900  48.919998\n",
       "2022-06-14  49.560001  48.770000  49.560001  49.160000   36000  49.160000\n",
       "2022-06-15  51.400002  50.259998  50.259998  51.130001   74100  51.130001\n",
       "2022-06-16  51.000000  50.000000  51.000000  50.130001   70400  50.130001\n",
       "2022-06-17  51.049999  50.270000  50.860001  50.650002   34200  50.650002"
      ]
     },
     "execution_count": 9,
     "metadata": {},
     "output_type": "execute_result"
    }
   ],
   "source": [
    "#shows the previous data \n",
    "df_frcoy.tail()"
   ]
  },
  {
   "cell_type": "code",
   "execution_count": 10,
   "metadata": {},
   "outputs": [
    {
     "data": {
      "text/html": [
       "<div>\n",
       "<style scoped>\n",
       "    .dataframe tbody tr th:only-of-type {\n",
       "        vertical-align: middle;\n",
       "    }\n",
       "\n",
       "    .dataframe tbody tr th {\n",
       "        vertical-align: top;\n",
       "    }\n",
       "\n",
       "    .dataframe thead th {\n",
       "        text-align: right;\n",
       "    }\n",
       "</style>\n",
       "<table border=\"1\" class=\"dataframe\">\n",
       "  <thead>\n",
       "    <tr style=\"text-align: right;\">\n",
       "      <th></th>\n",
       "      <th>High</th>\n",
       "      <th>Low</th>\n",
       "      <th>Open</th>\n",
       "      <th>Close</th>\n",
       "      <th>Volume</th>\n",
       "      <th>Adj Close</th>\n",
       "    </tr>\n",
       "    <tr>\n",
       "      <th>Date</th>\n",
       "      <th></th>\n",
       "      <th></th>\n",
       "      <th></th>\n",
       "      <th></th>\n",
       "      <th></th>\n",
       "      <th></th>\n",
       "    </tr>\n",
       "  </thead>\n",
       "  <tbody>\n",
       "    <tr>\n",
       "      <th>2017-06-20</th>\n",
       "      <td>33.439999</td>\n",
       "      <td>33.080002</td>\n",
       "      <td>33.139999</td>\n",
       "      <td>33.230000</td>\n",
       "      <td>4700</td>\n",
       "      <td>33.230000</td>\n",
       "    </tr>\n",
       "    <tr>\n",
       "      <th>2017-06-21</th>\n",
       "      <td>33.150002</td>\n",
       "      <td>33.049999</td>\n",
       "      <td>33.110001</td>\n",
       "      <td>33.150002</td>\n",
       "      <td>11000</td>\n",
       "      <td>33.150002</td>\n",
       "    </tr>\n",
       "    <tr>\n",
       "      <th>2017-06-22</th>\n",
       "      <td>33.240002</td>\n",
       "      <td>33.009998</td>\n",
       "      <td>33.189999</td>\n",
       "      <td>33.110001</td>\n",
       "      <td>3800</td>\n",
       "      <td>33.110001</td>\n",
       "    </tr>\n",
       "    <tr>\n",
       "      <th>2017-06-23</th>\n",
       "      <td>33.150002</td>\n",
       "      <td>33.049999</td>\n",
       "      <td>33.150002</td>\n",
       "      <td>33.099998</td>\n",
       "      <td>1400</td>\n",
       "      <td>33.099998</td>\n",
       "    </tr>\n",
       "    <tr>\n",
       "      <th>2017-06-26</th>\n",
       "      <td>33.349998</td>\n",
       "      <td>33.180000</td>\n",
       "      <td>33.349998</td>\n",
       "      <td>33.180000</td>\n",
       "      <td>4400</td>\n",
       "      <td>33.180000</td>\n",
       "    </tr>\n",
       "  </tbody>\n",
       "</table>\n",
       "</div>"
      ],
      "text/plain": [
       "                 High        Low       Open      Close  Volume  Adj Close\n",
       "Date                                                                     \n",
       "2017-06-20  33.439999  33.080002  33.139999  33.230000    4700  33.230000\n",
       "2017-06-21  33.150002  33.049999  33.110001  33.150002   11000  33.150002\n",
       "2017-06-22  33.240002  33.009998  33.189999  33.110001    3800  33.110001\n",
       "2017-06-23  33.150002  33.049999  33.150002  33.099998    1400  33.099998\n",
       "2017-06-26  33.349998  33.180000  33.349998  33.180000    4400  33.180000"
      ]
     },
     "execution_count": 10,
     "metadata": {},
     "output_type": "execute_result"
    }
   ],
   "source": [
    "#shows the remaining data after tail\n",
    "df_frcoy.head()"
   ]
  },
  {
   "cell_type": "code",
   "execution_count": 11,
   "metadata": {},
   "outputs": [
    {
     "data": {
      "text/plain": [
       "<AxesSubplot:xlabel='Date'>"
      ]
     },
     "execution_count": 11,
     "metadata": {},
     "output_type": "execute_result"
    },
    {
     "data": {
      "image/png": "[encoded data removed]",
      "text/plain": [
       "<Figure size 432x288 with 1 Axes>"
      ]
     },
     "metadata": {
      "needs_background": "light"
     },
     "output_type": "display_data"
    }
   ],
   "source": [
    "#In this the peak are showing the respective volume but we are not going to see the plot in this way\n",
    "\n",
    "df_frcoy.plot()"
   ]
  },
  {
   "cell_type": "code",
   "execution_count": 12,
   "metadata": {},
   "outputs": [
    {
     "data": {
      "text/plain": [
       "<AxesSubplot:xlabel='Date'>"
      ]
     },
     "execution_count": 12,
     "metadata": {},
     "output_type": "execute_result"
    },
    {
     "data": {
      "image/png": "[encoded data removed]",
      "text/plain": [
       "<Figure size 864x288 with 1 Axes>"
      ]
     },
     "metadata": {
      "needs_background": "light"
     },
     "output_type": "display_data"
    }
   ],
   "source": [
    "#firstly we see the plot for low values \n",
    "#figsize tells the figure \n",
    "df_frcoy['Low'].plot(figsize=(12,4))"
   ]
  },
  {
   "cell_type": "code",
   "execution_count": 13,
   "metadata": {},
   "outputs": [
    {
     "data": {
      "text/plain": [
       "<AxesSubplot:xlabel='Date'>"
      ]
     },
     "execution_count": 13,
     "metadata": {},
     "output_type": "execute_result"
    },
    {
     "data": {
      "image/png": "[encoded data removed]",
      "text/plain": [
       "<Figure size 864x288 with 1 Axes>"
      ]
     },
     "metadata": {
      "needs_background": "light"
     },
     "output_type": "display_data"
    }
   ],
   "source": [
    "##providing x limit(so that we can see the graph clearly ) and y limit(so that we put some limitations for it) \n",
    "df_frcoy['Low'].plot(xlim=['2020-01-1' ,  '2021-09-01'] , figsize=(12,4))"
   ]
  },
  {
   "cell_type": "code",
   "execution_count": 14,
   "metadata": {},
   "outputs": [
    {
     "data": {
      "text/plain": [
       "DatetimeIndex(['2017-06-20', '2017-06-21', '2017-06-22', '2017-06-23',\n",
       "               '2017-06-26', '2017-06-27', '2017-06-28', '2017-06-29',\n",
       "               '2017-06-30', '2017-07-03',\n",
       "               ...\n",
       "               '2022-06-06', '2022-06-07', '2022-06-08', '2022-06-09',\n",
       "               '2022-06-10', '2022-06-13', '2022-06-14', '2022-06-15',\n",
       "               '2022-06-16', '2022-06-17'],\n",
       "              dtype='datetime64[ns]', name='Date', length=1259, freq=None)"
      ]
     },
     "execution_count": 14,
     "metadata": {},
     "output_type": "execute_result"
    }
   ],
   "source": [
    "#this helps to show the data wrt date \n",
    "df_frcoy.index"
   ]
  },
  {
   "cell_type": "code",
   "execution_count": 15,
   "metadata": {},
   "outputs": [
    {
     "data": {
      "text/html": [
       "<div>\n",
       "<style scoped>\n",
       "    .dataframe tbody tr th:only-of-type {\n",
       "        vertical-align: middle;\n",
       "    }\n",
       "\n",
       "    .dataframe tbody tr th {\n",
       "        vertical-align: top;\n",
       "    }\n",
       "\n",
       "    .dataframe thead th {\n",
       "        text-align: right;\n",
       "    }\n",
       "</style>\n",
       "<table border=\"1\" class=\"dataframe\">\n",
       "  <thead>\n",
       "    <tr style=\"text-align: right;\">\n",
       "      <th></th>\n",
       "      <th>High</th>\n",
       "      <th>Low</th>\n",
       "      <th>Open</th>\n",
       "      <th>Close</th>\n",
       "      <th>Volume</th>\n",
       "      <th>Adj Close</th>\n",
       "    </tr>\n",
       "    <tr>\n",
       "      <th>Date</th>\n",
       "      <th></th>\n",
       "      <th></th>\n",
       "      <th></th>\n",
       "      <th></th>\n",
       "      <th></th>\n",
       "      <th></th>\n",
       "    </tr>\n",
       "  </thead>\n",
       "  <tbody>\n",
       "    <tr>\n",
       "      <th>2020-01-02</th>\n",
       "      <td>60.490002</td>\n",
       "      <td>58.610001</td>\n",
       "      <td>58.610001</td>\n",
       "      <td>59.950001</td>\n",
       "      <td>5300</td>\n",
       "      <td>59.950001</td>\n",
       "    </tr>\n",
       "    <tr>\n",
       "      <th>2020-01-03</th>\n",
       "      <td>59.750000</td>\n",
       "      <td>59.200001</td>\n",
       "      <td>59.200001</td>\n",
       "      <td>59.750000</td>\n",
       "      <td>1500</td>\n",
       "      <td>59.750000</td>\n",
       "    </tr>\n",
       "    <tr>\n",
       "      <th>2020-01-06</th>\n",
       "      <td>59.110001</td>\n",
       "      <td>57.340000</td>\n",
       "      <td>57.340000</td>\n",
       "      <td>58.490002</td>\n",
       "      <td>14100</td>\n",
       "      <td>58.490002</td>\n",
       "    </tr>\n",
       "    <tr>\n",
       "      <th>2020-01-07</th>\n",
       "      <td>58.169998</td>\n",
       "      <td>57.439999</td>\n",
       "      <td>57.700001</td>\n",
       "      <td>57.970001</td>\n",
       "      <td>14800</td>\n",
       "      <td>57.970001</td>\n",
       "    </tr>\n",
       "    <tr>\n",
       "      <th>2020-01-08</th>\n",
       "      <td>57.930000</td>\n",
       "      <td>57.349998</td>\n",
       "      <td>57.770000</td>\n",
       "      <td>57.930000</td>\n",
       "      <td>9400</td>\n",
       "      <td>57.930000</td>\n",
       "    </tr>\n",
       "    <tr>\n",
       "      <th>...</th>\n",
       "      <td>...</td>\n",
       "      <td>...</td>\n",
       "      <td>...</td>\n",
       "      <td>...</td>\n",
       "      <td>...</td>\n",
       "      <td>...</td>\n",
       "    </tr>\n",
       "    <tr>\n",
       "      <th>2021-08-26</th>\n",
       "      <td>66.470001</td>\n",
       "      <td>66.220001</td>\n",
       "      <td>66.470001</td>\n",
       "      <td>66.250000</td>\n",
       "      <td>21300</td>\n",
       "      <td>66.250000</td>\n",
       "    </tr>\n",
       "    <tr>\n",
       "      <th>2021-08-27</th>\n",
       "      <td>66.440002</td>\n",
       "      <td>65.169998</td>\n",
       "      <td>66.389999</td>\n",
       "      <td>66.440002</td>\n",
       "      <td>13200</td>\n",
       "      <td>66.440002</td>\n",
       "    </tr>\n",
       "    <tr>\n",
       "      <th>2021-08-30</th>\n",
       "      <td>64.440002</td>\n",
       "      <td>64.250000</td>\n",
       "      <td>64.440002</td>\n",
       "      <td>64.349998</td>\n",
       "      <td>14600</td>\n",
       "      <td>64.349998</td>\n",
       "    </tr>\n",
       "    <tr>\n",
       "      <th>2021-08-31</th>\n",
       "      <td>65.989998</td>\n",
       "      <td>64.900002</td>\n",
       "      <td>64.900002</td>\n",
       "      <td>65.709999</td>\n",
       "      <td>26600</td>\n",
       "      <td>65.709999</td>\n",
       "    </tr>\n",
       "    <tr>\n",
       "      <th>2021-09-01</th>\n",
       "      <td>68.599998</td>\n",
       "      <td>66.860001</td>\n",
       "      <td>68.599998</td>\n",
       "      <td>66.959999</td>\n",
       "      <td>24400</td>\n",
       "      <td>66.959999</td>\n",
       "    </tr>\n",
       "  </tbody>\n",
       "</table>\n",
       "<p>421 rows × 6 columns</p>\n",
       "</div>"
      ],
      "text/plain": [
       "                 High        Low       Open      Close  Volume  Adj Close\n",
       "Date                                                                     \n",
       "2020-01-02  60.490002  58.610001  58.610001  59.950001    5300  59.950001\n",
       "2020-01-03  59.750000  59.200001  59.200001  59.750000    1500  59.750000\n",
       "2020-01-06  59.110001  57.340000  57.340000  58.490002   14100  58.490002\n",
       "2020-01-07  58.169998  57.439999  57.700001  57.970001   14800  57.970001\n",
       "2020-01-08  57.930000  57.349998  57.770000  57.930000    9400  57.930000\n",
       "...               ...        ...        ...        ...     ...        ...\n",
       "2021-08-26  66.470001  66.220001  66.470001  66.250000   21300  66.250000\n",
       "2021-08-27  66.440002  65.169998  66.389999  66.440002   13200  66.440002\n",
       "2021-08-30  64.440002  64.250000  64.440002  64.349998   14600  64.349998\n",
       "2021-08-31  65.989998  64.900002  64.900002  65.709999   26600  65.709999\n",
       "2021-09-01  68.599998  66.860001  68.599998  66.959999   24400  66.959999\n",
       "\n",
       "[421 rows x 6 columns]"
      ]
     },
     "execution_count": 15,
     "metadata": {},
     "output_type": "execute_result"
    }
   ],
   "source": [
    "df_frcoy.loc['2020-01-01' : '2021-09-01']"
   ]
  },
  {
   "cell_type": "code",
   "execution_count": 18,
   "metadata": {},
   "outputs": [],
   "source": [
    "#saving it as a index \n",
    "index=df_frcoy.loc['2020-01-01' : '2021-09-01'].index \n",
    "share_open=df_frcoy.loc['2020-01-01':'2021-09-01']['Open']"
   ]
  },
  {
   "cell_type": "code",
   "execution_count": 19,
   "metadata": {},
   "outputs": [
    {
     "data": {
      "text/plain": [
       "Date\n",
       "2020-01-02    58.610001\n",
       "2020-01-03    59.200001\n",
       "2020-01-06    57.340000\n",
       "2020-01-07    57.700001\n",
       "2020-01-08    57.770000\n",
       "                ...    \n",
       "2021-08-26    66.470001\n",
       "2021-08-27    66.389999\n",
       "2021-08-30    64.440002\n",
       "2021-08-31    64.900002\n",
       "2021-09-01    68.599998\n",
       "Name: Open, Length: 421, dtype: float64"
      ]
     },
     "execution_count": 19,
     "metadata": {},
     "output_type": "execute_result"
    }
   ],
   "source": [
    "share_open"
   ]
  },
  {
   "cell_type": "code",
   "execution_count": 20,
   "metadata": {},
   "outputs": [
    {
     "data": {
      "text/plain": [
       "DatetimeIndex(['2020-01-02', '2020-01-03', '2020-01-06', '2020-01-07',\n",
       "               '2020-01-08', '2020-01-09', '2020-01-10', '2020-01-13',\n",
       "               '2020-01-14', '2020-01-15',\n",
       "               ...\n",
       "               '2021-08-19', '2021-08-20', '2021-08-23', '2021-08-24',\n",
       "               '2021-08-25', '2021-08-26', '2021-08-27', '2021-08-30',\n",
       "               '2021-08-31', '2021-09-01'],\n",
       "              dtype='datetime64[ns]', name='Date', length=421, freq=None)"
      ]
     },
     "execution_count": 20,
     "metadata": {},
     "output_type": "execute_result"
    }
   ],
   "source": [
    "index "
   ]
  },
  {
   "cell_type": "code",
   "execution_count": 21,
   "metadata": {},
   "outputs": [],
   "source": [
    "import matplotlib.pyplot as plt\n",
    "%matplotlib inline "
   ]
  },
  {
   "cell_type": "code",
   "execution_count": 23,
   "metadata": {},
   "outputs": [
    {
     "data": {
      "text/plain": [
       "[<matplotlib.lines.Line2D at 0x22d08924280>]"
      ]
     },
     "execution_count": 23,
     "metadata": {},
     "output_type": "execute_result"
    },
    {
     "data": {
      "image/png": "[encoded data removed]",
      "text/plain": [
       "<Figure size 432x288 with 1 Axes>"
      ]
     },
     "metadata": {
      "needs_background": "light"
     },
     "output_type": "display_data"
    }
   ],
   "source": [
    "figure,axis=plt.subplots()\n",
    "#for overlapping fixes with the dates \n",
    "plt.tight_layout()\n",
    "figure.autofmt_xdate()\n",
    "axis.plot(index,share_open)"
   ]
  },
  {
   "cell_type": "code",
   "execution_count": 24,
   "metadata": {},
   "outputs": [],
   "source": [
    "##Datetime Index "
   ]
  },
  {
   "cell_type": "code",
   "execution_count": 25,
   "metadata": {},
   "outputs": [
    {
     "data": {
      "text/html": [
       "<div>\n",
       "<style scoped>\n",
       "    .dataframe tbody tr th:only-of-type {\n",
       "        vertical-align: middle;\n",
       "    }\n",
       "\n",
       "    .dataframe tbody tr th {\n",
       "        vertical-align: top;\n",
       "    }\n",
       "\n",
       "    .dataframe thead th {\n",
       "        text-align: right;\n",
       "    }\n",
       "</style>\n",
       "<table border=\"1\" class=\"dataframe\">\n",
       "  <thead>\n",
       "    <tr style=\"text-align: right;\">\n",
       "      <th></th>\n",
       "      <th>Date</th>\n",
       "      <th>High</th>\n",
       "      <th>Low</th>\n",
       "      <th>Open</th>\n",
       "      <th>Close</th>\n",
       "      <th>Volume</th>\n",
       "      <th>Adj Close</th>\n",
       "    </tr>\n",
       "  </thead>\n",
       "  <tbody>\n",
       "    <tr>\n",
       "      <th>0</th>\n",
       "      <td>2017-06-20</td>\n",
       "      <td>33.439999</td>\n",
       "      <td>33.080002</td>\n",
       "      <td>33.139999</td>\n",
       "      <td>33.230000</td>\n",
       "      <td>4700</td>\n",
       "      <td>33.230000</td>\n",
       "    </tr>\n",
       "    <tr>\n",
       "      <th>1</th>\n",
       "      <td>2017-06-21</td>\n",
       "      <td>33.150002</td>\n",
       "      <td>33.049999</td>\n",
       "      <td>33.110001</td>\n",
       "      <td>33.150002</td>\n",
       "      <td>11000</td>\n",
       "      <td>33.150002</td>\n",
       "    </tr>\n",
       "    <tr>\n",
       "      <th>2</th>\n",
       "      <td>2017-06-22</td>\n",
       "      <td>33.240002</td>\n",
       "      <td>33.009998</td>\n",
       "      <td>33.189999</td>\n",
       "      <td>33.110001</td>\n",
       "      <td>3800</td>\n",
       "      <td>33.110001</td>\n",
       "    </tr>\n",
       "    <tr>\n",
       "      <th>3</th>\n",
       "      <td>2017-06-23</td>\n",
       "      <td>33.150002</td>\n",
       "      <td>33.049999</td>\n",
       "      <td>33.150002</td>\n",
       "      <td>33.099998</td>\n",
       "      <td>1400</td>\n",
       "      <td>33.099998</td>\n",
       "    </tr>\n",
       "    <tr>\n",
       "      <th>4</th>\n",
       "      <td>2017-06-26</td>\n",
       "      <td>33.349998</td>\n",
       "      <td>33.180000</td>\n",
       "      <td>33.349998</td>\n",
       "      <td>33.180000</td>\n",
       "      <td>4400</td>\n",
       "      <td>33.180000</td>\n",
       "    </tr>\n",
       "    <tr>\n",
       "      <th>...</th>\n",
       "      <td>...</td>\n",
       "      <td>...</td>\n",
       "      <td>...</td>\n",
       "      <td>...</td>\n",
       "      <td>...</td>\n",
       "      <td>...</td>\n",
       "      <td>...</td>\n",
       "    </tr>\n",
       "    <tr>\n",
       "      <th>1254</th>\n",
       "      <td>2022-06-13</td>\n",
       "      <td>49.580002</td>\n",
       "      <td>48.790001</td>\n",
       "      <td>49.509998</td>\n",
       "      <td>48.919998</td>\n",
       "      <td>30900</td>\n",
       "      <td>48.919998</td>\n",
       "    </tr>\n",
       "    <tr>\n",
       "      <th>1255</th>\n",
       "      <td>2022-06-14</td>\n",
       "      <td>49.560001</td>\n",
       "      <td>48.770000</td>\n",
       "      <td>49.560001</td>\n",
       "      <td>49.160000</td>\n",
       "      <td>36000</td>\n",
       "      <td>49.160000</td>\n",
       "    </tr>\n",
       "    <tr>\n",
       "      <th>1256</th>\n",
       "      <td>2022-06-15</td>\n",
       "      <td>51.400002</td>\n",
       "      <td>50.259998</td>\n",
       "      <td>50.259998</td>\n",
       "      <td>51.130001</td>\n",
       "      <td>74100</td>\n",
       "      <td>51.130001</td>\n",
       "    </tr>\n",
       "    <tr>\n",
       "      <th>1257</th>\n",
       "      <td>2022-06-16</td>\n",
       "      <td>51.000000</td>\n",
       "      <td>50.000000</td>\n",
       "      <td>51.000000</td>\n",
       "      <td>50.130001</td>\n",
       "      <td>70400</td>\n",
       "      <td>50.130001</td>\n",
       "    </tr>\n",
       "    <tr>\n",
       "      <th>1258</th>\n",
       "      <td>2022-06-17</td>\n",
       "      <td>51.049999</td>\n",
       "      <td>50.270000</td>\n",
       "      <td>50.860001</td>\n",
       "      <td>50.650002</td>\n",
       "      <td>34200</td>\n",
       "      <td>50.650002</td>\n",
       "    </tr>\n",
       "  </tbody>\n",
       "</table>\n",
       "<p>1259 rows × 7 columns</p>\n",
       "</div>"
      ],
      "text/plain": [
       "           Date       High        Low       Open      Close  Volume  Adj Close\n",
       "0    2017-06-20  33.439999  33.080002  33.139999  33.230000    4700  33.230000\n",
       "1    2017-06-21  33.150002  33.049999  33.110001  33.150002   11000  33.150002\n",
       "2    2017-06-22  33.240002  33.009998  33.189999  33.110001    3800  33.110001\n",
       "3    2017-06-23  33.150002  33.049999  33.150002  33.099998    1400  33.099998\n",
       "4    2017-06-26  33.349998  33.180000  33.349998  33.180000    4400  33.180000\n",
       "...         ...        ...        ...        ...        ...     ...        ...\n",
       "1254 2022-06-13  49.580002  48.790001  49.509998  48.919998   30900  48.919998\n",
       "1255 2022-06-14  49.560001  48.770000  49.560001  49.160000   36000  49.160000\n",
       "1256 2022-06-15  51.400002  50.259998  50.259998  51.130001   74100  51.130001\n",
       "1257 2022-06-16  51.000000  50.000000  51.000000  50.130001   70400  50.130001\n",
       "1258 2022-06-17  51.049999  50.270000  50.860001  50.650002   34200  50.650002\n",
       "\n",
       "[1259 rows x 7 columns]"
      ]
     },
     "execution_count": 25,
     "metadata": {},
     "output_type": "execute_result"
    }
   ],
   "source": [
    "df_frcoy.reset_index()"
   ]
  },
  {
   "cell_type": "code",
   "execution_count": 26,
   "metadata": {},
   "outputs": [],
   "source": [
    "df_frcoy=df_frcoy.reset_index()"
   ]
  },
  {
   "cell_type": "code",
   "execution_count": 27,
   "metadata": {},
   "outputs": [
    {
     "name": "stdout",
     "output_type": "stream",
     "text": [
      "<class 'pandas.core.frame.DataFrame'>\n",
      "RangeIndex: 1259 entries, 0 to 1258\n",
      "Data columns (total 7 columns):\n",
      " #   Column     Non-Null Count  Dtype         \n",
      "---  ------     --------------  -----         \n",
      " 0   Date       1259 non-null   datetime64[ns]\n",
      " 1   High       1259 non-null   float64       \n",
      " 2   Low        1259 non-null   float64       \n",
      " 3   Open       1259 non-null   float64       \n",
      " 4   Close      1259 non-null   float64       \n",
      " 5   Volume     1259 non-null   int64         \n",
      " 6   Adj Close  1259 non-null   float64       \n",
      "dtypes: datetime64[ns](1), float64(5), int64(1)\n",
      "memory usage: 69.0 KB\n"
     ]
    }
   ],
   "source": [
    "df_frcoy.info()"
   ]
  },
  {
   "cell_type": "code",
   "execution_count": 28,
   "metadata": {},
   "outputs": [
    {
     "data": {
      "text/plain": [
       "0      2017-06-20\n",
       "1      2017-06-21\n",
       "2      2017-06-22\n",
       "3      2017-06-23\n",
       "4      2017-06-26\n",
       "          ...    \n",
       "1254   2022-06-13\n",
       "1255   2022-06-14\n",
       "1256   2022-06-15\n",
       "1257   2022-06-16\n",
       "1258   2022-06-17\n",
       "Name: Date, Length: 1259, dtype: datetime64[ns]"
      ]
     },
     "execution_count": 28,
     "metadata": {},
     "output_type": "execute_result"
    }
   ],
   "source": [
    "pd.to_datetime(df_frcoy['Date'])"
   ]
  },
  {
   "cell_type": "code",
   "execution_count": 29,
   "metadata": {},
   "outputs": [],
   "source": [
    "df_frcoy=df_frcoy.set_index('Date',drop=True)"
   ]
  },
  {
   "cell_type": "code",
   "execution_count": 30,
   "metadata": {},
   "outputs": [
    {
     "data": {
      "text/html": [
       "<div>\n",
       "<style scoped>\n",
       "    .dataframe tbody tr th:only-of-type {\n",
       "        vertical-align: middle;\n",
       "    }\n",
       "\n",
       "    .dataframe tbody tr th {\n",
       "        vertical-align: top;\n",
       "    }\n",
       "\n",
       "    .dataframe thead th {\n",
       "        text-align: right;\n",
       "    }\n",
       "</style>\n",
       "<table border=\"1\" class=\"dataframe\">\n",
       "  <thead>\n",
       "    <tr style=\"text-align: right;\">\n",
       "      <th></th>\n",
       "      <th>High</th>\n",
       "      <th>Low</th>\n",
       "      <th>Open</th>\n",
       "      <th>Close</th>\n",
       "      <th>Volume</th>\n",
       "      <th>Adj Close</th>\n",
       "    </tr>\n",
       "    <tr>\n",
       "      <th>Date</th>\n",
       "      <th></th>\n",
       "      <th></th>\n",
       "      <th></th>\n",
       "      <th></th>\n",
       "      <th></th>\n",
       "      <th></th>\n",
       "    </tr>\n",
       "  </thead>\n",
       "  <tbody>\n",
       "    <tr>\n",
       "      <th>2017-06-20</th>\n",
       "      <td>33.439999</td>\n",
       "      <td>33.080002</td>\n",
       "      <td>33.139999</td>\n",
       "      <td>33.230000</td>\n",
       "      <td>4700</td>\n",
       "      <td>33.230000</td>\n",
       "    </tr>\n",
       "    <tr>\n",
       "      <th>2017-06-21</th>\n",
       "      <td>33.150002</td>\n",
       "      <td>33.049999</td>\n",
       "      <td>33.110001</td>\n",
       "      <td>33.150002</td>\n",
       "      <td>11000</td>\n",
       "      <td>33.150002</td>\n",
       "    </tr>\n",
       "    <tr>\n",
       "      <th>2017-06-22</th>\n",
       "      <td>33.240002</td>\n",
       "      <td>33.009998</td>\n",
       "      <td>33.189999</td>\n",
       "      <td>33.110001</td>\n",
       "      <td>3800</td>\n",
       "      <td>33.110001</td>\n",
       "    </tr>\n",
       "    <tr>\n",
       "      <th>2017-06-23</th>\n",
       "      <td>33.150002</td>\n",
       "      <td>33.049999</td>\n",
       "      <td>33.150002</td>\n",
       "      <td>33.099998</td>\n",
       "      <td>1400</td>\n",
       "      <td>33.099998</td>\n",
       "    </tr>\n",
       "    <tr>\n",
       "      <th>2017-06-26</th>\n",
       "      <td>33.349998</td>\n",
       "      <td>33.180000</td>\n",
       "      <td>33.349998</td>\n",
       "      <td>33.180000</td>\n",
       "      <td>4400</td>\n",
       "      <td>33.180000</td>\n",
       "    </tr>\n",
       "  </tbody>\n",
       "</table>\n",
       "</div>"
      ],
      "text/plain": [
       "                 High        Low       Open      Close  Volume  Adj Close\n",
       "Date                                                                     \n",
       "2017-06-20  33.439999  33.080002  33.139999  33.230000    4700  33.230000\n",
       "2017-06-21  33.150002  33.049999  33.110001  33.150002   11000  33.150002\n",
       "2017-06-22  33.240002  33.009998  33.189999  33.110001    3800  33.110001\n",
       "2017-06-23  33.150002  33.049999  33.150002  33.099998    1400  33.099998\n",
       "2017-06-26  33.349998  33.180000  33.349998  33.180000    4400  33.180000"
      ]
     },
     "execution_count": 30,
     "metadata": {},
     "output_type": "execute_result"
    }
   ],
   "source": [
    "df_frcoy.head()"
   ]
  },
  {
   "cell_type": "code",
   "execution_count": 31,
   "metadata": {},
   "outputs": [],
   "source": [
    "#datetime \n",
    "from datetime import datetime "
   ]
  },
  {
   "cell_type": "code",
   "execution_count": 32,
   "metadata": {},
   "outputs": [
    {
     "data": {
      "text/plain": [
       "datetime.datetime(2021, 11, 21, 0, 0)"
      ]
     },
     "execution_count": 32,
     "metadata": {},
     "output_type": "execute_result"
    }
   ],
   "source": [
    "datetime(2021,11,21)"
   ]
  },
  {
   "cell_type": "code",
   "execution_count": 33,
   "metadata": {},
   "outputs": [
    {
     "data": {
      "text/plain": [
       "datetime.datetime(2022, 6, 21, 10, 49, 56, 139181)"
      ]
     },
     "execution_count": 33,
     "metadata": {},
     "output_type": "execute_result"
    }
   ],
   "source": [
    "datetime.now()"
   ]
  },
  {
   "cell_type": "code",
   "execution_count": 34,
   "metadata": {},
   "outputs": [],
   "source": [
    "date=datetime(2021,11,21)"
   ]
  },
  {
   "cell_type": "code",
   "execution_count": 35,
   "metadata": {},
   "outputs": [
    {
     "data": {
      "text/plain": [
       "datetime.datetime(2021, 11, 21, 0, 0)"
      ]
     },
     "execution_count": 35,
     "metadata": {},
     "output_type": "execute_result"
    }
   ],
   "source": [
    "date "
   ]
  },
  {
   "cell_type": "code",
   "execution_count": 39,
   "metadata": {},
   "outputs": [
    {
     "data": {
      "text/plain": [
       "datetime.date(2021, 11, 21)"
      ]
     },
     "execution_count": 39,
     "metadata": {},
     "output_type": "execute_result"
    }
   ],
   "source": [
    "date.date()\n"
   ]
  },
  {
   "cell_type": "code",
   "execution_count": 40,
   "metadata": {},
   "outputs": [
    {
     "data": {
      "text/plain": [
       "21"
      ]
     },
     "execution_count": 40,
     "metadata": {},
     "output_type": "execute_result"
    }
   ],
   "source": [
    "date.day"
   ]
  },
  {
   "cell_type": "code",
   "execution_count": 41,
   "metadata": {},
   "outputs": [
    {
     "data": {
      "text/plain": [
       "6"
      ]
     },
     "execution_count": 41,
     "metadata": {},
     "output_type": "execute_result"
    }
   ],
   "source": [
    "date.weekday()"
   ]
  },
  {
   "cell_type": "code",
   "execution_count": 42,
   "metadata": {},
   "outputs": [
    {
     "data": {
      "text/html": [
       "<div>\n",
       "<style scoped>\n",
       "    .dataframe tbody tr th:only-of-type {\n",
       "        vertical-align: middle;\n",
       "    }\n",
       "\n",
       "    .dataframe tbody tr th {\n",
       "        vertical-align: top;\n",
       "    }\n",
       "\n",
       "    .dataframe thead th {\n",
       "        text-align: right;\n",
       "    }\n",
       "</style>\n",
       "<table border=\"1\" class=\"dataframe\">\n",
       "  <thead>\n",
       "    <tr style=\"text-align: right;\">\n",
       "      <th></th>\n",
       "      <th>High</th>\n",
       "      <th>Low</th>\n",
       "      <th>Open</th>\n",
       "      <th>Close</th>\n",
       "      <th>Volume</th>\n",
       "      <th>Adj Close</th>\n",
       "    </tr>\n",
       "    <tr>\n",
       "      <th>Date</th>\n",
       "      <th></th>\n",
       "      <th></th>\n",
       "      <th></th>\n",
       "      <th></th>\n",
       "      <th></th>\n",
       "      <th></th>\n",
       "    </tr>\n",
       "  </thead>\n",
       "  <tbody>\n",
       "    <tr>\n",
       "      <th>2017-12-31</th>\n",
       "      <td>27.900000</td>\n",
       "      <td>27.799999</td>\n",
       "      <td>27.879999</td>\n",
       "      <td>27.820000</td>\n",
       "      <td>900</td>\n",
       "      <td>27.820000</td>\n",
       "    </tr>\n",
       "    <tr>\n",
       "      <th>2018-12-31</th>\n",
       "      <td>38.320000</td>\n",
       "      <td>37.020000</td>\n",
       "      <td>37.590000</td>\n",
       "      <td>37.419998</td>\n",
       "      <td>2200</td>\n",
       "      <td>37.419998</td>\n",
       "    </tr>\n",
       "    <tr>\n",
       "      <th>2019-12-31</th>\n",
       "      <td>43.480000</td>\n",
       "      <td>43.160000</td>\n",
       "      <td>43.209999</td>\n",
       "      <td>43.340000</td>\n",
       "      <td>0</td>\n",
       "      <td>43.340000</td>\n",
       "    </tr>\n",
       "    <tr>\n",
       "      <th>2020-12-31</th>\n",
       "      <td>38.009998</td>\n",
       "      <td>35.000000</td>\n",
       "      <td>35.000000</td>\n",
       "      <td>36.779999</td>\n",
       "      <td>1500</td>\n",
       "      <td>36.779999</td>\n",
       "    </tr>\n",
       "    <tr>\n",
       "      <th>2021-12-31</th>\n",
       "      <td>56.970001</td>\n",
       "      <td>56.529999</td>\n",
       "      <td>56.790001</td>\n",
       "      <td>56.660000</td>\n",
       "      <td>3500</td>\n",
       "      <td>56.660000</td>\n",
       "    </tr>\n",
       "    <tr>\n",
       "      <th>2022-12-31</th>\n",
       "      <td>43.990002</td>\n",
       "      <td>43.470001</td>\n",
       "      <td>43.840000</td>\n",
       "      <td>43.709999</td>\n",
       "      <td>6300</td>\n",
       "      <td>43.709999</td>\n",
       "    </tr>\n",
       "  </tbody>\n",
       "</table>\n",
       "</div>"
      ],
      "text/plain": [
       "                 High        Low       Open      Close  Volume  Adj Close\n",
       "Date                                                                     \n",
       "2017-12-31  27.900000  27.799999  27.879999  27.820000     900  27.820000\n",
       "2018-12-31  38.320000  37.020000  37.590000  37.419998    2200  37.419998\n",
       "2019-12-31  43.480000  43.160000  43.209999  43.340000       0  43.340000\n",
       "2020-12-31  38.009998  35.000000  35.000000  36.779999    1500  36.779999\n",
       "2021-12-31  56.970001  56.529999  56.790001  56.660000    3500  56.660000\n",
       "2022-12-31  43.990002  43.470001  43.840000  43.709999    6300  43.709999"
      ]
     },
     "execution_count": 42,
     "metadata": {},
     "output_type": "execute_result"
    }
   ],
   "source": [
    "#min()- it provides the information, which was the minimum high ,which was the minimum low, which was the minimum opening date etc \n",
    "\n",
    "df_frcoy.resample(rule='A').min()"
   ]
  },
  {
   "cell_type": "code",
   "execution_count": 43,
   "metadata": {},
   "outputs": [
    {
     "data": {
      "text/html": [
       "<div>\n",
       "<style scoped>\n",
       "    .dataframe tbody tr th:only-of-type {\n",
       "        vertical-align: middle;\n",
       "    }\n",
       "\n",
       "    .dataframe tbody tr th {\n",
       "        vertical-align: top;\n",
       "    }\n",
       "\n",
       "    .dataframe thead th {\n",
       "        text-align: right;\n",
       "    }\n",
       "</style>\n",
       "<table border=\"1\" class=\"dataframe\">\n",
       "  <thead>\n",
       "    <tr style=\"text-align: right;\">\n",
       "      <th></th>\n",
       "      <th>High</th>\n",
       "      <th>Low</th>\n",
       "      <th>Open</th>\n",
       "      <th>Close</th>\n",
       "      <th>Volume</th>\n",
       "      <th>Adj Close</th>\n",
       "    </tr>\n",
       "    <tr>\n",
       "      <th>Date</th>\n",
       "      <th></th>\n",
       "      <th></th>\n",
       "      <th></th>\n",
       "      <th></th>\n",
       "      <th></th>\n",
       "      <th></th>\n",
       "    </tr>\n",
       "  </thead>\n",
       "  <tbody>\n",
       "    <tr>\n",
       "      <th>2017-12-31</th>\n",
       "      <td>40.720001</td>\n",
       "      <td>40.020000</td>\n",
       "      <td>40.450001</td>\n",
       "      <td>40.299999</td>\n",
       "      <td>1292600</td>\n",
       "      <td>40.299999</td>\n",
       "    </tr>\n",
       "    <tr>\n",
       "      <th>2018-12-31</th>\n",
       "      <td>54.049999</td>\n",
       "      <td>53.599998</td>\n",
       "      <td>53.779999</td>\n",
       "      <td>53.990002</td>\n",
       "      <td>2284100</td>\n",
       "      <td>53.990002</td>\n",
       "    </tr>\n",
       "    <tr>\n",
       "      <th>2019-12-31</th>\n",
       "      <td>66.580002</td>\n",
       "      <td>64.300003</td>\n",
       "      <td>66.580002</td>\n",
       "      <td>64.349998</td>\n",
       "      <td>97600</td>\n",
       "      <td>64.349998</td>\n",
       "    </tr>\n",
       "    <tr>\n",
       "      <th>2020-12-31</th>\n",
       "      <td>90.000000</td>\n",
       "      <td>89.550003</td>\n",
       "      <td>90.000000</td>\n",
       "      <td>89.860001</td>\n",
       "      <td>368800</td>\n",
       "      <td>89.860001</td>\n",
       "    </tr>\n",
       "    <tr>\n",
       "      <th>2021-12-31</th>\n",
       "      <td>103.870003</td>\n",
       "      <td>100.580002</td>\n",
       "      <td>103.870003</td>\n",
       "      <td>102.580002</td>\n",
       "      <td>90700</td>\n",
       "      <td>102.580002</td>\n",
       "    </tr>\n",
       "    <tr>\n",
       "      <th>2022-12-31</th>\n",
       "      <td>60.959999</td>\n",
       "      <td>59.320000</td>\n",
       "      <td>60.959999</td>\n",
       "      <td>59.970001</td>\n",
       "      <td>149900</td>\n",
       "      <td>59.970001</td>\n",
       "    </tr>\n",
       "  </tbody>\n",
       "</table>\n",
       "</div>"
      ],
      "text/plain": [
       "                  High         Low        Open       Close   Volume  \\\n",
       "Date                                                                  \n",
       "2017-12-31   40.720001   40.020000   40.450001   40.299999  1292600   \n",
       "2018-12-31   54.049999   53.599998   53.779999   53.990002  2284100   \n",
       "2019-12-31   66.580002   64.300003   66.580002   64.349998    97600   \n",
       "2020-12-31   90.000000   89.550003   90.000000   89.860001   368800   \n",
       "2021-12-31  103.870003  100.580002  103.870003  102.580002    90700   \n",
       "2022-12-31   60.959999   59.320000   60.959999   59.970001   149900   \n",
       "\n",
       "             Adj Close  \n",
       "Date                    \n",
       "2017-12-31   40.299999  \n",
       "2018-12-31   53.990002  \n",
       "2019-12-31   64.349998  \n",
       "2020-12-31   89.860001  \n",
       "2021-12-31  102.580002  \n",
       "2022-12-31   59.970001  "
      ]
     },
     "execution_count": 43,
     "metadata": {},
     "output_type": "execute_result"
    }
   ],
   "source": [
    "df_frcoy.resample(rule='A').max()"
   ]
  },
  {
   "cell_type": "code",
   "execution_count": 44,
   "metadata": {},
   "outputs": [
    {
     "data": {
      "text/plain": [
       "<AxesSubplot:xlabel='Date'>"
      ]
     },
     "execution_count": 44,
     "metadata": {},
     "output_type": "execute_result"
    },
    {
     "data": {
      "image/png": "[encoded data removed]",
      "text/plain": [
       "<Figure size 432x288 with 1 Axes>"
      ]
     },
     "metadata": {
      "needs_background": "light"
     },
     "output_type": "display_data"
    }
   ],
   "source": [
    "#ruleA :- YEAR END FREQUENCY\n",
    "df_frcoy.resample(rule='A').max()['Open'].plot()"
   ]
  },
  {
   "cell_type": "code",
   "execution_count": 45,
   "metadata": {},
   "outputs": [
    {
     "data": {
      "text/html": [
       "<div>\n",
       "<style scoped>\n",
       "    .dataframe tbody tr th:only-of-type {\n",
       "        vertical-align: middle;\n",
       "    }\n",
       "\n",
       "    .dataframe tbody tr th {\n",
       "        vertical-align: top;\n",
       "    }\n",
       "\n",
       "    .dataframe thead th {\n",
       "        text-align: right;\n",
       "    }\n",
       "</style>\n",
       "<table border=\"1\" class=\"dataframe\">\n",
       "  <thead>\n",
       "    <tr style=\"text-align: right;\">\n",
       "      <th></th>\n",
       "      <th>High</th>\n",
       "      <th>Low</th>\n",
       "      <th>Open</th>\n",
       "      <th>Close</th>\n",
       "      <th>Volume</th>\n",
       "      <th>Adj Close</th>\n",
       "    </tr>\n",
       "    <tr>\n",
       "      <th>Date</th>\n",
       "      <th></th>\n",
       "      <th></th>\n",
       "      <th></th>\n",
       "      <th></th>\n",
       "      <th></th>\n",
       "      <th></th>\n",
       "    </tr>\n",
       "  </thead>\n",
       "  <tbody>\n",
       "    <tr>\n",
       "      <th>2017-04-01</th>\n",
       "      <td>33.750000</td>\n",
       "      <td>33.619999</td>\n",
       "      <td>33.619999</td>\n",
       "      <td>33.730000</td>\n",
       "      <td>11000</td>\n",
       "      <td>33.730000</td>\n",
       "    </tr>\n",
       "    <tr>\n",
       "      <th>2017-07-01</th>\n",
       "      <td>33.330002</td>\n",
       "      <td>33.220001</td>\n",
       "      <td>33.220001</td>\n",
       "      <td>33.310001</td>\n",
       "      <td>269000</td>\n",
       "      <td>33.310001</td>\n",
       "    </tr>\n",
       "    <tr>\n",
       "      <th>2017-10-01</th>\n",
       "      <td>40.720001</td>\n",
       "      <td>40.020000</td>\n",
       "      <td>40.450001</td>\n",
       "      <td>40.299999</td>\n",
       "      <td>1292600</td>\n",
       "      <td>40.299999</td>\n",
       "    </tr>\n",
       "    <tr>\n",
       "      <th>2018-01-01</th>\n",
       "      <td>46.560001</td>\n",
       "      <td>45.689999</td>\n",
       "      <td>46.560001</td>\n",
       "      <td>45.860001</td>\n",
       "      <td>118000</td>\n",
       "      <td>45.860001</td>\n",
       "    </tr>\n",
       "    <tr>\n",
       "      <th>2018-04-01</th>\n",
       "      <td>48.139999</td>\n",
       "      <td>47.549999</td>\n",
       "      <td>48.139999</td>\n",
       "      <td>47.880001</td>\n",
       "      <td>413300</td>\n",
       "      <td>47.880001</td>\n",
       "    </tr>\n",
       "    <tr>\n",
       "      <th>2018-07-01</th>\n",
       "      <td>52.650002</td>\n",
       "      <td>52.160000</td>\n",
       "      <td>52.650002</td>\n",
       "      <td>52.230000</td>\n",
       "      <td>2284100</td>\n",
       "      <td>52.230000</td>\n",
       "    </tr>\n",
       "    <tr>\n",
       "      <th>2018-10-01</th>\n",
       "      <td>54.049999</td>\n",
       "      <td>53.599998</td>\n",
       "      <td>53.779999</td>\n",
       "      <td>53.990002</td>\n",
       "      <td>216500</td>\n",
       "      <td>53.990002</td>\n",
       "    </tr>\n",
       "    <tr>\n",
       "      <th>2019-01-01</th>\n",
       "      <td>51.349998</td>\n",
       "      <td>51.040001</td>\n",
       "      <td>51.040001</td>\n",
       "      <td>51.250000</td>\n",
       "      <td>55600</td>\n",
       "      <td>51.250000</td>\n",
       "    </tr>\n",
       "    <tr>\n",
       "      <th>2019-04-01</th>\n",
       "      <td>63.360001</td>\n",
       "      <td>62.799999</td>\n",
       "      <td>63.009998</td>\n",
       "      <td>63.230000</td>\n",
       "      <td>97600</td>\n",
       "      <td>63.230000</td>\n",
       "    </tr>\n",
       "    <tr>\n",
       "      <th>2019-07-01</th>\n",
       "      <td>66.580002</td>\n",
       "      <td>64.300003</td>\n",
       "      <td>66.580002</td>\n",
       "      <td>64.349998</td>\n",
       "      <td>26700</td>\n",
       "      <td>64.349998</td>\n",
       "    </tr>\n",
       "    <tr>\n",
       "      <th>2019-10-01</th>\n",
       "      <td>64.660004</td>\n",
       "      <td>63.869999</td>\n",
       "      <td>64.660004</td>\n",
       "      <td>63.910000</td>\n",
       "      <td>22300</td>\n",
       "      <td>63.910000</td>\n",
       "    </tr>\n",
       "    <tr>\n",
       "      <th>2020-01-01</th>\n",
       "      <td>60.490002</td>\n",
       "      <td>59.200001</td>\n",
       "      <td>59.459999</td>\n",
       "      <td>59.950001</td>\n",
       "      <td>368800</td>\n",
       "      <td>59.950001</td>\n",
       "    </tr>\n",
       "    <tr>\n",
       "      <th>2020-04-01</th>\n",
       "      <td>60.860001</td>\n",
       "      <td>60.610001</td>\n",
       "      <td>60.759998</td>\n",
       "      <td>60.750000</td>\n",
       "      <td>88700</td>\n",
       "      <td>60.750000</td>\n",
       "    </tr>\n",
       "    <tr>\n",
       "      <th>2020-07-01</th>\n",
       "      <td>63.500000</td>\n",
       "      <td>63.160000</td>\n",
       "      <td>63.360001</td>\n",
       "      <td>63.360001</td>\n",
       "      <td>43300</td>\n",
       "      <td>63.360001</td>\n",
       "    </tr>\n",
       "    <tr>\n",
       "      <th>2020-10-01</th>\n",
       "      <td>90.000000</td>\n",
       "      <td>89.550003</td>\n",
       "      <td>90.000000</td>\n",
       "      <td>89.860001</td>\n",
       "      <td>39500</td>\n",
       "      <td>89.860001</td>\n",
       "    </tr>\n",
       "    <tr>\n",
       "      <th>2021-01-01</th>\n",
       "      <td>103.870003</td>\n",
       "      <td>100.580002</td>\n",
       "      <td>103.870003</td>\n",
       "      <td>102.580002</td>\n",
       "      <td>81900</td>\n",
       "      <td>102.580002</td>\n",
       "    </tr>\n",
       "    <tr>\n",
       "      <th>2021-04-01</th>\n",
       "      <td>85.279999</td>\n",
       "      <td>84.230003</td>\n",
       "      <td>84.449997</td>\n",
       "      <td>84.769997</td>\n",
       "      <td>58900</td>\n",
       "      <td>84.769997</td>\n",
       "    </tr>\n",
       "    <tr>\n",
       "      <th>2021-07-01</th>\n",
       "      <td>76.830002</td>\n",
       "      <td>74.849998</td>\n",
       "      <td>76.830002</td>\n",
       "      <td>75.059998</td>\n",
       "      <td>41200</td>\n",
       "      <td>75.059998</td>\n",
       "    </tr>\n",
       "    <tr>\n",
       "      <th>2021-10-01</th>\n",
       "      <td>72.269997</td>\n",
       "      <td>71.160004</td>\n",
       "      <td>72.269997</td>\n",
       "      <td>71.910004</td>\n",
       "      <td>90700</td>\n",
       "      <td>71.910004</td>\n",
       "    </tr>\n",
       "    <tr>\n",
       "      <th>2022-01-01</th>\n",
       "      <td>60.959999</td>\n",
       "      <td>59.320000</td>\n",
       "      <td>60.959999</td>\n",
       "      <td>59.970001</td>\n",
       "      <td>95900</td>\n",
       "      <td>59.970001</td>\n",
       "    </tr>\n",
       "    <tr>\n",
       "      <th>2022-04-01</th>\n",
       "      <td>52.730000</td>\n",
       "      <td>52.070000</td>\n",
       "      <td>52.669998</td>\n",
       "      <td>52.070000</td>\n",
       "      <td>149900</td>\n",
       "      <td>52.070000</td>\n",
       "    </tr>\n",
       "  </tbody>\n",
       "</table>\n",
       "</div>"
      ],
      "text/plain": [
       "                  High         Low        Open       Close   Volume  \\\n",
       "Date                                                                  \n",
       "2017-04-01   33.750000   33.619999   33.619999   33.730000    11000   \n",
       "2017-07-01   33.330002   33.220001   33.220001   33.310001   269000   \n",
       "2017-10-01   40.720001   40.020000   40.450001   40.299999  1292600   \n",
       "2018-01-01   46.560001   45.689999   46.560001   45.860001   118000   \n",
       "2018-04-01   48.139999   47.549999   48.139999   47.880001   413300   \n",
       "2018-07-01   52.650002   52.160000   52.650002   52.230000  2284100   \n",
       "2018-10-01   54.049999   53.599998   53.779999   53.990002   216500   \n",
       "2019-01-01   51.349998   51.040001   51.040001   51.250000    55600   \n",
       "2019-04-01   63.360001   62.799999   63.009998   63.230000    97600   \n",
       "2019-07-01   66.580002   64.300003   66.580002   64.349998    26700   \n",
       "2019-10-01   64.660004   63.869999   64.660004   63.910000    22300   \n",
       "2020-01-01   60.490002   59.200001   59.459999   59.950001   368800   \n",
       "2020-04-01   60.860001   60.610001   60.759998   60.750000    88700   \n",
       "2020-07-01   63.500000   63.160000   63.360001   63.360001    43300   \n",
       "2020-10-01   90.000000   89.550003   90.000000   89.860001    39500   \n",
       "2021-01-01  103.870003  100.580002  103.870003  102.580002    81900   \n",
       "2021-04-01   85.279999   84.230003   84.449997   84.769997    58900   \n",
       "2021-07-01   76.830002   74.849998   76.830002   75.059998    41200   \n",
       "2021-10-01   72.269997   71.160004   72.269997   71.910004    90700   \n",
       "2022-01-01   60.959999   59.320000   60.959999   59.970001    95900   \n",
       "2022-04-01   52.730000   52.070000   52.669998   52.070000   149900   \n",
       "\n",
       "             Adj Close  \n",
       "Date                    \n",
       "2017-04-01   33.730000  \n",
       "2017-07-01   33.310001  \n",
       "2017-10-01   40.299999  \n",
       "2018-01-01   45.860001  \n",
       "2018-04-01   47.880001  \n",
       "2018-07-01   52.230000  \n",
       "2018-10-01   53.990002  \n",
       "2019-01-01   51.250000  \n",
       "2019-04-01   63.230000  \n",
       "2019-07-01   64.349998  \n",
       "2019-10-01   63.910000  \n",
       "2020-01-01   59.950001  \n",
       "2020-04-01   60.750000  \n",
       "2020-07-01   63.360001  \n",
       "2020-10-01   89.860001  \n",
       "2021-01-01  102.580002  \n",
       "2021-04-01   84.769997  \n",
       "2021-07-01   75.059998  \n",
       "2021-10-01   71.910004  \n",
       "2022-01-01   59.970001  \n",
       "2022-04-01   52.070000  "
      ]
     },
     "execution_count": 45,
     "metadata": {},
     "output_type": "execute_result"
    }
   ],
   "source": [
    "#quarterly start frequency \n",
    "df_frcoy.resample(rule='QS').max()"
   ]
  },
  {
   "cell_type": "code",
   "execution_count": 46,
   "metadata": {},
   "outputs": [
    {
     "data": {
      "text/plain": [
       "<AxesSubplot:xlabel='Date'>"
      ]
     },
     "execution_count": 46,
     "metadata": {},
     "output_type": "execute_result"
    },
    {
     "data": {
      "image/png": "[encoded data removed]",
      "text/plain": [
       "<Figure size 432x288 with 1 Axes>"
      ]
     },
     "metadata": {
      "needs_background": "light"
     },
     "output_type": "display_data"
    }
   ],
   "source": [
    "#change in median of open in each quartile \n",
    "df_frcoy.resample(rule='QS').max()['Open'].plot()"
   ]
  },
  {
   "cell_type": "code",
   "execution_count": 47,
   "metadata": {},
   "outputs": [
    {
     "data": {
      "text/plain": [
       "<AxesSubplot:xlabel='Date'>"
      ]
     },
     "execution_count": 47,
     "metadata": {},
     "output_type": "execute_result"
    },
    {
     "data": {
      "image/png": "[encoded data removed]",
      "text/plain": [
       "<Figure size 432x288 with 1 Axes>"
      ]
     },
     "metadata": {
      "needs_background": "light"
     },
     "output_type": "display_data"
    }
   ],
   "source": [
    "#change in median of high in each quartile \n",
    "df_frcoy.resample(rule='QS').max()['High'].plot()"
   ]
  },
  {
   "cell_type": "code",
   "execution_count": 48,
   "metadata": {},
   "outputs": [
    {
     "data": {
      "text/plain": [
       "<AxesSubplot:xlabel='Date'>"
      ]
     },
     "execution_count": 48,
     "metadata": {},
     "output_type": "execute_result"
    },
    {
     "data": {
      "image/png": "[encoded data removed]",
      "text/plain": [
       "<Figure size 432x288 with 1 Axes>"
      ]
     },
     "metadata": {
      "needs_background": "light"
     },
     "output_type": "display_data"
    }
   ],
   "source": [
    "#change in median of low in each quartile \n",
    "df_frcoy.resample(rule='QS').max()['Low'].plot()"
   ]
  },
  {
   "cell_type": "code",
   "execution_count": 49,
   "metadata": {},
   "outputs": [
    {
     "data": {
      "text/plain": [
       "<AxesSubplot:xlabel='Date'>"
      ]
     },
     "execution_count": 49,
     "metadata": {},
     "output_type": "execute_result"
    },
    {
     "data": {
      "image/png": "[encoded data removed]",
      "text/plain": [
       "<Figure size 432x288 with 1 Axes>"
      ]
     },
     "metadata": {
      "needs_background": "light"
     },
     "output_type": "display_data"
    }
   ],
   "source": [
    "#change in median of close in each quartile \n",
    "df_frcoy.resample(rule='QS').max()['Close'].plot()"
   ]
  },
  {
   "cell_type": "code",
   "execution_count": 50,
   "metadata": {},
   "outputs": [
    {
     "data": {
      "text/plain": [
       "<AxesSubplot:xlabel='Date'>"
      ]
     },
     "execution_count": 50,
     "metadata": {},
     "output_type": "execute_result"
    },
    {
     "data": {
      "image/png": "[encoded data removed]",
      "text/plain": [
       "<Figure size 432x288 with 1 Axes>"
      ]
     },
     "metadata": {
      "needs_background": "light"
     },
     "output_type": "display_data"
    }
   ],
   "source": [
    "#plotting \n",
    "#To find the mean volume \n",
    "mean_value=df_frcoy['Volume'].resample(rule='BA').mean().plot(kind='bar')"
   ]
  },
  {
   "cell_type": "code",
   "execution_count": 61,
   "metadata": {},
   "outputs": [
    {
     "data": {
      "text/plain": [
       "Date\n",
       "2017-06-20          NaN\n",
       "2017-06-21          NaN\n",
       "2017-06-22          NaN\n",
       "2017-06-23          NaN\n",
       "2017-06-26          NaN\n",
       "2017-06-27          NaN\n",
       "2017-06-28          NaN\n",
       "2017-06-29          NaN\n",
       "2017-06-30          NaN\n",
       "2017-07-03          NaN\n",
       "2017-07-05    33.750000\n",
       "2017-07-06    33.750000\n",
       "2017-07-07    33.750000\n",
       "2017-07-10    33.750000\n",
       "2017-07-11    33.750000\n",
       "2017-07-12    33.750000\n",
       "2017-07-13    33.750000\n",
       "2017-07-14    33.750000\n",
       "2017-07-17    33.439999\n",
       "2017-07-18    33.330002\n",
       "Name: High, dtype: float64"
      ]
     },
     "execution_count": 61,
     "metadata": {},
     "output_type": "execute_result"
    }
   ],
   "source": [
    "df_frcoy['High'].rolling(11).max().head(20)"
   ]
  },
  {
   "cell_type": "code",
   "execution_count": 64,
   "metadata": {},
   "outputs": [],
   "source": [
    "df_frcoy['Open:30 days rolling']=df_frcoy['Open'].rolling(30).mean()"
   ]
  },
  {
   "cell_type": "code",
   "execution_count": 65,
   "metadata": {},
   "outputs": [
    {
     "data": {
      "text/html": [
       "<div>\n",
       "<style scoped>\n",
       "    .dataframe tbody tr th:only-of-type {\n",
       "        vertical-align: middle;\n",
       "    }\n",
       "\n",
       "    .dataframe tbody tr th {\n",
       "        vertical-align: top;\n",
       "    }\n",
       "\n",
       "    .dataframe thead th {\n",
       "        text-align: right;\n",
       "    }\n",
       "</style>\n",
       "<table border=\"1\" class=\"dataframe\">\n",
       "  <thead>\n",
       "    <tr style=\"text-align: right;\">\n",
       "      <th></th>\n",
       "      <th>High</th>\n",
       "      <th>Low</th>\n",
       "      <th>Open</th>\n",
       "      <th>Close</th>\n",
       "      <th>Volume</th>\n",
       "      <th>Adj Close</th>\n",
       "      <th>Volume:30 days rolling</th>\n",
       "      <th>Open:30 days rolling</th>\n",
       "    </tr>\n",
       "    <tr>\n",
       "      <th>Date</th>\n",
       "      <th></th>\n",
       "      <th></th>\n",
       "      <th></th>\n",
       "      <th></th>\n",
       "      <th></th>\n",
       "      <th></th>\n",
       "      <th></th>\n",
       "      <th></th>\n",
       "    </tr>\n",
       "  </thead>\n",
       "  <tbody>\n",
       "    <tr>\n",
       "      <th>2017-06-20</th>\n",
       "      <td>33.439999</td>\n",
       "      <td>33.080002</td>\n",
       "      <td>33.139999</td>\n",
       "      <td>33.230000</td>\n",
       "      <td>4700</td>\n",
       "      <td>33.230000</td>\n",
       "      <td>NaN</td>\n",
       "      <td>NaN</td>\n",
       "    </tr>\n",
       "    <tr>\n",
       "      <th>2017-06-21</th>\n",
       "      <td>33.150002</td>\n",
       "      <td>33.049999</td>\n",
       "      <td>33.110001</td>\n",
       "      <td>33.150002</td>\n",
       "      <td>11000</td>\n",
       "      <td>33.150002</td>\n",
       "      <td>NaN</td>\n",
       "      <td>NaN</td>\n",
       "    </tr>\n",
       "    <tr>\n",
       "      <th>2017-06-22</th>\n",
       "      <td>33.240002</td>\n",
       "      <td>33.009998</td>\n",
       "      <td>33.189999</td>\n",
       "      <td>33.110001</td>\n",
       "      <td>3800</td>\n",
       "      <td>33.110001</td>\n",
       "      <td>NaN</td>\n",
       "      <td>NaN</td>\n",
       "    </tr>\n",
       "    <tr>\n",
       "      <th>2017-06-23</th>\n",
       "      <td>33.150002</td>\n",
       "      <td>33.049999</td>\n",
       "      <td>33.150002</td>\n",
       "      <td>33.099998</td>\n",
       "      <td>1400</td>\n",
       "      <td>33.099998</td>\n",
       "      <td>NaN</td>\n",
       "      <td>NaN</td>\n",
       "    </tr>\n",
       "    <tr>\n",
       "      <th>2017-06-26</th>\n",
       "      <td>33.349998</td>\n",
       "      <td>33.180000</td>\n",
       "      <td>33.349998</td>\n",
       "      <td>33.180000</td>\n",
       "      <td>4400</td>\n",
       "      <td>33.180000</td>\n",
       "      <td>NaN</td>\n",
       "      <td>NaN</td>\n",
       "    </tr>\n",
       "  </tbody>\n",
       "</table>\n",
       "</div>"
      ],
      "text/plain": [
       "                 High        Low       Open      Close  Volume  Adj Close  \\\n",
       "Date                                                                        \n",
       "2017-06-20  33.439999  33.080002  33.139999  33.230000    4700  33.230000   \n",
       "2017-06-21  33.150002  33.049999  33.110001  33.150002   11000  33.150002   \n",
       "2017-06-22  33.240002  33.009998  33.189999  33.110001    3800  33.110001   \n",
       "2017-06-23  33.150002  33.049999  33.150002  33.099998    1400  33.099998   \n",
       "2017-06-26  33.349998  33.180000  33.349998  33.180000    4400  33.180000   \n",
       "\n",
       "            Volume:30 days rolling  Open:30 days rolling  \n",
       "Date                                                      \n",
       "2017-06-20                     NaN                   NaN  \n",
       "2017-06-21                     NaN                   NaN  \n",
       "2017-06-22                     NaN                   NaN  \n",
       "2017-06-23                     NaN                   NaN  \n",
       "2017-06-26                     NaN                   NaN  "
      ]
     },
     "execution_count": 65,
     "metadata": {},
     "output_type": "execute_result"
    }
   ],
   "source": [
    "df_frcoy.head()"
   ]
  },
  {
   "cell_type": "code",
   "execution_count": 66,
   "metadata": {},
   "outputs": [
    {
     "data": {
      "text/plain": [
       "<AxesSubplot:xlabel='Date'>"
      ]
     },
     "execution_count": 66,
     "metadata": {},
     "output_type": "execute_result"
    },
    {
     "data": {
      "image/png": "[encoded data removed]",
      "text/plain": [
       "<Figure size 864x360 with 1 Axes>"
      ]
     },
     "metadata": {
      "needs_background": "light"
     },
     "output_type": "display_data"
    }
   ],
   "source": [
    "df_frcoy[['Open' ,'Open:30 days rolling']].plot(figsize=(12,5))"
   ]
  }
 ],
 "metadata": {
  "kernelspec": {
   "display_name": "Python 3.9.12 ('base')",
   "language": "python",
   "name": "python3"
  },
  "language_info": {
   "codemirror_mode": {
    "name": "ipython",
    "version": 3
   },
   "file_extension": ".py",
   "mimetype": "text/x-python",
   "name": "python",
   "nbconvert_exporter": "python",
   "pygments_lexer": "ipython3",
   "version": "3.9.12"
  },
  "orig_nbformat": 4,
  "vscode": {
   "interpreter": {
    "hash": "a913e8d3dd8d7d787e127193d60239290fa303aac069eb6a945f13edebbde1f8"
   }
  }
 },
 "nbformat": 4,
 "nbformat_minor": 2
}
